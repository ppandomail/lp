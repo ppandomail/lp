{
 "cells": [
  {
   "cell_type": "markdown",
   "id": "44eada9d-b283-41fc-b180-ec3e3d0e0f1f",
   "metadata": {},
   "source": [
    "# Paradigma Funcional\n",
    "---"
   ]
  },
  {
   "cell_type": "markdown",
   "id": "62554c78-827e-46a4-94f1-5a8679cb35a5",
   "metadata": {},
   "source": [
    "* Es un paradigma declarativo que se basa en un modelo matemático de composición de funciones\n",
    "* En este modelo, el resultado de un cálculo es la entrada del siguiente, y así sucesivamente hasta que una composición produce el\n",
    "valor deseado, tal como sucede en la composición de funciones matemáticas\n",
    "* Los programas funcionales expresan mejor qué hay que calcular, y no detallan tanto cómo realizar dicho cálculo a diferencia de lo\n",
    "que ocurre en los programas imperativos\n",
    "* La característica principal de la programación funcional es que los cálculos se ven como una función matemática que hacen\n",
    "corresponder entradas y salidas"
   ]
  },
  {
   "cell_type": "markdown",
   "id": "4d79a2c1-b556-4f84-be34-ca87ba9f3a8d",
   "metadata": {},
   "source": [
    "## Lenguajes"
   ]
  },
  {
   "cell_type": "markdown",
   "id": "9afb1fb8-a095-48a7-821c-5f7bc46b821c",
   "metadata": {},
   "source": [
    "* Haskell\n",
    "* Lisp\n",
    "* Miranda\n",
    "* Scheme\n",
    "* Scala\n",
    "* Ocam\n",
    "* Clojure\n",
    "* Racket\n",
    "* ML\n",
    "* Gofer"
   ]
  },
  {
   "cell_type": "markdown",
   "id": "12867d36-0e0b-4b74-ae96-c92926cd818b",
   "metadata": {},
   "source": [
    "## Areas de aplicación"
   ]
  },
  {
   "cell_type": "markdown",
   "id": "801e6433-1db6-4938-a8e6-dc3b4aa97109",
   "metadata": {},
   "source": [
    "- **Demostraciones de teoremas**: Por su naturaleza “funcional” este paradigma es útiles en la demostración automática de teoremas, ya que permite especificar de manera adecuada y precisa problemas matemáticos.\n",
    "- **Creación de compiladores, analizadores sintácticos**: Su naturaleza inherentemente recursiva le permite modelar adecuadamente estos problemas.\n",
    "- Resolver problemas que requieran demostraciones por inducciones.\n",
    "- En la industria se puede usar para resolver problemas matemáticos complejos."
   ]
  },
  {
   "cell_type": "markdown",
   "id": "34902844-1d0a-4c40-a6b3-c5042903623b",
   "metadata": {},
   "source": [
    "## Funciones lambda"
   ]
  },
  {
   "cell_type": "markdown",
   "id": "dd70a938-8d1f-4e47-bd20-64bdd96bb05c",
   "metadata": {},
   "source": [
    "* Función anónima (sin nombre)\n",
    "* Se usa para abreviar\n",
    "* Nunca tendrá condicionales ni bucles"
   ]
  },
  {
   "cell_type": "code",
   "execution_count": 14,
   "id": "8a0bcb87-4f2a-4977-b6e4-2772c8abb663",
   "metadata": {},
   "outputs": [],
   "source": [
    "area = lambda b, h : (b * h) / 2"
   ]
  },
  {
   "cell_type": "code",
   "execution_count": 15,
   "id": "b44fbb52-cc7a-43a2-bcb3-709eb6c7fa36",
   "metadata": {},
   "outputs": [
    {
     "data": {
      "text/plain": [
       "17.5"
      ]
     },
     "execution_count": 15,
     "metadata": {},
     "output_type": "execute_result"
    }
   ],
   "source": [
    "area(5, 7)"
   ]
  },
  {
   "cell_type": "code",
   "execution_count": 16,
   "id": "cf4675ab-cb2a-423a-ae4d-3620503e8c70",
   "metadata": {},
   "outputs": [],
   "source": [
    "cubo = lambda n : pow(n, 3)"
   ]
  },
  {
   "cell_type": "code",
   "execution_count": 17,
   "id": "a77c6e7b-5338-452d-b4c5-9bce00dcefb9",
   "metadata": {},
   "outputs": [
    {
     "data": {
      "text/plain": [
       "8"
      ]
     },
     "execution_count": 17,
     "metadata": {},
     "output_type": "execute_result"
    }
   ],
   "source": [
    "cubo(2)"
   ]
  },
  {
   "cell_type": "markdown",
   "id": "8b7116fe-ffa1-495b-bbeb-00e2848c25fd",
   "metadata": {},
   "source": [
    "## Funciones de orden superior"
   ]
  },
  {
   "cell_type": "markdown",
   "id": "00806f3d-275b-48db-9ca0-0ed7519578e7",
   "metadata": {},
   "source": [
    "* Funciones pueden pasarse como argumentos de una función"
   ]
  },
  {
   "cell_type": "code",
   "execution_count": 18,
   "id": "03f503bb-db6d-4b5a-aa78-721e9786ae2c",
   "metadata": {},
   "outputs": [],
   "source": [
    "def aplica(f, arg):\n",
    "    return f(arg)\n",
    "\n",
    "def cuadrado(n):\n",
    "    return n * n\n",
    "\n",
    "def cubo(n):\n",
    "    return n**3"
   ]
  },
  {
   "cell_type": "code",
   "execution_count": 19,
   "id": "fa1af725-da37-4028-8a4c-8a74c5e237a9",
   "metadata": {},
   "outputs": [
    {
     "data": {
      "text/plain": [
       "4"
      ]
     },
     "execution_count": 19,
     "metadata": {},
     "output_type": "execute_result"
    }
   ],
   "source": [
    "aplica(cuadrado, 2)"
   ]
  },
  {
   "cell_type": "code",
   "execution_count": 20,
   "id": "9673d53e-f929-4d8f-8b3f-8963fe9f1df6",
   "metadata": {},
   "outputs": [
    {
     "data": {
      "text/plain": [
       "8"
      ]
     },
     "execution_count": 20,
     "metadata": {},
     "output_type": "execute_result"
    }
   ],
   "source": [
    "aplica(cubo, 2)"
   ]
  },
  {
   "cell_type": "markdown",
   "id": "e5106c20-c5f9-4599-928a-a2b6dd2e0852",
   "metadata": {},
   "source": [
    "### filter"
   ]
  },
  {
   "cell_type": "markdown",
   "id": "a71f36c3-1b6e-4da2-bd49-cbdd0cf6589c",
   "metadata": {},
   "source": [
    "* Verifica que los elementos de una secuencia cumplen una condición, devolviendo un iterador con los elementos que cumple dicha condición"
   ]
  },
  {
   "cell_type": "code",
   "execution_count": 21,
   "id": "fc95cb9e-fdd1-4c62-a0ca-13ea44a542b7",
   "metadata": {},
   "outputs": [],
   "source": [
    "def par(n):\n",
    "  return n % 2 == 0"
   ]
  },
  {
   "cell_type": "code",
   "execution_count": 22,
   "id": "86294e04-7bfb-4661-9115-62dd76d43f2e",
   "metadata": {},
   "outputs": [
    {
     "data": {
      "text/plain": [
       "[24, 8, 92]"
      ]
     },
     "execution_count": 22,
     "metadata": {},
     "output_type": "execute_result"
    }
   ],
   "source": [
    "list(filter(par, [17, 24, 7, 39, 8, 51, 92]))"
   ]
  },
  {
   "cell_type": "markdown",
   "id": "c2bead14-b196-495a-9339-c90351da158a",
   "metadata": {},
   "source": [
    "### map"
   ]
  },
  {
   "cell_type": "markdown",
   "id": "98b34b5d-7aaf-4320-aa45-d19fe345e224",
   "metadata": {},
   "source": [
    "* Aplica una función a cada elemento de una lista iterable (listas, tuplas, etc.)  devolviendo una lista con los resultados"
   ]
  },
  {
   "cell_type": "code",
   "execution_count": 23,
   "id": "37f29aa0-94f3-4cba-828e-fb650415ba8a",
   "metadata": {},
   "outputs": [],
   "source": [
    "def cuadrado(n):\n",
    "    return n * n"
   ]
  },
  {
   "cell_type": "code",
   "execution_count": 24,
   "id": "ab099b9e-cdd6-4948-8f1e-5b0a293c5cc9",
   "metadata": {},
   "outputs": [
    {
     "data": {
      "text/plain": [
       "[1, 4, 9, 16, 25]"
      ]
     },
     "execution_count": 24,
     "metadata": {},
     "output_type": "execute_result"
    }
   ],
   "source": [
    "list(map(cuadrado, [1, 2, 3, 4, 5]))"
   ]
  },
  {
   "cell_type": "markdown",
   "id": "4d61ebb1-ae8b-402b-984d-1d7d5c04b717",
   "metadata": {},
   "source": [
    "### reduce"
   ]
  },
  {
   "cell_type": "markdown",
   "id": "af47060b-13e0-4dd9-aefa-7bfd5a317c81",
   "metadata": {},
   "source": [
    "* Operar todos elementos de una colección iterable (reduce)\n",
    "* reduce(f, l): aplicar la función f a los dos primeros elementos de la secuencia l\n",
    "* Con ese valor vuelve aplicar con el siguiente"
   ]
  },
  {
   "cell_type": "code",
   "execution_count": 25,
   "id": "bbb5723a-c975-4075-be80-65a88a3e3062",
   "metadata": {},
   "outputs": [],
   "source": [
    "from functools import reduce\n",
    "\n",
    "def producto(n, m):\n",
    "    return n * m"
   ]
  },
  {
   "cell_type": "code",
   "execution_count": 26,
   "id": "4c26b145-9aff-4887-8f18-4c032b3719c1",
   "metadata": {},
   "outputs": [
    {
     "data": {
      "text/plain": [
       "120"
      ]
     },
     "execution_count": 26,
     "metadata": {},
     "output_type": "execute_result"
    }
   ],
   "source": [
    "reduce(producto, [1, 2, 3, 4, 5])"
   ]
  }
 ],
 "metadata": {
  "kernelspec": {
   "display_name": "Python [conda env:base] *",
   "language": "python",
   "name": "conda-base-py"
  },
  "language_info": {
   "codemirror_mode": {
    "name": "ipython",
    "version": 3
   },
   "file_extension": ".py",
   "mimetype": "text/x-python",
   "name": "python",
   "nbconvert_exporter": "python",
   "pygments_lexer": "ipython3",
   "version": "3.12.7"
  }
 },
 "nbformat": 4,
 "nbformat_minor": 5
}
