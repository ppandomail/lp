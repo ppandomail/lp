{
 "cells": [
  {
   "cell_type": "code",
   "execution_count": null,
   "id": "36ebf9ad-acd4-4f11-b503-de3e9407c36c",
   "metadata": {},
   "outputs": [],
   "source": []
  },
  {
   "cell_type": "code",
   "execution_count": null,
   "id": "dd4080b9-03f5-440a-8915-1a6b274ed0b3",
   "metadata": {},
   "outputs": [],
   "source": []
  },
  {
   "cell_type": "markdown",
   "id": "ac35303a-5c0a-4e8b-954d-68d7bf6036b9",
   "metadata": {},
   "source": [
    "# Sintaxis\n",
    "---"
   ]
  },
  {
   "cell_type": "markdown",
   "id": "521d81cc-9959-4c9a-8261-86b8734b4ce8",
   "metadata": {},
   "source": [
    "* Especifica la forma en la que se deben escribir los programas\n",
    "* Ejemplo:\n",
    "\n",
    "|||\n",
    "| -- | -- |\n",
    "| **Pascal** | v: array[1..10] of integer; |\n",
    "| **C**      | int v[10];                  |"
   ]
  },
  {
   "cell_type": "markdown",
   "id": "a7bde168-7e51-4ddd-bafe-8bb94dd945f7",
   "metadata": {},
   "source": [
    "![Hola Mundo](img/hola-mundo.JPG)"
   ]
  },
  {
   "cell_type": "markdown",
   "id": "51556253-b97e-4076-b1b6-fb3b98c9d508",
   "metadata": {},
   "source": [
    "![Hola Mundo en Ook](img/ook.jpg)"
   ]
  },
  {
   "cell_type": "markdown",
   "id": "09b3f1c1-dc6c-4451-b6c6-dedde962ab2a",
   "metadata": {},
   "source": [
    "## Tipos de sintaxis"
   ]
  },
  {
   "cell_type": "markdown",
   "id": "93983220-b512-4bec-9913-731f01ebd626",
   "metadata": {},
   "source": [
    "| Tipo | | Ejemplo |\n",
    "| -- | -- | -- |\n",
    "| **Abstracta**  | se refiere a la estructura   | while condición bloque |\n",
    "| **Concreta**   | se refiere a la parte léxica | en C: while (x != y) { ... } en Pascal: while x <> y begin ... end |\n",
    "| **Pragmática** | se refiere al uso práctico   | en C y Pascal {} o begin-end pueden omitirse si el bloque está compuesto por una sola sentencia |"
   ]
  },
  {
   "cell_type": "markdown",
   "id": "15577cf8-3be8-4b12-b67b-92f38b14d44b",
   "metadata": {},
   "source": [
    "## Elementos del lenguaje"
   ]
  },
  {
   "cell_type": "markdown",
   "id": "04e84e6e-c48c-43f3-8ac0-3756a6ee8fc8",
   "metadata": {},
   "source": [
    "* Cumplen las funciones de las palabras del lenguaje natural\n",
    "\n",
    "| Elemento |\n",
    "| -- |\n",
    "| Constantes |\n",
    "| Variables |\n",
    "| Palabras clave |\n",
    "| Parámetros |\n",
    "| Tipos |\n",
    "| Anotaciones |\n",
    "| etc. |"
   ]
  },
  {
   "cell_type": "markdown",
   "id": "7e28b049-94ed-4309-99c8-5fe85e3d8a04",
   "metadata": {},
   "source": [
    "## Reglas"
   ]
  },
  {
   "cell_type": "markdown",
   "id": "fbfb7d51-ead8-4dcd-aedb-a951677116d1",
   "metadata": {},
   "source": [
    "| Tipos | | Categorías | Ejemplo | Sistemas de formalización |\n",
    "| -- | -- | -- | -- | -- |\n",
    "| **Léxicas**     | Especifican cómo se escribe cada elemento | identificadores, palabras reservadas y símbolos especiales | Los identificadores comienzan con una letra, seguida de letras o números y tienen una longitud de 10 caracteres | ER: $L(L \\mid N)^9$ |\n",
    "| **Sintácticas** | Especifican cómo se combinan los elementos para formar programas | expresiones y sentencias | Una definición de función comienza con el tipo de valor de retorno, un identificador, a continuación una lista de parámetros formales y finalmente posee un cuerpo | GIC, BNF, EBNF, ABNF, ANTLR, Diagramas sintácticos | "
   ]
  },
  {
   "cell_type": "markdown",
   "id": "cfd7e849-460b-4236-ac61-2a1bc5bbd967",
   "metadata": {},
   "source": [
    "## Reglas Léxicas - ER"
   ]
  },
  {
   "cell_type": "markdown",
   "id": "2a962794-36df-48f3-906f-6f1c40d0b097",
   "metadata": {},
   "source": [
    "* Son patrones de caracteres\n",
    "* Describen formalmente los tokens de un lenguaje\n",
    "* Representan un Lenguaje Formal: LR\n",
    "  * ER primitivas: $\\emptyset$, $\\lambda$, $a \\in \\Sigma$\n",
    "  * ER derivadas: $\\alpha + \\beta$, $\\alpha \\beta$, $\\alpha^*$, $(\\alpha)$\n",
    "* Precedencia de operadores: $()$, $*$, $.$, $+$\n",
    "* Ejemplo: $(0 + 1)^* 01$\n",
    "* Dos ER son equivalentes si describen al mismo lenguaje. Ejemplos:\n",
    "  * $\\alpha + (\\beta + \\theta) = (\\alpha + \\beta) + \\theta$\n",
    "  * $\\alpha + \\beta = \\beta + \\alpha$\n",
    "  * $\\alpha^* \\alpha^* = \\alpha^*$\n",
    "* Ejemplos:\n",
    "\n",
    "  | ER                             | Describe ...                        |\n",
    "  | --                             | --                                  |\n",
    "  | ^\\d{2}/\\d{2}/\\d{4}             | una fecha DD/MM/YYYY                |\n",
    "  | Nov(\\.\\|iembre\\|ember\\|embro)? |  Nov, Noviembre, November, Novembro |\n",
    "  | \\(.*\\)                         | cualquier cadena entre paréntesis   |"
   ]
  },
  {
   "cell_type": "markdown",
   "id": "d44dec97-a1ac-44d6-b4ed-9af376b7ca2b",
   "metadata": {},
   "source": [
    "![Palabras Reservadas](img/keywords.jpg)"
   ]
  },
  {
   "cell_type": "markdown",
   "id": "de57b86e-1421-4deb-9dd0-766b370b3c98",
   "metadata": {},
   "source": [
    "![Operadores](img/operadores.jpg)"
   ]
  },
  {
   "cell_type": "markdown",
   "id": "2dba68d8-b1d3-4fdd-84f3-95d85fda6cba",
   "metadata": {},
   "source": [
    "![Comentarios](img/comentarios.jpg)"
   ]
  },
  {
   "cell_type": "markdown",
   "id": "66f96be4-1169-494e-804b-548214fa07ae",
   "metadata": {},
   "source": [
    "## Reglas Sintácticas - GIC"
   ]
  },
  {
   "cell_type": "markdown",
   "id": "02ebadc2-68f5-4556-8d5d-e03362df5764",
   "metadata": {},
   "source": [
    "* Generan un Lenguaje Formal: LIC\n",
    "* Conjunto de reglas finita que define un conjunto infinito de posibles sentencias válidas en el lenguaje\n",
    "* Diseñada por Noam Chomsky (jerarquía de Chomsky)\n",
    "* Una gramática está formada por una 4-tupla:\n",
    "\n",
    "  |||\n",
    "  | -- | -- |\n",
    "  | $\\Sigma_N$ | conjunto de símbolos no terminales |\n",
    "  | $\\Sigma_T$ | conjunto de símbolos terminales |\n",
    "  | $S$        | axioma o símbolo distinguido |\n",
    "  | $P$        | conjunto de producciones o reglas de reescritura. $\\Sigma_N \\rightarrow \\{\\Sigma_N \\cup \\Sigma_T\\}^*$ |\n",
    "\n",
    "* Ejemplo: Los constructores del lenguaje son expresiones que denotan objetos geométricos llamados \"retazos\" con una altura, un ancho y un patrón dibujado en ellos. Reglas:\n",
    "  1. Un retazo es una de las piezas primitivas, o\n",
    "  2. se forma girando 90° un retazo hacia la derecha, o\n",
    "  3. se forma cosiendo un retazo a la derecha de otro de igual altura\n",
    "  4. Ninguna otra cosa es un retazo\n",
    "\n",
    "\n",
    "        $S \\rightarrow retazo_1$\n",
    "        \n",
    "        $S \\rightarrow retazo_2$\n",
    "        \n",
    "        $S \\rightarrow girar(S)$\n",
    "        \n",
    "        $S \\rightarrow coser(S, S)$"
   ]
  },
  {
   "cell_type": "markdown",
   "id": "9d4c0fc7-b008-477b-b1b2-010011a1ba96",
   "metadata": {},
   "source": [
    "### Derivación"
   ]
  },
  {
   "cell_type": "markdown",
   "id": "f4c89212-970f-46e3-ba5f-4a1120623f64",
   "metadata": {},
   "source": [
    "* Es una secuencia que comienza con el axioma y en la que en cada paso se sustituye un símbolo no terminal de la cadena en curso por la parte derecha de una regla\n",
    "* Se dice que se tiene una derivación de una cadena del lenguaje cuando todos los símbolos de la cadena en curso son terminales\n",
    "* Ejemplo:\n",
    "\n",
    "$$S \\Rightarrow coser(S, S) \\Rightarrow coser(girar(S), S)  \\Rightarrow coser(girar(retazo_1), S) \\Rightarrow coser(girar(retazo_1), retazo_2)$$"
   ]
  },
  {
   "cell_type": "markdown",
   "id": "d096fee1-5812-495d-942f-60a1671f999e",
   "metadata": {},
   "source": [
    "### GIC para describir identificadores"
   ]
  },
  {
   "cell_type": "markdown",
   "id": "3d0cd30a-19d0-4082-a24d-3eb31727c1ef",
   "metadata": {},
   "source": [
    "$Identificador \\rightarrow Letra \\mid Identificador \\, Letra \\mid Identificador \\, Dígito$\n",
    "\n",
    "$Letra \\rightarrow A \\mid ... \\mid Z \\mid a \\mid ... \\mid z$\n",
    "\n",
    "$Dígito \\rightarrow  0 \\mid ... \\mid 9$"
   ]
  },
  {
   "cell_type": "markdown",
   "id": "6321b6ba-b542-4c7f-8060-0ddf7e56b048",
   "metadata": {},
   "source": [
    "### GIC para describir expresiones aritméticas"
   ]
  },
  {
   "cell_type": "markdown",
   "id": "9acfdf25-3deb-4fea-87f5-d37371643d0f",
   "metadata": {},
   "source": [
    "$Expresión \\rightarrow Término \\mid Expresión + Término$\n",
    "\n",
    "$Término \\rightarrow Factor \\mid Término * Factor$ \n",
    "\n",
    "$Factor \\rightarrow  Número \\mid (Expresión)$\n",
    "\n",
    "$Número \\rightarrow  0 \\mid ... \\mid 9$"
   ]
  },
  {
   "cell_type": "markdown",
   "id": "3b97a6bf-5e51-4f44-afd6-925018192e84",
   "metadata": {},
   "source": [
    "## BNF"
   ]
  },
  {
   "cell_type": "markdown",
   "id": "3e296357-9589-4631-b4db-1b84bf9b1d41",
   "metadata": {},
   "source": [
    "* Backus Naur Form\n",
    "* Con el breve Manual de Referencia del lenguaje ALGOL, se publicó por primera vez en 1960, una descripción formal de la sintaxis de un LP\n",
    "* Es una notación formal (\"metalenguaje\") para describir la sintaxis de otros lenguajes, ya que la GIC tiene muy pocos metasímbolos, dificultando la escritura y posterior comprensión de la sintaxis definida\n",
    "\n",
    "| Metasímbolo            |                                           |\n",
    "| --                     | --                                        |\n",
    "| \\<Simbolo no terminal> | distingue terminales de no terminales     |\n",
    "| ::=                    | parte izquierda \"reescribe\" parte derecha |\n",
    "| \\|                     | unión de reglas                           |"
   ]
  },
  {
   "cell_type": "markdown",
   "id": "268ec3c3-692e-4986-856a-12d0faad2ff1",
   "metadata": {},
   "source": [
    "### BNF para describir identificadores"
   ]
  },
  {
   "cell_type": "markdown",
   "id": "4dcca627-bb89-48ef-9d7e-eb62f2bca697",
   "metadata": {},
   "source": [
    "$<Identificador> ::= <Letra> | <Identificador> <Letra> | <Identificador> <Digito>$\n",
    "\n",
    "$<Letra> ::= A | ... | Z | a | ... | z$\n",
    "\n",
    "$<Digito> ::= 0 | ... | 9$ "
   ]
  },
  {
   "cell_type": "markdown",
   "id": "66048e81-ea25-455f-b31c-263da3554b83",
   "metadata": {},
   "source": [
    "### BNF para describir números enteros"
   ]
  },
  {
   "cell_type": "markdown",
   "id": "1b8ccf07-d09c-4e7f-9a20-551ae7b07c6c",
   "metadata": {},
   "source": [
    "$<número \\, entero> ::= <entero \\, sin \\, signo> | + <entero \\, sin \\, signo> | - <entero \\, sin \\, signo>$\n",
    "\n",
    "$<entero \\, sin \\, signo> ::= <digito> | <digito> <entero \\, sin \\, signo>$\n",
    "\n",
    "$<digito> ::= 0 | ... | 9$"
   ]
  },
  {
   "cell_type": "markdown",
   "id": "9452ae6c-9800-4e64-a0d7-800722ca652d",
   "metadata": {},
   "source": [
    "### BNF para controlar parentización"
   ]
  },
  {
   "cell_type": "markdown",
   "id": "bad39660-40d9-47e0-8f1c-998bd5d471d5",
   "metadata": {},
   "source": [
    "$<INICIO> ::= <PAR-ABRE> <INICIO> <PAR-CIERRA> | \\lambda | <INICIO> <INICIO>$\n",
    "\n",
    "$<PAR-ABRE> ::= ($\n",
    "\n",
    "$<PAR-CIERRA> ::= )$"
   ]
  },
  {
   "cell_type": "markdown",
   "id": "6dc8bc4e-ff59-4bf7-a91b-59a6f96da2b8",
   "metadata": {},
   "source": [
    "### BNF para expresiones aritméticas"
   ]
  },
  {
   "cell_type": "markdown",
   "id": "3a89a1a0-f578-401d-a813-26539205677d",
   "metadata": {},
   "source": [
    "$<asig> ::= <id> = <expr>$\n",
    "\n",
    "$<expr> ::= <exp> + <term>$\n",
    "\n",
    "$<expr> ::= <exp> - <term>$\n",
    "\n",
    "$<expr> ::= <term>$\n",
    "\n",
    "$<term> ::= <term> * <factor> | <term> / <factor>$\n",
    "\n",
    "$<term> ::= <factor>$\n",
    "\n",
    "$<factor> ::= <var> | <cte>$"
   ]
  },
  {
   "cell_type": "markdown",
   "id": "42f027fb-9856-4be8-8ecb-456a8c763bf5",
   "metadata": {},
   "source": [
    "### BNF para Lenguaje Colchita"
   ]
  },
  {
   "cell_type": "markdown",
   "id": "6f327344-07dd-4000-a743-689fab859453",
   "metadata": {},
   "source": [
    "$<expr> ::= a | b | girar (<expr>) | coser (<expr>, <exp>)$"
   ]
  },
  {
   "cell_type": "markdown",
   "id": "43695c06-0517-485a-a72a-bd2abb8bf1a8",
   "metadata": {},
   "source": [
    "### BNF para Lenguaje Colchita Avanzada"
   ]
  },
  {
   "cell_type": "markdown",
   "id": "98b8fa8d-f950-43fa-8891-03eba2538166",
   "metadata": {},
   "source": [
    "$<expr> ::= a | b | <name> | <name> (<actuals>) | girar (<expr>) | coser(<expr>,<expr>) | let <decls> in <exp> end$\n",
    "\n",
    "$<actuals> ::= <expr> | <expr> , <actuals>$\n",
    "\n",
    "$<decls> ::= <decl> | <decl> <decls>$\n",
    "\n",
    "$<decl> ::= fun <name> (<formals>) = <expr> | val <name> = <expr>$\n",
    "\n",
    "$<formals> ::= <name> | <name> , <formals>$\n",
    "\n",
    "$<name> ::= <c> | <c> <name>$\n",
    "\n",
    "$<c> ::= a | ... | z$\n",
    "\n",
    "\n",
    "* BNF de Colchita que incorpora funciones definidas por el usuario y declaraciones locales. Ejemplo:\n",
    "  * fun unturn (x) = turn(turn(turn(x)))\n",
    "  * fun pile(x, y) = unturn (sew(turn(y), turn(x)))\n",
    "* Las expresiones de asignación permiten que las declaraciones aparezcan dentro de las expresiones. Estas declaraciones tienen la siguiente forma: let \\<declaraciones\\> in \\<expresión\\> end\n",
    "* Ejemplo:\n",
    "\n",
    "     ```plain\n",
    "     let fun unturn (x) = turn(turn(turn(x)))\n",
    "          fun pile(x, y) = unturn (sew(turn(y), turn(x)))\n",
    "     in pile(unturn(b), turn(b))\n",
    "     end\n",
    "     ```\n",
    "\n",
    "* Declaraciones de valores, conveniente para escribir expresiones grandes en términos de otras más simples; es decir, asigna nombre a una expresión\n",
    "let val \\<nombre\\> = \\<expresión\\> in \\<expresión\\> end\n",
    "* Ejemplo:\n",
    "\n",
    "     ```plain\n",
    "     let val x = unturn(b)\n",
    "          val y = turn(b)\n",
    "     in sew(x, y)\n",
    "     end\n",
    "     ```"
   ]
  },
  {
   "cell_type": "markdown",
   "id": "b7cd2470-bee8-4bfa-ac3b-84c6d77da982",
   "metadata": {},
   "source": [
    "### BNF para un pequeño lenguaje"
   ]
  },
  {
   "cell_type": "markdown",
   "id": "0f22b964-f59b-4cf3-aa5e-f648c35f747c",
   "metadata": {},
   "source": [
    "$<program> ::= begin <stmt_list> end$\n",
    "\n",
    "$<stmt_list> ::= <stmt> | <stmt> ; <stmt_list>$\n",
    "\n",
    "$<stmt> ::= <var> = <expression>$\n",
    "\n",
    "$<var> ::= A | B | C$\n",
    "\n",
    "$<expression> ::= <var> + <var> | <var> - <var> | <var>$"
   ]
  },
  {
   "cell_type": "markdown",
   "id": "1f7da0ab-16f2-4f38-8017-bad2af01f91d",
   "metadata": {},
   "source": [
    "### BNF para Lenguaje Esencial"
   ]
  },
  {
   "cell_type": "markdown",
   "id": "86c6533f-ab0a-49f8-a42e-79a134b2b10f",
   "metadata": {},
   "source": [
    "* El único tipo de datos es entero no negativo\n",
    "* Los identificadores son declarados implícitamente, deben comenzar con una letra y están compuestos de letras y dígitos\n",
    "* El lenguaje contiene 2 enunciados de asignación:\n",
    "  * **incr** nombre; //incrementa en 1 el valor asignado al identificador nombre\n",
    "  * **decr** nombre; //decrementa en 1 (a menos que el valor por decrementar sea cero, en cuyo caso permanece con dicho valor)\n",
    "* El único otro enunciado es el par de enunciados de control: **while** nombre **<> 0 do;** ... **end;**\n",
    "el cual indica que es necesario repetir los enunciados que se encuentran entre los enunciados while y end mientras el valor asignado al identificador nombre no sea cero"
   ]
  },
  {
   "cell_type": "markdown",
   "id": "d1ef5bc1-18c5-4b48-8679-d1884625e64c",
   "metadata": {},
   "source": [
    "$<programa> ::= <sentencias>$\n",
    "\n",
    "$<sentencias> ::= <sentencia> | <sentencia> <sentencias>$\n",
    "\n",
    "$<sentencia> ::= <incremento> | <decremento> | <iteración>$\n",
    "\n",
    "$<incremento> ::= inc <identificador> ;$\n",
    "\n",
    "$<decremento> ::= dec <identificador> ;$\n",
    "\n",
    "$<iteración> ::= while <identificador> <> 0 do; <bloque> end;$\n",
    "\n",
    "$<bloque> ::= <sentencias>$\n",
    "\n",
    "$<identificador> ::= <letra> | <identificador> <letra> | <identificador> <dígito>$\n",
    "\n",
    "$<letra> ::= a | ... | z | A | ... | Z$\n",
    "\n",
    "$<dígito> ::= 0 | ... | 9$"
   ]
  },
  {
   "cell_type": "markdown",
   "id": "8ccd56e3-5d6e-4f2d-b168-4a8a6eb57a29",
   "metadata": {},
   "source": [
    "### BNF para Lenguaje Completo"
   ]
  },
  {
   "cell_type": "markdown",
   "id": "8f00e1df-2fae-404a-8e74-653918752003",
   "metadata": {},
   "source": [
    "![BNF](img/bnf.png)"
   ]
  },
  {
   "cell_type": "markdown",
   "id": "aa2ed255-2108-469d-95e3-8b30fc2ddc7b",
   "metadata": {},
   "source": [
    "### Limitaciones de BNF"
   ]
  },
  {
   "cell_type": "markdown",
   "id": "9c13fb1f-1009-4047-932d-f1e328575821",
   "metadata": {},
   "source": [
    "* Limitaciones de longitud de identificadores. Ejemplo, lenguaje que pide que los identificadores tengan como máximo 8 caracteres\n",
    "* Limitaciones de rangos en constantes\n",
    "* Ubicaciones dentro del código fuente (una variable debe estar declarada antes de ser usada)\n",
    "* Formateo de texto\n",
    "* Aplicabilidad de operaciones a constantes y variables de diferentes tipos\n",
    "* Esto obliga a ir a una definición por extensión, en lugar de por comprensión, se pierde el sentido de usar BNF"
   ]
  },
  {
   "cell_type": "markdown",
   "id": "fbfc226a-b3d0-4c63-8b03-f3e8bf5acf88",
   "metadata": {},
   "source": [
    "## EBNF"
   ]
  },
  {
   "cell_type": "markdown",
   "id": "fcc1e5f7-67c8-4ba5-be52-e81ebab15ad1",
   "metadata": {},
   "source": [
    "* Extended BNF\n",
    "* La realizó Niklaus Wirth a la notación BNF utilizada para describir la sintaxis de ALGOL\n",
    "\n",
    "| Metasímbolos que incorpora ||\n",
    "| -- | -- |\n",
    "| [ ]    | elemento optativo |\n",
    "| ( \\| ) | selección de una alternativa |\n",
    "| { }    | repetición |\n",
    "| *      | 0 o más veces |\n",
    "| +      | 1 o más veces |\n",
    "| ?      | 0 ó 1 vez     |"
   ]
  },
  {
   "cell_type": "markdown",
   "id": "842290a9-61a9-45af-a73c-9add1f5ca131",
   "metadata": {},
   "source": [
    "### EBNF para describir identificadores"
   ]
  },
  {
   "cell_type": "markdown",
   "id": "e4c1cb0d-93ed-47c5-a6e7-938856924762",
   "metadata": {},
   "source": [
    "$<Identificador> ::= <Letra>  \\{ <Letra \\, o \\, Dígito> \\}^*$\n",
    "\n",
    "$<Letra \\, o \\, Dígito> ::= <Letra> | <Dígito>$\n",
    "\n",
    "$<Letra> ::= A | ... | Z | a | ... | z$\n",
    "\n",
    "$<Dígito> ::= 0 | ... | 9$"
   ]
  },
  {
   "cell_type": "markdown",
   "id": "cd2b8353-5dfb-43a7-9ba7-ad290cb9c83f",
   "metadata": {},
   "source": [
    "### EBNF para describir números enteros"
   ]
  },
  {
   "cell_type": "markdown",
   "id": "3315e028-6852-432b-a3e4-6bf7db2d8717",
   "metadata": {},
   "source": [
    "$<enterosig> ::= [(+ | -)] <digito> \\{ <digito> \\}^*$\n",
    "\n",
    "$<dígito> ::= 0 | 1 | 2 | 3 | 4 | 5 | 6 | 7 | 8 | 9$"
   ]
  },
  {
   "cell_type": "markdown",
   "id": "512bc99e-e315-4d87-954b-4ccb2f25ae89",
   "metadata": {},
   "source": [
    "### EBNF para describir sentencias if y while"
   ]
  },
  {
   "cell_type": "markdown",
   "id": "aa3cd07f-1696-40da-901f-1a1eac6cd802",
   "metadata": {},
   "source": [
    "$<sentencia \\, if> ::= if <expresión> then <sentencia> | if <expresión> then <sentencia> else <sentencia>$\n",
    "\n",
    "$<sentencia \\, while> ::= while <expresión> do <sentencia>$"
   ]
  },
  {
   "cell_type": "markdown",
   "id": "d4491175-cc25-4e9f-91e4-efa16b5950d8",
   "metadata": {},
   "source": [
    "## ABNF"
   ]
  },
  {
   "cell_type": "markdown",
   "id": "a95eba32-749b-49ec-b4f3-b31bc55c831b",
   "metadata": {},
   "source": [
    "* Augmented BNF\n",
    "* C fue desarrollado entre 1969 y 1972 por Dennis Ritchie, con el objetivo principal de implementar el sistema operativo UNIX en un LP de alto nivel\n",
    "* A mediados de la década de los 80, el ANSI comenzó a desarrollar una estandarización de este LP. En 1990 se publicó MROC (Manual de Referencia Oficial de ANSI C)\n",
    "* A partir de ese momento, este LP es conocido como ANSI C\n",
    "\n",
    "| Metasímbolo | Representa |\n",
    "| -- | -- |\n",
    "| itálica | no terminales, ya no entre < > |\n",
    "| negrita | terminales |\n",
    "| :       | \"reescribe\", ya no ::= |\n",
    "| enter   | parte derecha, ya no \\| |\n",
    "| uno de  | varios lados derechos que son símbolos para un no terminal |\n",
    "| _op     | símbolo opcional, ya {exp} o {} |"
   ]
  },
  {
   "cell_type": "markdown",
   "id": "03e24887-7a87-4c94-a6c1-6c09b7f1ac57",
   "metadata": {},
   "source": [
    "### ABNF para describir un token"
   ]
  },
  {
   "cell_type": "markdown",
   "id": "982b9741-f85e-481f-89a5-e0c17899d460",
   "metadata": {},
   "source": [
    "```\n",
    "token:  palabraReservada\n",
    "        identificador\n",
    "        constante\n",
    "        operador\n",
    "```\n",
    "\n",
    "$token: _{uno \\, de}  palabraReservada \\, identificador \\, constante \\, operador$"
   ]
  },
  {
   "cell_type": "markdown",
   "id": "6c32a42a-841e-4ddc-ad9d-9c919f27571a",
   "metadata": {},
   "source": [
    "### ABNF para describir palabras reservadas"
   ]
  },
  {
   "cell_type": "markdown",
   "id": "b4c42901-ab96-491e-ac00-6c0f4ffc3363",
   "metadata": {},
   "source": [
    "$palabraReservada: _{uno \\, de}  char \\, do \\, double \\, else \\, float \\, for \\, if \\, int \\, long \\, return \\, sizeof \\, struct \\, typedef \\, void \\, while$"
   ]
  },
  {
   "cell_type": "markdown",
   "id": "8d14d8d6-fe12-469f-baf4-b3a2db9e512a",
   "metadata": {},
   "source": [
    "### ABNF para describir identificadores"
   ]
  },
  {
   "cell_type": "markdown",
   "id": "7219442e-be9a-4fae-a321-5f597a78b394",
   "metadata": {},
   "source": [
    "```\n",
    "identificador: noDígito\n",
    "               identificador noDígito\n",
    "               identificador dígito\n",
    "```\n",
    "\n",
    "$noDígito: _{uno \\, de}  a \\, ... \\, z \\, A \\, ... \\, Z$\n",
    "\n",
    "$dígito: _{uno \\, de}  0 \\, ... \\, 9$ "
   ]
  },
  {
   "cell_type": "markdown",
   "id": "100b5bc4-a9a7-4542-9ee2-fb5534380949",
   "metadata": {},
   "source": [
    "### ABNF para describir sentencias"
   ]
  },
  {
   "cell_type": "markdown",
   "id": "707165a7-af2e-4321-bc14-7b8ac8e10131",
   "metadata": {},
   "source": [
    "```\n",
    "sentencia: una de  sentCompuesta sentExpr sentSelección sentIteración sentSalto\n",
    "sentCompuesta: { listaDeclaraciones _op listaSentencias _op  }\n",
    "listaDeclaraciones: declaración\n",
    "                    listaDeclaraciones declaración\n",
    "listaSentencias: sentencia\n",
    "                 listaSentencias sentencia\n",
    "sentExpr: expresión _op ;\n",
    "sentSelección: if ( expresión ) sentencia\n",
    "               if ( expresión ) sentencia else sentencia\n",
    "               switch ( expresión ) sentencia \n",
    "sentIteración: while ( expresión ) sentencia\n",
    "               do sentencia while ( expresión );\n",
    "               for (expresión _op ; expresión _op ; expresión _op  ) sentencia \n",
    "sentSalto :  return expresión _op ;\n",
    "```"
   ]
  },
  {
   "cell_type": "markdown",
   "id": "fa133894-d053-4410-87c2-8c32a429ede7",
   "metadata": {},
   "source": [
    "### ABNF para describir Lenguaje Micro"
   ]
  },
  {
   "cell_type": "markdown",
   "id": "8b23d7ab-185a-4af6-aedc-761847c7a04f",
   "metadata": {},
   "source": [
    "* El único tipo de datos es entero\n",
    "* Todos los identificadores son declarados implícitamente y con una longitud máxima de 32 caracteres\n",
    "* Los identificadores deben comenzar con una letra y están compuestos de letras y dígitos\n",
    "* Hay dos tipos de sentencias:\n",
    "  * Asignación\n",
    "    * ID := Expresión;\n",
    "    * La expresión es infija y se construye con identificadores, constantes y los operadores + y -; los paréntesis están permitidos.\n",
    "  * Entrada/Salida\n",
    "    * leer(lista de IDs);\n",
    "    * escribir(lista de Expresiones);\n",
    "* Cada sentencia termina con un “punto y coma” (;). El cuerpo de un programa está delimitado por inicio y fin\n",
    "* inicio, fin, leer y escribir son palabras reservadas y deben escribirse en minúscula"
   ]
  },
  {
   "cell_type": "markdown",
   "id": "98469b91-1728-419d-a19a-af4f1f768dec",
   "metadata": {},
   "source": [
    "```\n",
    "programa: inicio sentencias fin\n",
    "sentencias: sentencia { sentencia }\n",
    "sentencia:  uno de identificador := expresión ; leer(identificadores) ; escribir(expresiones) ;\n",
    "identificadores:  identificador {,  identificador }\n",
    "expresiones:  expresión {,  expresión }\n",
    "expresión:  primaria { operadorAditivo primaria}\n",
    "primaria: uno de identificador  { expresión }\n",
    "identificador: letra { letraODigito }\n",
    "letraODigito:  uno de letra digito\n",
    "letra: una de a-z A-Z\n",
    "digito: uno de 0-9\n",
    "operadorAditivo: uno de + -\n",
    "```"
   ]
  },
  {
   "cell_type": "markdown",
   "id": "028e9f99-592b-41e3-93f4-ad496c0860d2",
   "metadata": {},
   "source": [
    "## Sintaxis para Java, Python, Kotlin, C++, Go"
   ]
  },
  {
   "cell_type": "markdown",
   "id": "0f6fdf0b-b9c5-470a-bd17-99eddbc64487",
   "metadata": {},
   "source": [
    "* Cada LP elige un sistema particular\n",
    "\n",
    "  | LP | URL |\n",
    "  | -- | -- |\n",
    "  | Java   | [https://docs.oracle.com/javase/specs/jls/se7/html/jls-18.html](https://docs.oracle.com/javase/specs/jls/se7/html/jls-18.html) |\n",
    "  | Python | [https://docs.python.org/3/reference/grammar.html](https://docs.python.org/3/reference/grammar.html) |\n",
    "  | Kotlin | [https://kotlinlang.org/docs/reference/grammar.html](https://kotlinlang.org/docs/reference/grammar.html) |\n",
    "  | C++    | [https://alx71hub.github.io/hcb/](https://alx71hub.github.io/hcb/) |\n",
    "  | Go     | [https://go.dev/ref/spec](https://go.dev/ref/spec) |\n",
    "  | C      | [https://cs.wmich.edu/~gupta/teaching/cs4850/sumII06/The%20syntax%20of%20C%20in%20Backus-Naur%20form.htm](https://cs.wmich.edu/~gupta/teaching/cs4850/sumII06/The%20syntax%20of%20C%20in%20Backus-Naur%20form.htm) |"
   ]
  },
  {
   "cell_type": "markdown",
   "id": "e4698cd8-b079-4592-98f0-c657c953bde8",
   "metadata": {},
   "source": [
    "## Algunas herramientas que utilizan mecanismos de definición de sintaxis"
   ]
  },
  {
   "cell_type": "markdown",
   "id": "18253ed1-18a7-4e8c-8eae-db07a24a3e00",
   "metadata": {},
   "source": [
    "| Herramienta | URL |\n",
    "| -- | -- |\n",
    "| CUP (Construction of Useful Parsers)          | [http://www2.cs.tum.edu/projects/cup/](http://www2.cs.tum.edu/projects/cup/) |\n",
    "| YACC (Yet Another Compiler-Compiler)          |  |\n",
    "| ANTLR (ANother Tool for Language Recognition) | [https://www.antlr.org/](https://www.antlr.org/) |\n",
    "| GNU Bison                                     | [https://www.gnu.org/software/bison/](https://www.gnu.org/software/bison/) |\n",
    "| LLVM                                          | [https://llvm.org/](https://llvm.org/) |"
   ]
  },
  {
   "cell_type": "markdown",
   "id": "87520a8e-61de-4b99-a72e-f97800c7181b",
   "metadata": {},
   "source": [
    "## Árboles sintácticos"
   ]
  },
  {
   "cell_type": "markdown",
   "id": "51cb6103-f252-4bb9-bff4-61e8136de47a",
   "metadata": {},
   "source": [
    "* No todas las oraciones que se pueden armar con los terminales son válidas\n",
    "* Se necesita de un método de análisis (reconocimiento) que permita determinar si un string dado es válido o no en el lenguaje: **Parsing**\n",
    "* El parser, para cada sentencia construye un **árbol sintáctico (parsing) o árbol de derivación**\n",
    "* Representa gráficamente el proceso de reemplazo o sustitución dentro de una derivación\n",
    "* Verificar que un programa o fragmento está correctamente escrito según una gramática\n",
    "* La raíz debe coincidir con el axioma de la gramática\n",
    "* Los no terminales están en los nodos interiores\n",
    "* Las terminales están en las hojas"
   ]
  },
  {
   "cell_type": "markdown",
   "id": "5bb2b847-b8f3-4775-815e-bd013bd274cd",
   "metadata": {},
   "source": [
    "![Árbol de Parsing](img/arbol.png)"
   ]
  },
  {
   "cell_type": "markdown",
   "id": "2bd1a81b-1b3e-47e7-bdbf-9d620aadca3a",
   "metadata": {},
   "source": [
    "### Construcción del árbol sintáctico"
   ]
  },
  {
   "cell_type": "markdown",
   "id": "dfcd2145-477f-4df9-95b7-acd4e737046e",
   "metadata": {},
   "source": [
    "* El proceso de compilación consiste en construir el árbol sintáctico\n",
    "* Si se puede construir el árbol, el programa está bien escrito\n",
    "* Si no se puede hacer el árbol sintáctico, el programa contiene errores sintácticos\n",
    "* Si hay más de un árbol sintáctico para la misma expresión, la gramática es ambigua\n",
    "\n",
    "  | Tipos de parsing | | Ejemplo |\n",
    "  | -- | -- | -- |\n",
    "  | **Descendente** | desde el axioma hacia los terminales (de la raíz hacia las hojas) | ![Parsing Descendente](img/parsing-descendente.png) |\n",
    "  | **Ascendente**  | desde los terminales hacia el axioma (de las hojas hacia la raíz) | ![Parsing Ascendente](img/parsing-ascendente.png) |"
   ]
  },
  {
   "cell_type": "markdown",
   "id": "c4556f83-90a8-441b-b343-cb47855648df",
   "metadata": {},
   "source": [
    "## Diagramas sintácticos (CONWAY)"
   ]
  },
  {
   "cell_type": "markdown",
   "id": "ee40c773-c1fc-4799-b22d-915d2a28f93d",
   "metadata": {},
   "source": [
    "* Es un grafo o carta sintáctica\n",
    "* Cada diagrama tiene una entrada y una salida, y el camino determina el análisis\n",
    "* Cada diagrama representa una regla o producción\n",
    "* Para que una sentencia sea válida, debe haber un camino desde la entrada hasta la salida que la describa\n",
    "* Se visualiza y entiende mejor que BNF o EBNF\n",
    "* Se ha venido utilizando desde la década de los 70\n",
    "* Uno de los primeros lenguajes en ser así representados es Pascal"
   ]
  },
  {
   "cell_type": "markdown",
   "id": "31cade83-3097-4bac-91b5-452a9cba8feb",
   "metadata": {},
   "source": [
    "![Diagramas sintácticos CONWAY](img/conway.png)"
   ]
  },
  {
   "cell_type": "markdown",
   "id": "9b25aa1d-b77d-4537-af5c-68eb94ca8627",
   "metadata": {},
   "source": [
    "![Ejemplos CONWAY](img/conway-ejemplo.png)"
   ]
  },
  {
   "cell_type": "markdown",
   "id": "3dce1175-0f0b-4beb-b256-b50577c2f8c9",
   "metadata": {},
   "source": [
    "![Ejemplos CONWAY](img/conway-ejemplo2.GIF)"
   ]
  },
  {
   "cell_type": "markdown",
   "id": "d2b56559-7a69-4186-a628-a197dffb102d",
   "metadata": {},
   "source": [
    "![Ejemplos CONWAY](img/conway-ejemplo3.PNG)"
   ]
  },
  {
   "cell_type": "markdown",
   "id": "20eb6ce2-2019-4581-9499-cacbb9c5f053",
   "metadata": {},
   "source": [
    "![Ejemplos CONWAY](img/conway-ejemplo4.png)"
   ]
  }
 ],
 "metadata": {
  "kernelspec": {
   "display_name": "Python [conda env:base] *",
   "language": "python",
   "name": "conda-base-py"
  },
  "language_info": {
   "codemirror_mode": {
    "name": "ipython",
    "version": 3
   },
   "file_extension": ".py",
   "mimetype": "text/x-python",
   "name": "python",
   "nbconvert_exporter": "python",
   "pygments_lexer": "ipython3",
   "version": "3.12.7"
  }
 },
 "nbformat": 4,
 "nbformat_minor": 5
}
