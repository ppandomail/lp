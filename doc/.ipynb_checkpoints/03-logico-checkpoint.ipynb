{
 "cells": [
  {
   "cell_type": "markdown",
   "id": "71ddde4e-465f-4773-8221-9bc76f3985bf",
   "metadata": {},
   "source": [
    "# Paradigma Lógico\n",
    "---"
   ]
  },
  {
   "cell_type": "markdown",
   "id": "5331b110-324f-48e3-9f9c-f17bf87f9364",
   "metadata": {},
   "source": [
    "* Se basa en la lógica matemática (lógica de predicados). Trata sobre la relación entre los objetos o entidades. Por ejemplo: \"Juan es el padre de Maria\"\n",
    "* Se centra en la descripción de la solución de un problema, en lugar de la secuencia de instrucciones para llegar a ella\n",
    "* En la programación lógica, un programa se define como un conjunto de hechos y reglas\n",
    "    * **Hecho**: declaración verdadera\n",
    "    * **Regla**: describe como se derivan nuevos hechos a partir de otros hechos y reglas\n",
    "* Un programa se ejecuta mediante una búsqueda de solución (consulta)\n",
    "* La búsqueda de solución se realiza mediante la aplicación de reglas y la unificación de variables. La unificación es un proceso que permite encontrar valores para las variables en una regla de manera que la regla se convierta en verdadera"
   ]
  },
  {
   "cell_type": "markdown",
   "id": "66e49f71-2a7f-41c6-bf30-f68a9e3a1a61",
   "metadata": {},
   "source": [
    "## Lenguajes"
   ]
  },
  {
   "cell_type": "markdown",
   "id": "78e98bb3-6afe-456a-b5a7-6a3c91bb3fb8",
   "metadata": {},
   "source": [
    "* Prolog\n",
    "* Planner"
   ]
  },
  {
   "cell_type": "markdown",
   "id": "1e1f48c8-e476-4838-9359-6c0d3a49b38b",
   "metadata": {},
   "source": [
    "## Aplicación"
   ]
  },
  {
   "cell_type": "markdown",
   "id": "1d7d5686-765a-4500-b584-05d255ad3d66",
   "metadata": {},
   "source": [
    "* Inteligencia Artificial\n",
    "* Sistemas expertos\n",
    "* Procesamiento de lenguaje natural\n",
    "* Verificación formal de programa\n",
    "* Optimización de recursos"
   ]
  },
  {
   "cell_type": "code",
   "execution_count": 2,
   "id": "57e96b64-3949-46b6-853e-7b0466587b0a",
   "metadata": {},
   "outputs": [],
   "source": [
    "import janus_swi as janus"
   ]
  },
  {
   "cell_type": "code",
   "execution_count": 3,
   "id": "211e9d89-e8c1-4d6a-bd07-4cf2627696ee",
   "metadata": {},
   "outputs": [
    {
     "data": {
      "text/plain": [
       "{'truth': True, 'R': 3}"
      ]
     },
     "execution_count": 3,
     "metadata": {},
     "output_type": "execute_result"
    }
   ],
   "source": [
    "janus.consult('suma', 'suma(A, B, Resultado) :- Resultado is A + B.')\n",
    "janus.query_once('suma(1, 2, R).')"
   ]
  },
  {
   "cell_type": "code",
   "execution_count": 20,
   "id": "3dbb44e3-31a0-4971-9f8e-33d691c1a0e6",
   "metadata": {},
   "outputs": [
    {
     "data": {
      "text/plain": [
       "{'truth': True, 'R': 6}"
      ]
     },
     "execution_count": 20,
     "metadata": {},
     "output_type": "execute_result"
    }
   ],
   "source": [
    "janus.consult('factorial', '''\n",
    "factorial(0, 1).\n",
    "factorial(N, Resultado) :- N > 0, N1 is N - 1, factorial(N1, Resultado1), Resultado is N * Resultado1.\n",
    "''')\n",
    "janus.query_once('factorial(3, R).')"
   ]
  },
  {
   "cell_type": "code",
   "execution_count": 25,
   "id": "66198a8d-6e42-4897-ade6-74086455e8d0",
   "metadata": {},
   "outputs": [
    {
     "data": {
      "text/plain": [
       "{'truth': True}"
      ]
     },
     "execution_count": 25,
     "metadata": {},
     "output_type": "execute_result"
    }
   ],
   "source": [
    "janus.consult('comunicacion', '''\n",
    "habla(ale,ruso).\n",
    "habla(juan,ingles).\n",
    "habla(maria,ruso).\n",
    "habla(maria,ingles).\n",
    "seComunicaCon(X,Y) :- habla(X,L), habla(Y,L), X\\\\=Y.\n",
    "''')\n",
    "janus.query_once('seComunicaCon(ale, maria).')"
   ]
  },
  {
   "cell_type": "code",
   "execution_count": 26,
   "id": "3df211f6-0f42-4b2e-8397-929b7e4f47dd",
   "metadata": {},
   "outputs": [
    {
     "data": {
      "text/plain": [
       "{'truth': False}"
      ]
     },
     "execution_count": 26,
     "metadata": {},
     "output_type": "execute_result"
    }
   ],
   "source": [
    "janus.consult('edades', '''\n",
    "persona(ana).\n",
    "persona(pepe).\n",
    "persona(juan).\n",
    "persona(josé).\n",
    "edad(ana, 23).\n",
    "edad(pepe, 19).\n",
    "edad(juan, 14).\n",
    "edad(josé, 5).\n",
    "persona_mayor_edad(P) :- persona(P), edad(P,E), E>18.\n",
    "persona_mayor_que(P1,P2) :- persona(P1), persona(P2), edad(P1,E1), edad(P2,E2), E1>E2.\n",
    "''')\n",
    "janus.query_once('persona_mayor_edad(juan).')"
   ]
  },
  {
   "cell_type": "code",
   "execution_count": 28,
   "id": "a1e6b6d9-0eb9-4f87-a5c6-bf9ba378bfb8",
   "metadata": {},
   "outputs": [
    {
     "data": {
      "text/plain": [
       "{'truth': True}"
      ]
     },
     "execution_count": 28,
     "metadata": {},
     "output_type": "execute_result"
    }
   ],
   "source": [
    "janus.consult('familia', '''\n",
    "padre(juan, alberto).\n",
    "padre(luis, alberto).\n",
    "padre(alberto, leoncio).\n",
    "padre(gerónimo, leoncio).\n",
    "padre(luis, gerónimo).\n",
    "hermano(A,B) :- padre(A,P), padre(B,P), A \\\\= B.\n",
    "nieto(A,B) :- padre(A,P), padre(P,B).\n",
    "''')\n",
    "janus.query_once('hermano(alberto, gerónimo).')"
   ]
  },
  {
   "cell_type": "code",
   "execution_count": 38,
   "id": "cb86981e-e858-4eec-b375-264ce9839290",
   "metadata": {},
   "outputs": [
    {
     "data": {
      "text/plain": [
       "{'truth': False, 'R': None}"
      ]
     },
     "execution_count": 38,
     "metadata": {},
     "output_type": "execute_result"
    }
   ],
   "source": [
    "janus.consult('longitud', '''\n",
    "longitud([], 0).\n",
    "longitud([_|Y], N) :- M = N + 1, longitud(Y, M).\n",
    "''')\n",
    "janus.query_once('longitud([1, 2], R).')"
   ]
  },
  {
   "cell_type": "code",
   "execution_count": 39,
   "id": "c8ca6f77-888a-485d-8bf2-c186f74ec0e6",
   "metadata": {},
   "outputs": [
    {
     "data": {
      "text/plain": [
       "{'truth': True, 'L': [2, 4, 6, 8, 10]}"
      ]
     },
     "execution_count": 39,
     "metadata": {},
     "output_type": "execute_result"
    }
   ],
   "source": [
    "janus.consult('family', '''\n",
    "pares([], []).\n",
    "pares([X|Resto], Pares) :- 0 is X mod 2, pares(Resto, ParesResto), Pares = [X|ParesResto].\n",
    "pares([X|Resto], Pares) :- 1 is X mod 2, pares(Resto, Pares).\n",
    "''')\n",
    "janus.query_once('pares([1, 2, 3, 4, 5, 6, 7, 8, 9, 10], L).') "
   ]
  }
 ],
 "metadata": {
  "kernelspec": {
   "display_name": "Python [conda env:base] *",
   "language": "python",
   "name": "conda-base-py"
  },
  "language_info": {
   "codemirror_mode": {
    "name": "ipython",
    "version": 3
   },
   "file_extension": ".py",
   "mimetype": "text/x-python",
   "name": "python",
   "nbconvert_exporter": "python",
   "pygments_lexer": "ipython3",
   "version": "3.12.7"
  }
 },
 "nbformat": 4,
 "nbformat_minor": 5
}
