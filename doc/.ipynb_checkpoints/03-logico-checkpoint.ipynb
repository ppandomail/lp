{
 "cells": [
  {
   "cell_type": "markdown",
   "id": "71ddde4e-465f-4773-8221-9bc76f3985bf",
   "metadata": {},
   "source": [
    "# Paradigma Lógico\n",
    "---"
   ]
  },
  {
   "cell_type": "markdown",
   "id": "5331b110-324f-48e3-9f9c-f17bf87f9364",
   "metadata": {},
   "source": [
    "* Se basa en la lógica matemática (lógica de predicados). Trata sobre la relación entre los objetos o entidades. Por ejemplo: \"Juan es el padre de Maria\"\n",
    "* Se centra en la descripción de la solución de un problema, en lugar de la secuencia de instrucciones para llegar a ella\n",
    "* * En la programación lógica, el programa especifica conocimiento acerca del problema a resolver; se hace pregunta y se deja que el sistema deduzca la respuesta\n",
    "  * Basado en **lógica de primer orden** (reglas de la lógica, lenguaje preciso para expresar conocimiento)\n",
    "  * Deducir **consecuencias a partir de premisas** (inferir conclusiones a partir de datos)\n",
    "* En la programación lógica, un programa se define como un conjunto de hechos y reglas\n",
    "* Un programa se ejecuta mediante una búsqueda de solución (consulta)\n",
    "* La búsqueda de solución se realiza mediante la aplicación de reglas y la unificación de variables. La unificación es un proceso que permite encontrar valores para las variables en una regla de manera que la regla se convierta en verdadera"
   ]
  },
  {
   "cell_type": "markdown",
   "id": "66e49f71-2a7f-41c6-bf30-f68a9e3a1a61",
   "metadata": {},
   "source": [
    "## Lenguajes"
   ]
  },
  {
   "cell_type": "markdown",
   "id": "78e98bb3-6afe-456a-b5a7-6a3c91bb3fb8",
   "metadata": {},
   "source": [
    "* Prolog\n",
    "* Planner"
   ]
  },
  {
   "cell_type": "markdown",
   "id": "1e1f48c8-e476-4838-9359-6c0d3a49b38b",
   "metadata": {},
   "source": [
    "## Aplicación"
   ]
  },
  {
   "cell_type": "markdown",
   "id": "1d7d5686-765a-4500-b584-05d255ad3d66",
   "metadata": {},
   "source": [
    "* Inteligencia Artificial\n",
    "* Sistemas expertos\n",
    "* Procesamiento de lenguaje natural\n",
    "* Verificación formal de programa\n",
    "* Optimización de recursos"
   ]
  },
  {
   "cell_type": "markdown",
   "id": "10202b1a-ceda-4721-a20d-4d283721d2b5",
   "metadata": {},
   "source": [
    "## Prolog (PROgrammation en LOGique)"
   ]
  },
  {
   "cell_type": "markdown",
   "id": "40eec3cb-c8c8-44b8-86b4-f753b4ded9d9",
   "metadata": {},
   "source": [
    "* Originado en Francia en 1972, por Alain Colmerauer y Philippe Roussel\n",
    "* En 1995 fue estandarizado, bajo ISO (como C++, Ada, Fortran)\n",
    "* Es un lenguaje de programación lógico e interpretado\n",
    "* Para usarlo online:  [Prolog Online](https://swish.swi-prolog.org/)\n",
    "* Para usarlo del Python: [Prolog embebido en Python](https://pypi.org/project/janus-swi/)"
   ]
  },
  {
   "cell_type": "code",
   "execution_count": 2,
   "id": "57e96b64-3949-46b6-853e-7b0466587b0a",
   "metadata": {},
   "outputs": [],
   "source": [
    "import janus_swi as janus"
   ]
  },
  {
   "cell_type": "markdown",
   "id": "28a88c2b-4c8c-47f4-a746-80e25759caf3",
   "metadata": {},
   "source": [
    "### Sintaxis"
   ]
  },
  {
   "cell_type": "markdown",
   "id": "2a0145f9-1b46-4d3a-a037-408859dc3be5",
   "metadata": {},
   "source": [
    "* Un programa en Prolog es un conjunto de **Hechos**  y **Reglas**\n",
    "\n",
    "$$H \\rightarrow TER.$$\n",
    "$$R \\rightarrow TERS :- TERS.$$\n",
    "$$Q \\rightarrow TERS.$$ \n",
    "$$TER \\rightarrow NUM \\mid ATOMO \\mid VAR \\mid ATOMO (TERS)$$\n",
    "$$TERS \\rightarrow TER \\mid TER,TERS$$\n",
    "\n",
    "* Ejemplos de términos:\n",
    "  * número: **1975**\n",
    "  * átomo: **pepe**\n",
    "  * variable: **X**\n",
    "  * predicado: **padre(pepe, ana)**\n",
    "  * predicado más complejo: **serie(los_simpsons, autor(Nom, Ape))**\n",
    "* Atención!!!\n",
    "    * Los comentarios empiezan con el símbolo %\n",
    "    * Constantes y predicados empiezan con minúsculas\n",
    "    * Los hechos acaban en punto\n",
    "    * Variables comienzan con mayúsculas"
   ]
  },
  {
   "cell_type": "markdown",
   "id": "806ae3fd-84ff-4ce4-af4c-5416703ec6b5",
   "metadata": {},
   "source": [
    "### Hechos"
   ]
  },
  {
   "cell_type": "markdown",
   "id": "db37591f-5bff-4166-bd9d-714e99b9fa9f",
   "metadata": {},
   "source": [
    "* Son los predicados. Esta formado por un término\n",
    "* Son siempre verdaderas\n",
    "* Representan la base de conocimiento"
   ]
  },
  {
   "cell_type": "code",
   "execution_count": 3,
   "id": "a1e6b6d9-0eb9-4f87-a5c6-bf9ba378bfb8",
   "metadata": {},
   "outputs": [],
   "source": [
    "janus.consult('progenitor', '''\n",
    "progenitor(pilar,belen).\n",
    "progenitor(tomas,belen).\n",
    "progenitor(tomas,lucia).\n",
    "progenitor(belen,ana).\n",
    "progenitor(belen,pedro).\n",
    "progenitor(pedro,jose).\n",
    "progenitor(pedro,maria).\n",
    "''')"
   ]
  },
  {
   "cell_type": "code",
   "execution_count": 4,
   "id": "42e47cb7-0a87-407f-9890-f24441e01ff2",
   "metadata": {},
   "outputs": [
    {
     "data": {
      "text/plain": [
       "[{'truth': True}]"
      ]
     },
     "execution_count": 4,
     "metadata": {},
     "output_type": "execute_result"
    }
   ],
   "source": [
    "list(janus.query('progenitor(pilar,belen).')) # Se puede deducir y el objetivo no tiene variables"
   ]
  },
  {
   "cell_type": "code",
   "execution_count": 5,
   "id": "1295abc3-f9e3-4db4-a65b-4ce234548885",
   "metadata": {},
   "outputs": [
    {
     "data": {
      "text/plain": [
       "[]"
      ]
     },
     "execution_count": 5,
     "metadata": {},
     "output_type": "execute_result"
    }
   ],
   "source": [
    "list(janus.query('progenitor(pilar,lucia).')) # No se puede deducir. Todo lo que no está declarado es falso "
   ]
  },
  {
   "cell_type": "code",
   "execution_count": 6,
   "id": "6ae33486-bafc-4024-89e9-f93674514c48",
   "metadata": {},
   "outputs": [
    {
     "data": {
      "text/plain": [
       "[{'truth': True, 'X': 'ana'}, {'truth': True, 'X': 'pedro'}]"
      ]
     },
     "execution_count": 6,
     "metadata": {},
     "output_type": "execute_result"
    }
   ],
   "source": [
    "list(janus.query('progenitor(belen, X).'))    # Substitución de Respuesta: Se puede deducir y el objetivo tiene variables"
   ]
  },
  {
   "cell_type": "markdown",
   "id": "79c6ead8-5180-4b43-8f15-fc35e125b83c",
   "metadata": {},
   "source": [
    "### Reglas"
   ]
  },
  {
   "cell_type": "markdown",
   "id": "62ef06ee-44bf-4dc6-a5ca-27bd0d23507e",
   "metadata": {},
   "source": [
    "* Son las **cláusulas de Horn**\n",
    "* Constituyen reglas del tipo \"modus ponendo ponens\", es decir, \"si es verdad el antecedente, entonces es verdad el consecuente\"\n",
    "* Forma de escribir las cláusulas de Horn es al contrario de lo habitual. Primero se escribe el consecuente y luego el antecedente\n",
    "* El antecedente puede ser una conjunción de condiciones que se denomina secuencia de objetivos\n",
    "* Es un predicado con cuerpo\n",
    "* El cuerpo es un conjunto de predicados que tienen que ser verdaderos para poder afirmar que la regla es verdadera\n",
    "* Las reglas pueden ser: simples, con variables, recursivas, con funciones"
   ]
  },
  {
   "cell_type": "markdown",
   "id": "a79ded38-b0ca-4805-a410-4729ee6d4ec8",
   "metadata": {},
   "source": [
    "#### Regla Simple"
   ]
  },
  {
   "cell_type": "markdown",
   "id": "f0130f40-ae73-467e-850f-a76ea9cf9a50",
   "metadata": {},
   "source": [
    "* Ejemplo: \"Belén cuida a Pedro si Belén está en paro y Pedro es bueno\"\n",
    "* Lógica de predicado:\n",
    "\n",
    "$$paro(belen) \\wedge bueno(pedro) \\rightarrow cuida(belen,pedro)$$"
   ]
  },
  {
   "cell_type": "code",
   "execution_count": 7,
   "id": "024d014c-d228-4730-ae03-7c822faa613f",
   "metadata": {},
   "outputs": [],
   "source": [
    "janus.consult('regla simple', '''\n",
    "paro(belen).\n",
    "bueno(pedro).\n",
    "cuida(belen,pedro) :- paro(belen), bueno(pedro).\n",
    "''')"
   ]
  },
  {
   "cell_type": "code",
   "execution_count": 8,
   "id": "2e2d2d0a-8669-47fa-b986-5632cf4695ca",
   "metadata": {},
   "outputs": [
    {
     "data": {
      "text/plain": [
       "[{'truth': True}]"
      ]
     },
     "execution_count": 8,
     "metadata": {},
     "output_type": "execute_result"
    }
   ],
   "source": [
    "list(janus.query('cuida(belen,pedro).'))"
   ]
  },
  {
   "cell_type": "markdown",
   "id": "35016c0f-9a34-4cf2-8e9a-8c88589cd709",
   "metadata": {},
   "source": [
    "#### Regla con variables"
   ]
  },
  {
   "cell_type": "markdown",
   "id": "14901e7a-aec2-4409-b9ce-9f95197a0596",
   "metadata": {},
   "source": [
    "* Ejemplo: \"Para todo X e Y, si X es mujer y X es el progenitor de Y, entonce X es la madre de Y\"\n",
    "* Lógica de predicado:\n",
    "\n",
    "$$\\forall x \\forall y (mujer(x) \\wedge progenitor(x,y) \\rightarrow madre(x,y))$$"
   ]
  },
  {
   "cell_type": "code",
   "execution_count": 9,
   "id": "4cd2a63b-3177-41e0-bbf8-d4def8f7f50d",
   "metadata": {},
   "outputs": [],
   "source": [
    "janus.consult('regla con variables', '''\n",
    "mujer(pilar).\n",
    "mujer(belen).\n",
    "mujer(lucia).\n",
    "mujer(ana).\n",
    "mujer(maria).\n",
    "hombre(tomas).\n",
    "hombre(pedro).\n",
    "hombre(jose).\n",
    "madre(X,Y) :- mujer(X), progenitor(X,Y).\n",
    "''')"
   ]
  },
  {
   "cell_type": "code",
   "execution_count": 10,
   "id": "df0bd7b8-6c0e-4e92-bc2a-0039e49498b2",
   "metadata": {},
   "outputs": [
    {
     "data": {
      "text/plain": [
       "[{'truth': True}]"
      ]
     },
     "execution_count": 10,
     "metadata": {},
     "output_type": "execute_result"
    }
   ],
   "source": [
    "list(janus.query('madre(belen,pedro).'))"
   ]
  },
  {
   "cell_type": "code",
   "execution_count": 11,
   "id": "d6a5d6bb-b009-4d56-a295-5b4a9be39b7f",
   "metadata": {},
   "outputs": [
    {
     "data": {
      "text/plain": [
       "[{'truth': True, 'X': 'pilar'}]"
      ]
     },
     "execution_count": 11,
     "metadata": {},
     "output_type": "execute_result"
    }
   ],
   "source": [
    "list(janus.query('madre(X,belen).'))"
   ]
  },
  {
   "cell_type": "code",
   "execution_count": 12,
   "id": "2203632f-d435-476a-85e5-aa7367ef4ee7",
   "metadata": {},
   "outputs": [
    {
     "data": {
      "text/plain": [
       "[{'truth': True, 'X': 'ana'}, {'truth': True, 'X': 'pedro'}]"
      ]
     },
     "execution_count": 12,
     "metadata": {},
     "output_type": "execute_result"
    }
   ],
   "source": [
    "list(janus.query('madre(belen,X).'))"
   ]
  },
  {
   "cell_type": "code",
   "execution_count": 13,
   "id": "f44f9aa5-3032-4c39-8f3b-49e81e59792c",
   "metadata": {},
   "outputs": [
    {
     "data": {
      "text/plain": [
       "[{'truth': True, 'X': 'pilar', 'Y': 'belen'},\n",
       " {'truth': True, 'X': 'belen', 'Y': 'ana'},\n",
       " {'truth': True, 'X': 'belen', 'Y': 'pedro'}]"
      ]
     },
     "execution_count": 13,
     "metadata": {},
     "output_type": "execute_result"
    }
   ],
   "source": [
    "list(janus.query('madre(X,Y).'))"
   ]
  },
  {
   "cell_type": "markdown",
   "id": "2ddfe023-2f6b-4da4-844f-c86a67bf7759",
   "metadata": {},
   "source": [
    "#### Regla recursiva"
   ]
  },
  {
   "cell_type": "markdown",
   "id": "c124acde-e488-48eb-94ab-ae4b9c267bb4",
   "metadata": {},
   "source": [
    "* Considerar caso base y recursivo"
   ]
  },
  {
   "cell_type": "code",
   "execution_count": 14,
   "id": "c1de7e66-0f0b-45f3-b08a-71a2e20a396c",
   "metadata": {},
   "outputs": [],
   "source": [
    "janus.consult('regla recursiva', '''\n",
    "antepasado(X,Y) :- progenitor(X,Y).\n",
    "antepasado(X,Y) :- progenitor(X,Z), antepasado(Z,Y).\n",
    "''')"
   ]
  },
  {
   "cell_type": "code",
   "execution_count": 15,
   "id": "5b9d9b91-e48e-4fb4-ade7-5784c187337c",
   "metadata": {},
   "outputs": [
    {
     "data": {
      "text/plain": [
       "[{'truth': True, 'X': 'ana'},\n",
       " {'truth': True, 'X': 'pedro'},\n",
       " {'truth': True, 'X': 'jose'},\n",
       " {'truth': True, 'X': 'maria'}]"
      ]
     },
     "execution_count": 15,
     "metadata": {},
     "output_type": "execute_result"
    }
   ],
   "source": [
    "list(janus.query('antepasado(belen,X).'))"
   ]
  },
  {
   "cell_type": "code",
   "execution_count": 16,
   "id": "b7bd4d20-cbbd-4b1c-a3db-e1e6f6fbb617",
   "metadata": {},
   "outputs": [
    {
     "data": {
      "text/plain": [
       "[{'truth': True, 'X': 'pilar'}, {'truth': True, 'X': 'tomas'}]"
      ]
     },
     "execution_count": 16,
     "metadata": {},
     "output_type": "execute_result"
    }
   ],
   "source": [
    "list(janus.query('antepasado(X,belen).'))"
   ]
  },
  {
   "cell_type": "markdown",
   "id": "43cd8c2d-bae9-4226-ba4a-c6de83e28dd3",
   "metadata": {},
   "source": [
    "### Ejecución"
   ]
  },
  {
   "cell_type": "markdown",
   "id": "fb0ea2aa-38aa-4b7a-a6ed-62743c6eeb89",
   "metadata": {},
   "source": [
    "* Se basa en unificación y backtracking\n",
    "* No es necesario programar el mecanismo de búsqueda\n",
    "* En el terminal escribimos predicados para ver si son ciertos o no, dado el conocimiento del programa\n",
    "\n",
    "* **Unificación**: deducción a través de sustituciones. Proceso de localizar patrones que \"emparejen\" términos\n",
    "* **Backtracking**: rastreo inverso. Permite encontrar una solución si es que existe alguna. Cuando fracasa la unificación de un predicado vuelta atrás y ensayo de otra unificación"
   ]
  },
  {
   "cell_type": "code",
   "execution_count": 17,
   "id": "c44ef369-8fc2-4907-a2f5-9622dfb4a505",
   "metadata": {},
   "outputs": [],
   "source": [
    "janus.consult('mortal', '''\n",
    "humano(socrates).\n",
    "humano(platon).\n",
    "humano(aristoteles).\n",
    "mortal(X) :- humano(X).\n",
    "''')"
   ]
  },
  {
   "cell_type": "code",
   "execution_count": 18,
   "id": "dfe01852-4efb-4010-9bd9-94955295cd53",
   "metadata": {},
   "outputs": [
    {
     "data": {
      "text/plain": [
       "[{'truth': True}]"
      ]
     },
     "execution_count": 18,
     "metadata": {},
     "output_type": "execute_result"
    }
   ],
   "source": [
    "list(janus.query('mortal(socrates).'))"
   ]
  },
  {
   "cell_type": "code",
   "execution_count": 19,
   "id": "2131f34a-9543-4b25-8e4b-e2332a17a29a",
   "metadata": {},
   "outputs": [
    {
     "data": {
      "text/plain": [
       "[{'truth': True, 'X': 'socrates'},\n",
       " {'truth': True, 'X': 'platon'},\n",
       " {'truth': True, 'X': 'aristoteles'}]"
      ]
     },
     "execution_count": 19,
     "metadata": {},
     "output_type": "execute_result"
    }
   ],
   "source": [
    "list(janus.query('mortal(X).'))"
   ]
  },
  {
   "cell_type": "markdown",
   "id": "753d62c6-25c9-4e03-9fb1-562005133e8c",
   "metadata": {},
   "source": [
    "### Hola Mundo"
   ]
  },
  {
   "cell_type": "code",
   "execution_count": 20,
   "id": "76849b3c-b150-41b7-91ca-f4d70dcdd574",
   "metadata": {},
   "outputs": [],
   "source": [
    "janus.consult('hola mundo', '''\n",
    "saludo :- write('Hola Mundo'), nl.\n",
    "''')"
   ]
  },
  {
   "cell_type": "code",
   "execution_count": 21,
   "id": "d98af3c3-41ab-43c5-9075-5cd3e06efec3",
   "metadata": {},
   "outputs": [
    {
     "name": "stdout",
     "output_type": "stream",
     "text": [
      "Hola Mundo\n"
     ]
    },
    {
     "data": {
      "text/plain": [
       "[{'truth': True}]"
      ]
     },
     "execution_count": 21,
     "metadata": {},
     "output_type": "execute_result"
    }
   ],
   "source": [
    "list(janus.query('saludo.'))"
   ]
  },
  {
   "cell_type": "markdown",
   "id": "c5de1a0c-eb79-4dd3-8df3-639b9c8d7eb4",
   "metadata": {},
   "source": [
    "### Corte"
   ]
  },
  {
   "cell_type": "markdown",
   "id": "526b01d8-40b0-4f11-96e1-7085ef436382",
   "metadata": {},
   "source": [
    "* Es uno de los predicados internos más polémicos del lenguaje Prolog.\n",
    "* Se utiliza para \"podar\" ramas del árbol de resolución consiguiendo que el sistema vaya más rápido.\n",
    "* Un mal uso del corte puede podar ramas del árbol de resolución que contengan soluciones impidiendo que el sistema encuentre algunas soluciones (o todas) a un problema dado (impide el retroceso)\n",
    "* De esta forma se aconseja utilizar el corte con precaución y únicamente en el lugar necesario, Ni antes ni después.\n",
    "* El predicado corte se representa mediante el símbolo '!' y su efecto es:\n",
    "  * El predicado siempre se cumple (se satisface)\n",
    "  * Si se intenta re-ejecutar (al hacer backtracking) elimina las alternativas restantes de los objetivos que hay\n",
    "desde su posición hasta la cabeza de la regla donde aparece"
   ]
  },
  {
   "cell_type": "code",
   "execution_count": 22,
   "id": "098889ec-ab6f-4db9-99f2-fbc132e91bff",
   "metadata": {},
   "outputs": [],
   "source": [
    "janus.consult('corte', '''\n",
    "  q(X) :- p(X).\n",
    "  q(0).\n",
    "  p(X) :- a(X),!,b(X).\n",
    "  p(1).\n",
    "  a(2). \n",
    "  a(3).\n",
    "  b(2). \n",
    "  b(2). \n",
    "  b(3).\n",
    "''')"
   ]
  },
  {
   "cell_type": "code",
   "execution_count": 23,
   "id": "14e8c994-84f1-4b63-856f-65acaf7998d3",
   "metadata": {},
   "outputs": [
    {
     "data": {
      "text/plain": [
       "[{'truth': True, 'X': 2}, {'truth': True, 'X': 2}, {'truth': True, 'X': 0}]"
      ]
     },
     "execution_count": 23,
     "metadata": {},
     "output_type": "execute_result"
    }
   ],
   "source": [
    "list(janus.query('q(X).'))"
   ]
  },
  {
   "cell_type": "markdown",
   "id": "71e7a719-f962-4238-9f6e-7d2c0d840f1e",
   "metadata": {},
   "source": [
    "### Listas"
   ]
  },
  {
   "cell_type": "markdown",
   "id": "9d0d2a15-c7d6-4796-83c5-fe8182d3828c",
   "metadata": {},
   "source": [
    "* Estructuras de datos más utilizadas\n",
    "* [] denota la lista vacia\n",
    "* [brasil, argentina, chile] denota una lista con 3 elementos\n",
    "* [X|Xs] denota una lista de cabeza X y cola Xs"
   ]
  },
  {
   "cell_type": "code",
   "execution_count": 24,
   "id": "c640eed0-af57-45f5-ae6f-59aea022e104",
   "metadata": {},
   "outputs": [
    {
     "data": {
      "text/plain": [
       "[{'truth': True, 'X': 1, 'Xs': [2, 3]}]"
      ]
     },
     "execution_count": 24,
     "metadata": {},
     "output_type": "execute_result"
    }
   ],
   "source": [
    "list(janus.query('[X|Xs] = [1, 2, 3].'))"
   ]
  },
  {
   "cell_type": "code",
   "execution_count": 25,
   "id": "e9d7e442-f0f0-45ac-bf08-5cf535835595",
   "metadata": {},
   "outputs": [
    {
     "data": {
      "text/plain": [
       "[{'truth': True, 'X': 1, 'Xs': []}]"
      ]
     },
     "execution_count": 25,
     "metadata": {},
     "output_type": "execute_result"
    }
   ],
   "source": [
    "list(janus.query('[X|Xs] = [1].'))"
   ]
  },
  {
   "cell_type": "code",
   "execution_count": 26,
   "id": "eb4de687-8068-47ff-819f-13bdd7126822",
   "metadata": {},
   "outputs": [
    {
     "data": {
      "text/plain": [
       "[{'truth': True, 'X': 1, 'Y': 2, 'Ys': [3]}]"
      ]
     },
     "execution_count": 26,
     "metadata": {},
     "output_type": "execute_result"
    }
   ],
   "source": [
    "list(janus.query('[X, Y|Ys] = [1, 2, 3].'))"
   ]
  },
  {
   "cell_type": "code",
   "execution_count": 27,
   "id": "b8b55c2f-d3ad-419c-bab2-f650e73d9ef2",
   "metadata": {},
   "outputs": [
    {
     "data": {
      "text/plain": [
       "[{'truth': True, 'X': 'a'}]"
      ]
     },
     "execution_count": 27,
     "metadata": {},
     "output_type": "execute_result"
    }
   ],
   "source": [
    "janus.consult('Primer elemento de una lista', '''\n",
    "primero([X|_], X).\n",
    "''')\n",
    "list(janus.query('primero([a, b, c], X).'))"
   ]
  },
  {
   "cell_type": "code",
   "execution_count": 28,
   "id": "2dba7af9-17cc-47e3-8f29-b8c15960b56d",
   "metadata": {},
   "outputs": [
    {
     "data": {
      "text/plain": [
       "[{'truth': True, 'X': ['b', 'c']}]"
      ]
     },
     "execution_count": 28,
     "metadata": {},
     "output_type": "execute_result"
    }
   ],
   "source": [
    "janus.consult('Cola de una lista', '''\n",
    "cola([_|L], L).\n",
    "''')\n",
    "list(janus.query('cola([a, b, c], X).'))"
   ]
  },
  {
   "cell_type": "code",
   "execution_count": 29,
   "id": "4f71c306-6792-46b1-a798-e94c1b8820bb",
   "metadata": {},
   "outputs": [
    {
     "data": {
      "text/plain": [
       "[{'truth': True, 'X': 'a'},\n",
       " {'truth': True, 'X': 'b'},\n",
       " {'truth': True, 'X': 'c'}]"
      ]
     },
     "execution_count": 29,
     "metadata": {},
     "output_type": "execute_result"
    }
   ],
   "source": [
    "janus.consult('Pertenencia de un elemento en una lista', '''\n",
    "pertenece(X, [X|_]).\n",
    "pertenece(X, [_|L]) :- pertenece(X, L).\n",
    "''')\n",
    "list(janus.query('pertenece(X, [a, b, c]).'))"
   ]
  },
  {
   "cell_type": "code",
   "execution_count": 30,
   "id": "292530e5-94b3-4d89-952e-e3b52b0ce59b",
   "metadata": {},
   "outputs": [
    {
     "data": {
      "text/plain": [
       "[{'truth': True, 'L': ['a', 'b', 'c', 'c', 'd', 'e']}]"
      ]
     },
     "execution_count": 30,
     "metadata": {},
     "output_type": "execute_result"
    }
   ],
   "source": [
    "janus.consult('Concatenación de listas', '''\n",
    "concatenacion([], L, L).\n",
    "concatenacion([X|L1], L2, [X|L3]) :- concatenacion(L1, L2, L3).\n",
    "''')\n",
    "list(janus.query('concatenacion([a, b, c], [c, d, e], L).'))"
   ]
  },
  {
   "cell_type": "markdown",
   "id": "44c171fe-769c-4b52-8eb3-82b418d7fadc",
   "metadata": {},
   "source": [
    "### Aritmética"
   ]
  },
  {
   "cell_type": "code",
   "execution_count": 31,
   "id": "211e9d89-e8c1-4d6a-bd07-4cf2627696ee",
   "metadata": {},
   "outputs": [
    {
     "data": {
      "text/plain": [
       "[{'truth': True, 'R': 3}]"
      ]
     },
     "execution_count": 31,
     "metadata": {},
     "output_type": "execute_result"
    }
   ],
   "source": [
    "janus.consult('suma', '''\n",
    "suma(A, B, Resultado) :- Resultado is A + B.\n",
    "''')\n",
    "list(janus.query('suma(1, 2, R).'))"
   ]
  },
  {
   "cell_type": "code",
   "execution_count": 36,
   "id": "ac7bb41c-0b94-4c12-8a34-86f763ba1dc5",
   "metadata": {},
   "outputs": [
    {
     "data": {
      "text/plain": [
       "[{'truth': True}]"
      ]
     },
     "execution_count": 36,
     "metadata": {},
     "output_type": "execute_result"
    }
   ],
   "source": [
    "janus.consult('par e impar', '''\n",
    "par(X) :- 0 is X mod 2.\n",
    "impar(X) :- 1 is X mod 2.\n",
    "''')\n",
    "list(janus.query('impar(3).'))"
   ]
  },
  {
   "cell_type": "code",
   "execution_count": 32,
   "id": "c12983cb-fa3a-42a5-9d85-d4f1f4a32892",
   "metadata": {},
   "outputs": [
    {
     "data": {
      "text/plain": [
       "[{'truth': True, 'R': 3}]"
      ]
     },
     "execution_count": 32,
     "metadata": {},
     "output_type": "execute_result"
    }
   ],
   "source": [
    "janus.consult('máximo', '''\n",
    "maximo(X, Y, X) :- X >= Y.\n",
    "maximo(X, Y, Y) :- X < Y.\n",
    "''')\n",
    "list(janus.query('maximo(2, 3, R).'))"
   ]
  },
  {
   "cell_type": "code",
   "execution_count": 33,
   "id": "3df211f6-0f42-4b2e-8397-929b7e4f47dd",
   "metadata": {},
   "outputs": [
    {
     "data": {
      "text/plain": [
       "[{'truth': True}]"
      ]
     },
     "execution_count": 33,
     "metadata": {},
     "output_type": "execute_result"
    }
   ],
   "source": [
    "janus.consult('edades', '''\n",
    "edad(pablo, 38).\n",
    "edad(ana, 15).\n",
    "edad(pedro, 16).\n",
    "edad(maria, 27).\n",
    "edad(juan, 32).\n",
    "edad(luis, 20).\n",
    "menor_edad(P) :- edad(P, E), E < 18.\n",
    "mayor_que(P1, P2) :- edad(P1, E1), edad(P2, E2), E1 > E2.\n",
    "''')\n",
    "list(janus.query('mayor_que(juan, pedro).'))"
   ]
  },
  {
   "cell_type": "code",
   "execution_count": 34,
   "id": "3dbb44e3-31a0-4971-9f8e-33d691c1a0e6",
   "metadata": {},
   "outputs": [
    {
     "data": {
      "text/plain": [
       "[{'truth': True, 'R': 6}]"
      ]
     },
     "execution_count": 34,
     "metadata": {},
     "output_type": "execute_result"
    }
   ],
   "source": [
    "janus.consult('factorial', '''\n",
    "factorial(0, 1).\n",
    "factorial(N, Resultado) :- N > 0, N1 is N - 1, factorial(N1, Resultado1), Resultado is N * Resultado1.\n",
    "''')\n",
    "list(janus.query('factorial(3, R).'))"
   ]
  },
  {
   "cell_type": "markdown",
   "id": "61df2dc1-e0f9-4eff-8692-268ce55f965d",
   "metadata": {},
   "source": [
    "### Aritmética sobre listas"
   ]
  },
  {
   "cell_type": "code",
   "execution_count": 38,
   "id": "cb86981e-e858-4eec-b375-264ce9839290",
   "metadata": {},
   "outputs": [
    {
     "data": {
      "text/plain": [
       "[{'truth': True, 'L': 3}]"
      ]
     },
     "execution_count": 38,
     "metadata": {},
     "output_type": "execute_result"
    }
   ],
   "source": [
    "janus.consult('longitud de una lista', '''\n",
    "longitud([], 0).\n",
    "longitud([_|L], N) :- longitud(L, N1), N is N1 + 1. \n",
    "''')\n",
    "list(janus.query('longitud([a, b, c], L).'))"
   ]
  },
  {
   "cell_type": "code",
   "execution_count": 39,
   "id": "2411178a-b5db-437d-a6d3-f7b47073cad9",
   "metadata": {},
   "outputs": [
    {
     "data": {
      "text/plain": [
       "[{'truth': True, 'X': 10}]"
      ]
     },
     "execution_count": 39,
     "metadata": {},
     "output_type": "execute_result"
    }
   ],
   "source": [
    "janus.consult('Suma de los elementos de una lista de números', '''\n",
    "suma_lista([], 0).\n",
    "suma_lista([X|L], Y) :- suma_lista(L, Y1), Y is X + Y1.\n",
    "''')\n",
    "list(janus.query('suma_lista([1,2,3,4], X).'))"
   ]
  },
  {
   "cell_type": "code",
   "execution_count": 40,
   "id": "c8ca6f77-888a-485d-8bf2-c186f74ec0e6",
   "metadata": {},
   "outputs": [
    {
     "data": {
      "text/plain": [
       "[{'truth': True, 'L': [2, 4, 6, 8, 10]}]"
      ]
     },
     "execution_count": 40,
     "metadata": {},
     "output_type": "execute_result"
    }
   ],
   "source": [
    "janus.consult('pares', '''\n",
    "pares([], []).\n",
    "pares([X|Resto], Pares) :- 0 is X mod 2, pares(Resto, ParesResto), Pares = [X|ParesResto].\n",
    "pares([X|Resto], Pares) :- 1 is X mod 2, pares(Resto, Pares).\n",
    "''')\n",
    "list(janus.query('pares([1, 2, 3, 4, 5, 6, 7, 8, 9, 10], L).')) "
   ]
  },
  {
   "cell_type": "markdown",
   "id": "7274b174-55b3-4f32-bf12-30acf4678c06",
   "metadata": {},
   "source": [
    "### Estructuras"
   ]
  },
  {
   "cell_type": "code",
   "execution_count": 42,
   "id": "66198a8d-6e42-4897-ade6-74086455e8d0",
   "metadata": {},
   "outputs": [
    {
     "data": {
      "text/plain": [
       "[{'truth': True}]"
      ]
     },
     "execution_count": 42,
     "metadata": {},
     "output_type": "execute_result"
    }
   ],
   "source": [
    "janus.consult('come', '''\n",
    "animal(conejo).\n",
    "animal(perro).\n",
    "carnivoro(perro).\n",
    "masDebil(conejo, perro).\n",
    "herbivoro(conejo).\n",
    "plantaComestible(lechuga).\n",
    "come(A, B) :- carnivoro(A), animal(B), masDebil(B, A); herbivoro(A), plantaComestible(B).\n",
    "''')\n",
    "list(janus.query('come(perro, conejo).'))"
   ]
  },
  {
   "cell_type": "code",
   "execution_count": 52,
   "id": "0245712b-ba58-45a0-bfd9-522aa6fbdee4",
   "metadata": {},
   "outputs": [
    {
     "data": {
      "text/plain": [
       "[{'truth': True}]"
      ]
     },
     "execution_count": 52,
     "metadata": {},
     "output_type": "execute_result"
    }
   ],
   "source": [
    "janus.consult('comunicacion', '''\n",
    "habla(alejandro, ruso).\n",
    "habla(juan, ingles).\n",
    "habla(maria, ruso).\n",
    "habla(maria, ingles).\n",
    "habla(pablo, portugues).\n",
    "se_comunica(P1, P2) :- habla(P1, L), habla(P2, L), P1 \\\\== P2.\n",
    "''')\n",
    "list(janus.query('se_comunica(alejandro, maria).'))"
   ]
  }
 ],
 "metadata": {
  "kernelspec": {
   "display_name": "Python [conda env:base] *",
   "language": "python",
   "name": "conda-base-py"
  },
  "language_info": {
   "codemirror_mode": {
    "name": "ipython",
    "version": 3
   },
   "file_extension": ".py",
   "mimetype": "text/x-python",
   "name": "python",
   "nbconvert_exporter": "python",
   "pygments_lexer": "ipython3",
   "version": "3.12.7"
  }
 },
 "nbformat": 4,
 "nbformat_minor": 5
}
