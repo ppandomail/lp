{
 "cells": [
  {
   "cell_type": "markdown",
   "id": "8bf73626-a53a-46c0-a9c9-b1bb2b8ee557",
   "metadata": {},
   "source": [
    "# Pytest\n",
    "---"
   ]
  },
  {
   "cell_type": "markdown",
   "id": "c33adf5b-c828-46a6-9a7b-893fc4fe6c7a",
   "metadata": {},
   "source": [
    "* Es un framework de prueba unitario para Python\n",
    "* Más simple de usar y eficiente que unittest\n",
    "* Instalación: pip install pytest\n",
    "\n",
    "| Comandos                   |                                        |\n",
    "| --                         | --                                     |\n",
    "| pytest --version           | muestra versión                        |\n",
    "| pytest modulo.py           | ejecuta funciones con test_* or *_test |\n",
    "| pytest modulo.py::test_xxx | ejecuta la función test_xxx            |\n",
    "| pytest -s                  | muestra los prints                     |\n",
    "| pytest -h                  | muestra la ayuda                       |"
   ]
  },
  {
   "cell_type": "markdown",
   "id": "ebcf7c6e-c218-4194-819e-c4e1050a2a4a",
   "metadata": {},
   "source": [
    "## Tests básicos"
   ]
  },
  {
   "cell_type": "code",
   "execution_count": 35,
   "id": "e7134fa5-e2dc-420e-abfe-0ce8f716280b",
   "metadata": {},
   "outputs": [],
   "source": [
    "import pytest"
   ]
  },
  {
   "cell_type": "code",
   "execution_count": 36,
   "id": "4700f6bc-2d00-42a0-a6e8-bb3e9e61ba81",
   "metadata": {},
   "outputs": [
    {
     "name": "stdout",
     "output_type": "stream",
     "text": [
      "Overwriting p1.py\n"
     ]
    }
   ],
   "source": [
    "%%file p1.py\n",
    "def test_01():\n",
    "    assert True\n",
    "\n",
    "def test_02():\n",
    "    assert False\n",
    "\n",
    "def test_03():\n",
    "    assert (1, 2, 3) == (1, 2, 3)"
   ]
  },
  {
   "cell_type": "code",
   "execution_count": 37,
   "id": "d8e946ff-7199-44da-91b5-41b320ce3062",
   "metadata": {},
   "outputs": [
    {
     "name": "stdout",
     "output_type": "stream",
     "text": [
      "\u001b[1m============================= test session starts ==============================\u001b[0m\n",
      "platform darwin -- Python 3.12.7, pytest-7.4.4, pluggy-1.0.0\n",
      "rootdir: /Users/ppando/Materias/prog/proy/PY/pruebas/02_pytest\n",
      "plugins: Faker-37.3.0, anyio-4.2.0\n",
      "collected 3 items                                                              \u001b[0m\n",
      "\n",
      "p1.py \u001b[32m.\u001b[0m\u001b[31mF\u001b[0m\u001b[32m.\u001b[0m\u001b[31m                                                                [100%]\u001b[0m\n",
      "\n",
      "=================================== FAILURES ===================================\n",
      "\u001b[31m\u001b[1m___________________________________ test_02 ____________________________________\u001b[0m\n",
      "\n",
      "    \u001b[94mdef\u001b[39;49;00m \u001b[92mtest_02\u001b[39;49;00m():\u001b[90m\u001b[39;49;00m\n",
      ">       \u001b[94massert\u001b[39;49;00m \u001b[94mFalse\u001b[39;49;00m\u001b[90m\u001b[39;49;00m\n",
      "\u001b[1m\u001b[31mE       assert False\u001b[0m\n",
      "\n",
      "\u001b[1m\u001b[31mp1.py\u001b[0m:5: AssertionError\n",
      "\u001b[36m\u001b[1m=========================== short test summary info ============================\u001b[0m\n",
      "\u001b[31mFAILED\u001b[0m p1.py::\u001b[1mtest_02\u001b[0m - assert False\n",
      "\u001b[31m========================= \u001b[31m\u001b[1m1 failed\u001b[0m, \u001b[32m2 passed\u001b[0m\u001b[31m in 0.13s\u001b[0m\u001b[31m ==========================\u001b[0m\n"
     ]
    }
   ],
   "source": [
    "!pytest p1.py"
   ]
  },
  {
   "cell_type": "code",
   "execution_count": 38,
   "id": "c1519d84-daff-46ce-b0eb-1479efdcfb6f",
   "metadata": {},
   "outputs": [
    {
     "name": "stdout",
     "output_type": "stream",
     "text": [
      "Overwriting p2.py\n"
     ]
    }
   ],
   "source": [
    "%%file p2.py\n",
    "def increment_one(numero):\n",
    "    return numero + 1\n",
    "\n",
    "def test_increment():\n",
    "    assert increment_one(1) == 2"
   ]
  },
  {
   "cell_type": "code",
   "execution_count": 39,
   "id": "6efcf2c2-b53f-45d6-bb5c-84c43ef63193",
   "metadata": {},
   "outputs": [
    {
     "name": "stdout",
     "output_type": "stream",
     "text": [
      "\u001b[1m============================= test session starts ==============================\u001b[0m\n",
      "platform darwin -- Python 3.12.7, pytest-7.4.4, pluggy-1.0.0\n",
      "rootdir: /Users/ppando/Materias/prog/proy/PY/pruebas/02_pytest\n",
      "plugins: Faker-37.3.0, anyio-4.2.0\n",
      "collected 1 item                                                               \u001b[0m\n",
      "\n",
      "p2.py \u001b[32m.\u001b[0m\u001b[32m                                                                  [100%]\u001b[0m\n",
      "\n",
      "\u001b[32m============================== \u001b[32m\u001b[1m1 passed\u001b[0m\u001b[32m in 0.05s\u001b[0m\u001b[32m ===============================\u001b[0m\n"
     ]
    }
   ],
   "source": [
    "!pytest p2.py"
   ]
  },
  {
   "cell_type": "code",
   "execution_count": 40,
   "id": "92e0e90c-274d-45a7-9d01-6590a96f50e2",
   "metadata": {},
   "outputs": [
    {
     "name": "stdout",
     "output_type": "stream",
     "text": [
      "Overwriting p3.py\n"
     ]
    }
   ],
   "source": [
    "%%file p3.py\n",
    "def make_a_dict(a, b):\n",
    "    operation = a + b\n",
    "    return {'a': a, 'b': b, 'result': operation}\n",
    "\n",
    "def test_make_a_dict():\n",
    "    actual = make_a_dict(2, 3)\n",
    "    expected = {'a': 2, 'b': 3, 'result': 5}\n",
    "    assert actual == expected"
   ]
  },
  {
   "cell_type": "code",
   "execution_count": 41,
   "id": "594d4d69-9680-44e3-9a98-6b89fbac13d0",
   "metadata": {},
   "outputs": [
    {
     "name": "stdout",
     "output_type": "stream",
     "text": [
      "\u001b[1m============================= test session starts ==============================\u001b[0m\n",
      "platform darwin -- Python 3.12.7, pytest-7.4.4, pluggy-1.0.0\n",
      "rootdir: /Users/ppando/Materias/prog/proy/PY/pruebas/02_pytest\n",
      "plugins: Faker-37.3.0, anyio-4.2.0\n",
      "collected 1 item                                                               \u001b[0m\n",
      "\n",
      "p3.py \u001b[32m.\u001b[0m\u001b[32m                                                                  [100%]\u001b[0m\n",
      "\n",
      "\u001b[32m============================== \u001b[32m\u001b[1m1 passed\u001b[0m\u001b[32m in 0.06s\u001b[0m\u001b[32m ===============================\u001b[0m\n"
     ]
    }
   ],
   "source": [
    "!pytest p3.py"
   ]
  },
  {
   "cell_type": "markdown",
   "id": "8acde910-8767-4681-95ae-c951a48b9363",
   "metadata": {},
   "source": [
    "## Filtering"
   ]
  },
  {
   "cell_type": "markdown",
   "id": "f152eba6-84fb-4572-ad9c-09fd9bc4aec8",
   "metadata": {},
   "source": [
    "* Se pone cualquier nombre de marca\n",
    "* Se ejecuta con pytest -m \\<nombre de marca> -vv"
   ]
  },
  {
   "cell_type": "code",
   "execution_count": 44,
   "id": "255e9a94-cf72-41b4-8837-1509f46827e2",
   "metadata": {},
   "outputs": [
    {
     "name": "stdout",
     "output_type": "stream",
     "text": [
      "Overwriting p4.py\n"
     ]
    }
   ],
   "source": [
    "%%file p4.py\n",
    "import pytest\n",
    "\n",
    "@pytest.mark.finished\n",
    "def test_01():\n",
    "    assert True\n",
    "\n",
    "@pytest.mark.unfinished\n",
    "def test_02():\n",
    "    assert False\n",
    "\n",
    "def test_03():\n",
    "    assert (1, 2, 3) == (1, 2, 3)"
   ]
  },
  {
   "cell_type": "code",
   "execution_count": 48,
   "id": "a674938e-95ba-402c-b1d0-3d47d6bc13f9",
   "metadata": {},
   "outputs": [
    {
     "name": "stdout",
     "output_type": "stream",
     "text": [
      "\u001b[1m============================= test session starts ==============================\u001b[0m\n",
      "platform darwin -- Python 3.12.7, pytest-7.4.4, pluggy-1.0.0\n",
      "rootdir: /Users/ppando/Materias/prog/proy/PY/pruebas/02_pytest\n",
      "plugins: Faker-37.3.0, anyio-4.2.0\n",
      "collected 3 items / 2 deselected / 1 selected                                  \u001b[0m\n",
      "\n",
      "p4.py \u001b[32m.\u001b[0m\u001b[33m                                                                  [100%]\u001b[0m\n",
      "\n",
      "\u001b[33m=============================== warnings summary ===============================\u001b[0m\n",
      "p4.py:3\n",
      "  /Users/ppando/Materias/prog/proy/PY/pruebas/02_pytest/p4.py:3: PytestUnknownMarkWarning: Unknown pytest.mark.finished - is this a typo?  You can register custom marks to avoid this warning - for details, see https://docs.pytest.org/en/stable/how-to/mark.html\n",
      "    @pytest.mark.finished\n",
      "\n",
      "p4.py:7\n",
      "  /Users/ppando/Materias/prog/proy/PY/pruebas/02_pytest/p4.py:7: PytestUnknownMarkWarning: Unknown pytest.mark.unfinished - is this a typo?  You can register custom marks to avoid this warning - for details, see https://docs.pytest.org/en/stable/how-to/mark.html\n",
      "    @pytest.mark.unfinished\n",
      "\n",
      "-- Docs: https://docs.pytest.org/en/stable/how-to/capture-warnings.html\n",
      "\u001b[33m================= \u001b[32m1 passed\u001b[0m, \u001b[33m\u001b[1m2 deselected\u001b[0m, \u001b[33m\u001b[1m2 warnings\u001b[0m\u001b[33m in 0.07s\u001b[0m\u001b[33m ==================\u001b[0m\n"
     ]
    }
   ],
   "source": [
    "!pytest -m finished p4.py"
   ]
  },
  {
   "cell_type": "markdown",
   "id": "3a3b5ace-0b6b-492b-b97b-f01b31c86cc5",
   "metadata": {},
   "source": [
    "## Skip"
   ]
  },
  {
   "cell_type": "code",
   "execution_count": 49,
   "id": "54d521b6-ef84-492e-acd2-775807f0f500",
   "metadata": {},
   "outputs": [],
   "source": [
    "import pytest\n",
    "\n",
    "@pytest.mark.skip('api fuera de fecha')\n",
    "def test_connect():\n",
    "    pass"
   ]
  },
  {
   "cell_type": "markdown",
   "id": "1efa6cd9-23d1-4f6c-898a-dd850af3e576",
   "metadata": {},
   "source": [
    "## Parametrize"
   ]
  },
  {
   "cell_type": "markdown",
   "id": "8c8cdf44-0df7-4a43-91ce-1c1f8aa411c0",
   "metadata": {},
   "source": [
    "* Ayuda a no repetir el codigo muchas veces"
   ]
  },
  {
   "cell_type": "code",
   "execution_count": 50,
   "id": "bb51f1ac-798c-4619-82fb-a08f9bea011b",
   "metadata": {},
   "outputs": [
    {
     "name": "stdout",
     "output_type": "stream",
     "text": [
      "Writing p5.py\n"
     ]
    }
   ],
   "source": [
    "%%file p5.py\n",
    "import pytest\n",
    "\n",
    "@pytest.mark.parametrize('passwd', ['123456', 'abcdefdfs', 'as52345fasdf4'])\n",
    "def test_password_length(passwd):\n",
    "    assert len(passwd) >= 8"
   ]
  },
  {
   "cell_type": "code",
   "execution_count": 51,
   "id": "c2fbf63c-ad0f-4701-b473-088c29467985",
   "metadata": {},
   "outputs": [
    {
     "name": "stdout",
     "output_type": "stream",
     "text": [
      "\u001b[1m============================= test session starts ==============================\u001b[0m\n",
      "platform darwin -- Python 3.12.7, pytest-7.4.4, pluggy-1.0.0\n",
      "rootdir: /Users/ppando/Materias/prog/proy/PY/pruebas/02_pytest\n",
      "plugins: Faker-37.3.0, anyio-4.2.0\n",
      "collected 3 items                                                              \u001b[0m\n",
      "\n",
      "p5.py \u001b[31mF\u001b[0m\u001b[32m.\u001b[0m\u001b[32m.\u001b[0m\u001b[31m                                                                [100%]\u001b[0m\n",
      "\n",
      "=================================== FAILURES ===================================\n",
      "\u001b[31m\u001b[1m_________________________ test_password_length[123456] _________________________\u001b[0m\n",
      "\n",
      "passwd = '123456'\n",
      "\n",
      "    \u001b[37m@pytest\u001b[39;49;00m.mark.parametrize(\u001b[33m'\u001b[39;49;00m\u001b[33mpasswd\u001b[39;49;00m\u001b[33m'\u001b[39;49;00m, [\u001b[33m'\u001b[39;49;00m\u001b[33m123456\u001b[39;49;00m\u001b[33m'\u001b[39;49;00m, \u001b[33m'\u001b[39;49;00m\u001b[33mabcdefdfs\u001b[39;49;00m\u001b[33m'\u001b[39;49;00m, \u001b[33m'\u001b[39;49;00m\u001b[33mas52345fasdf4\u001b[39;49;00m\u001b[33m'\u001b[39;49;00m])\u001b[90m\u001b[39;49;00m\n",
      "    \u001b[94mdef\u001b[39;49;00m \u001b[92mtest_password_length\u001b[39;49;00m(passwd):\u001b[90m\u001b[39;49;00m\n",
      ">       \u001b[94massert\u001b[39;49;00m \u001b[96mlen\u001b[39;49;00m(passwd) >= \u001b[94m8\u001b[39;49;00m\u001b[90m\u001b[39;49;00m\n",
      "\u001b[1m\u001b[31mE       AssertionError: assert 6 >= 8\u001b[0m\n",
      "\u001b[1m\u001b[31mE        +  where 6 = len('123456')\u001b[0m\n",
      "\n",
      "\u001b[1m\u001b[31mp5.py\u001b[0m:5: AssertionError\n",
      "\u001b[36m\u001b[1m=========================== short test summary info ============================\u001b[0m\n",
      "\u001b[31mFAILED\u001b[0m p5.py::\u001b[1mtest_password_length[123456]\u001b[0m - AssertionError: assert 6 >= 8\n",
      "\u001b[31m========================= \u001b[31m\u001b[1m1 failed\u001b[0m, \u001b[32m2 passed\u001b[0m\u001b[31m in 0.14s\u001b[0m\u001b[31m ==========================\u001b[0m\n"
     ]
    }
   ],
   "source": [
    "!pytest p5.py"
   ]
  },
  {
   "cell_type": "code",
   "execution_count": 54,
   "id": "576c2cfa-d8eb-489f-86d7-869ef6027f17",
   "metadata": {},
   "outputs": [
    {
     "name": "stdout",
     "output_type": "stream",
     "text": [
      "Writing p6.py\n"
     ]
    }
   ],
   "source": [
    "%%file p6.py\n",
    "import pytest\n",
    "\n",
    "def some_calculation(a, b):\n",
    "    return a + b\n",
    "\n",
    "@pytest.mark.parametrize('a, b, expected', [(1, 2, 3), (3, 3, 6), (3, -2, 1)])\n",
    "def test_some_calculation(a, b, expected):\n",
    "    assert some_calculation(a, b) == expected"
   ]
  },
  {
   "cell_type": "code",
   "execution_count": 55,
   "id": "697d9d1f-4dc1-4e8c-a81d-5fd98f8bec19",
   "metadata": {},
   "outputs": [
    {
     "name": "stdout",
     "output_type": "stream",
     "text": [
      "\u001b[1m============================= test session starts ==============================\u001b[0m\n",
      "platform darwin -- Python 3.12.7, pytest-7.4.4, pluggy-1.0.0\n",
      "rootdir: /Users/ppando/Materias/prog/proy/PY/pruebas/02_pytest\n",
      "plugins: Faker-37.3.0, anyio-4.2.0\n",
      "collected 3 items                                                              \u001b[0m\n",
      "\n",
      "p6.py \u001b[32m.\u001b[0m\u001b[32m.\u001b[0m\u001b[32m.\u001b[0m\u001b[32m                                                                [100%]\u001b[0m\n",
      "\n",
      "\u001b[32m============================== \u001b[32m\u001b[1m3 passed\u001b[0m\u001b[32m in 0.06s\u001b[0m\u001b[32m ===============================\u001b[0m\n"
     ]
    }
   ],
   "source": [
    "!pytest p6.py"
   ]
  },
  {
   "cell_type": "markdown",
   "id": "c3a9439a-fe11-416e-803c-d052a1d4745b",
   "metadata": {},
   "source": [
    "## Fixture"
   ]
  },
  {
   "cell_type": "code",
   "execution_count": 56,
   "id": "5eb8d45c-4aad-444d-b0f2-d2d8742819c9",
   "metadata": {},
   "outputs": [
    {
     "name": "stdout",
     "output_type": "stream",
     "text": [
      "Writing p7.py\n"
     ]
    }
   ],
   "source": [
    "%%file p7.py\n",
    "import pytest\n",
    "\n",
    "@pytest.fixture()\n",
    "def db():\n",
    "    print('Connection successful')\n",
    "    yield\n",
    "    print('Connection closed')\n",
    "\n",
    "def search_user(user_id):\n",
    "    d = {'001': 'ppando', '002': 'otrouser'}\n",
    "    return d[user_id]\n",
    "\n",
    "def test_search(db):\n",
    "    assert search_user('001') == 'ppando'\n",
    "\n",
    "def test_search2(db):\n",
    "    assert search_user('002') == 'otrouser'"
   ]
  },
  {
   "cell_type": "code",
   "execution_count": 59,
   "id": "21e0f2d1-59b2-43c7-8a67-badac4b29191",
   "metadata": {},
   "outputs": [
    {
     "name": "stdout",
     "output_type": "stream",
     "text": [
      "\u001b[1m============================= test session starts ==============================\u001b[0m\n",
      "platform darwin -- Python 3.12.7, pytest-7.4.4, pluggy-1.0.0\n",
      "rootdir: /Users/ppando/Materias/prog/proy/PY/pruebas/02_pytest\n",
      "plugins: Faker-37.3.0, anyio-4.2.0\n",
      "collected 2 items                                                              \u001b[0m\n",
      "\n",
      "p7.py \n",
      "SETUP    S _session_fakerConnection successful\n",
      "\n",
      "        SETUP    F db\n",
      "        p7.py::test_search (fixtures used: _session_faker, db, request)\u001b[32m.\u001b[0mConnection closed\n",
      "\n",
      "        TEARDOWN F dbConnection successful\n",
      "\n",
      "        SETUP    F db\n",
      "        p7.py::test_search2 (fixtures used: _session_faker, db, request)\u001b[32m.\u001b[0mConnection closed\n",
      "\n",
      "        TEARDOWN F db\n",
      "TEARDOWN S _session_faker\n",
      "\n",
      "\u001b[32m============================== \u001b[32m\u001b[1m2 passed\u001b[0m\u001b[32m in 0.06s\u001b[0m\u001b[32m ===============================\u001b[0m\n"
     ]
    }
   ],
   "source": [
    "!pytest -s --setup-show p7.py"
   ]
  },
  {
   "cell_type": "markdown",
   "id": "2109f74d-1e02-42fc-a7a2-da288907eca8",
   "metadata": {},
   "source": [
    "## Pytest mock"
   ]
  },
  {
   "cell_type": "markdown",
   "id": "a352f853-3e50-43e3-bd4b-c428372acf11",
   "metadata": {},
   "source": [
    "* Es una libreria que permite mockear (engañar), sin ejecutar el código de la función\n",
    "* Instalación: pip install pytest-mock"
   ]
  },
  {
   "cell_type": "code",
   "execution_count": 61,
   "id": "a88282e2-8f62-4da0-a3f0-18f4c3626dfe",
   "metadata": {},
   "outputs": [
    {
     "name": "stdout",
     "output_type": "stream",
     "text": [
      "Requirement already satisfied: pytest-mock in /opt/anaconda3/lib/python3.12/site-packages (3.14.1)\n",
      "Requirement already satisfied: pytest>=6.2.5 in /opt/anaconda3/lib/python3.12/site-packages (from pytest-mock) (7.4.4)\n",
      "Requirement already satisfied: iniconfig in /opt/anaconda3/lib/python3.12/site-packages (from pytest>=6.2.5->pytest-mock) (1.1.1)\n",
      "Requirement already satisfied: packaging in /opt/anaconda3/lib/python3.12/site-packages (from pytest>=6.2.5->pytest-mock) (24.1)\n",
      "Requirement already satisfied: pluggy<2.0,>=0.12 in /opt/anaconda3/lib/python3.12/site-packages (from pytest>=6.2.5->pytest-mock) (1.0.0)\n"
     ]
    }
   ],
   "source": [
    "!pip install pytest-mock"
   ]
  },
  {
   "cell_type": "code",
   "execution_count": 64,
   "id": "f941ea60-53ed-4cc7-9f2e-f4743a2e57cb",
   "metadata": {},
   "outputs": [
    {
     "name": "stdout",
     "output_type": "stream",
     "text": [
      "Overwriting p8.py\n"
     ]
    }
   ],
   "source": [
    "%%file p8.py\n",
    "def some_calculation(a, b):\n",
    "    return a + b\n",
    "\n",
    "def test_some_calculation():\n",
    "    assert some_calculation(1, 2) == 3\n",
    "\n",
    "def make_a_dict(a, b):\n",
    "    operation = some_calculation(a, b)\n",
    "    return {\"a\": a, \"b\": b, \"result\": operation}\n",
    "\n",
    "def test_make_a_dict(mocker):\n",
    "    mocker.patch(\"p8.some_calculation\", return_value=5, autospec=True)\n",
    "    actual = make_a_dict(2, 3)\n",
    "    expected = {\"a\": 2, \"b\": 3, \"result\": 5}\n",
    "    assert actual == expected"
   ]
  },
  {
   "cell_type": "code",
   "execution_count": 65,
   "id": "9c326bae-dc64-4030-a756-92faf17cdc47",
   "metadata": {},
   "outputs": [
    {
     "name": "stdout",
     "output_type": "stream",
     "text": [
      "\u001b[1m============================= test session starts ==============================\u001b[0m\n",
      "platform darwin -- Python 3.12.7, pytest-7.4.4, pluggy-1.0.0\n",
      "rootdir: /Users/ppando/Materias/prog/proy/PY/pruebas/02_pytest\n",
      "plugins: Faker-37.3.0, mock-3.14.1, anyio-4.2.0\n",
      "collected 2 items                                                              \u001b[0m\n",
      "\n",
      "p8.py \u001b[32m.\u001b[0m\u001b[32m.\u001b[0m\u001b[32m                                                                 [100%]\u001b[0m\n",
      "\n",
      "\u001b[32m============================== \u001b[32m\u001b[1m2 passed\u001b[0m\u001b[32m in 0.06s\u001b[0m\u001b[32m ===============================\u001b[0m\n"
     ]
    }
   ],
   "source": [
    "!pytest p8.py"
   ]
  }
 ],
 "metadata": {
  "kernelspec": {
   "display_name": "Python [conda env:base] *",
   "language": "python",
   "name": "conda-base-py"
  },
  "language_info": {
   "codemirror_mode": {
    "name": "ipython",
    "version": 3
   },
   "file_extension": ".py",
   "mimetype": "text/x-python",
   "name": "python",
   "nbconvert_exporter": "python",
   "pygments_lexer": "ipython3",
   "version": "3.12.7"
  }
 },
 "nbformat": 4,
 "nbformat_minor": 5
}
