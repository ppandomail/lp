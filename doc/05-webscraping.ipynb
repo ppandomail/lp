{
 "cells": [
  {
   "cell_type": "markdown",
   "id": "924a266a-e9c0-49c9-98a3-2eb443b0828c",
   "metadata": {},
   "source": [
    "# Web Scraping\n",
    "---"
   ]
  },
  {
   "cell_type": "markdown",
   "id": "358a05a0-2743-413a-afea-f7fbb887a445",
   "metadata": {},
   "source": [
    "* Es la técnica que permite extraer (raspar) información de la Web\n",
    "* Por ejemplo: obtener las cotizaciones de las acciones para tomar mejores decisiones de inversión "
   ]
  },
  {
   "cell_type": "markdown",
   "id": "d5b64eec-39fc-4368-b3a6-d1f3b7ed2510",
   "metadata": {},
   "source": [
    "## Ejemplo\n",
    "\n",
    "* Hacer un raspado o scraping de datos sobre la población del mundo\n",
    "* Los datos estan disponibles en sitio de **Worldometers**\n",
    "* ***Objetivo***: obtener esa tabla y convertirla en un **DataFrame** sin tener que copiar todos estos datos a mano "
   ]
  },
  {
   "cell_type": "code",
   "execution_count": 1,
   "id": "dfe829af-f4f4-4f1b-b73e-0471ad758bf6",
   "metadata": {},
   "outputs": [],
   "source": [
    "import requests\n",
    "from bs4 import BeautifulSoup\n",
    "import pandas as pd"
   ]
  },
  {
   "cell_type": "code",
   "execution_count": 2,
   "id": "f14bef45-9d5d-4f7a-bae8-d647aff71e58",
   "metadata": {},
   "outputs": [],
   "source": [
    "url = \"https://www.worldometers.info/world-population/population-by-country/\""
   ]
  },
  {
   "cell_type": "code",
   "execution_count": 3,
   "id": "707e279d-2bf7-44ed-b3cd-a53b72bfb689",
   "metadata": {},
   "outputs": [],
   "source": [
    "res = requests.get(url)"
   ]
  },
  {
   "cell_type": "code",
   "execution_count": 5,
   "id": "1947a657-1a82-4ff0-be06-17354ceb3bfd",
   "metadata": {},
   "outputs": [
    {
     "data": {
      "text/plain": [
       "200"
      ]
     },
     "execution_count": 5,
     "metadata": {},
     "output_type": "execute_result"
    }
   ],
   "source": [
    "res.status_code"
   ]
  },
  {
   "cell_type": "code",
   "execution_count": 16,
   "id": "30e56819-fb13-4eef-97f0-3a4723c912af",
   "metadata": {},
   "outputs": [],
   "source": [
    "# res.text"
   ]
  },
  {
   "cell_type": "code",
   "execution_count": 6,
   "id": "d78a0345-1a91-40ae-97a8-16038d535df3",
   "metadata": {},
   "outputs": [],
   "source": [
    "soup = BeautifulSoup(res.text)"
   ]
  },
  {
   "cell_type": "code",
   "execution_count": 7,
   "id": "5294f371-ab0c-4f96-892a-56ea809a134e",
   "metadata": {},
   "outputs": [],
   "source": [
    "data = soup.find_all(\"table\")[0]"
   ]
  },
  {
   "cell_type": "code",
   "execution_count": 13,
   "id": "e1ad9c19-b276-4c46-8cd9-9aae0d2c26aa",
   "metadata": {},
   "outputs": [],
   "source": [
    "# data"
   ]
  },
  {
   "cell_type": "code",
   "execution_count": 11,
   "id": "d3d4ce0c-a717-44fe-8c4b-9f29a45d7e38",
   "metadata": {},
   "outputs": [
    {
     "name": "stderr",
     "output_type": "stream",
     "text": [
      "/var/folders/0n/g5l4v8c52nn4wxk7hl89vk3m0000gn/T/ipykernel_2232/1371522127.py:1: FutureWarning: Passing literal html to 'read_html' is deprecated and will be removed in a future version. To read from a literal string, wrap it in a 'StringIO' object.\n",
      "  df_population = pd.read_html(str(data))[0]\n"
     ]
    }
   ],
   "source": [
    "df_population = pd.read_html(str(data))[0]"
   ]
  },
  {
   "cell_type": "code",
   "execution_count": 7,
   "id": "00db2fcd-ca0a-41ef-9e78-51415900aba2",
   "metadata": {},
   "outputs": [
    {
     "data": {
      "text/html": [
       "<div>\n",
       "<style scoped>\n",
       "    .dataframe tbody tr th:only-of-type {\n",
       "        vertical-align: middle;\n",
       "    }\n",
       "\n",
       "    .dataframe tbody tr th {\n",
       "        vertical-align: top;\n",
       "    }\n",
       "\n",
       "    .dataframe thead th {\n",
       "        text-align: right;\n",
       "    }\n",
       "</style>\n",
       "<table border=\"1\" class=\"dataframe\">\n",
       "  <thead>\n",
       "    <tr style=\"text-align: right;\">\n",
       "      <th></th>\n",
       "      <th>#</th>\n",
       "      <th>Country (or dependency)</th>\n",
       "      <th>Population (2025)</th>\n",
       "      <th>Yearly Change</th>\n",
       "      <th>Net Change</th>\n",
       "      <th>Density (P/Km²)</th>\n",
       "      <th>Land Area (Km²)</th>\n",
       "      <th>Migrants (net)</th>\n",
       "      <th>Fert. Rate</th>\n",
       "      <th>Median Age</th>\n",
       "      <th>Urban Pop %</th>\n",
       "      <th>World Share</th>\n",
       "    </tr>\n",
       "  </thead>\n",
       "  <tbody>\n",
       "    <tr>\n",
       "      <th>0</th>\n",
       "      <td>1</td>\n",
       "      <td>India</td>\n",
       "      <td>1463865525</td>\n",
       "      <td>0.89%</td>\n",
       "      <td>12929734</td>\n",
       "      <td>492</td>\n",
       "      <td>2973190</td>\n",
       "      <td>−495,753</td>\n",
       "      <td>1.94</td>\n",
       "      <td>28.8</td>\n",
       "      <td>37.1%</td>\n",
       "      <td>17.78%</td>\n",
       "    </tr>\n",
       "    <tr>\n",
       "      <th>1</th>\n",
       "      <td>2</td>\n",
       "      <td>China</td>\n",
       "      <td>1416096094</td>\n",
       "      <td>−0.23%</td>\n",
       "      <td>−3,225,184</td>\n",
       "      <td>151</td>\n",
       "      <td>9388211</td>\n",
       "      <td>−268,126</td>\n",
       "      <td>1.02</td>\n",
       "      <td>40.1</td>\n",
       "      <td>67.5%</td>\n",
       "      <td>17.20%</td>\n",
       "    </tr>\n",
       "    <tr>\n",
       "      <th>2</th>\n",
       "      <td>3</td>\n",
       "      <td>United States</td>\n",
       "      <td>347275807</td>\n",
       "      <td>0.54%</td>\n",
       "      <td>1849236</td>\n",
       "      <td>38</td>\n",
       "      <td>9147420</td>\n",
       "      <td>1230663</td>\n",
       "      <td>1.62</td>\n",
       "      <td>38.5</td>\n",
       "      <td>82.8%</td>\n",
       "      <td>4.22%</td>\n",
       "    </tr>\n",
       "    <tr>\n",
       "      <th>3</th>\n",
       "      <td>4</td>\n",
       "      <td>Indonesia</td>\n",
       "      <td>285721236</td>\n",
       "      <td>0.79%</td>\n",
       "      <td>2233305</td>\n",
       "      <td>158</td>\n",
       "      <td>1811570</td>\n",
       "      <td>−39,509</td>\n",
       "      <td>2.10</td>\n",
       "      <td>30.4</td>\n",
       "      <td>59.6%</td>\n",
       "      <td>3.47%</td>\n",
       "    </tr>\n",
       "    <tr>\n",
       "      <th>4</th>\n",
       "      <td>5</td>\n",
       "      <td>Pakistan</td>\n",
       "      <td>255219554</td>\n",
       "      <td>1.57%</td>\n",
       "      <td>3950390</td>\n",
       "      <td>331</td>\n",
       "      <td>770880</td>\n",
       "      <td>−1,235,336</td>\n",
       "      <td>3.50</td>\n",
       "      <td>20.6</td>\n",
       "      <td>34.4%</td>\n",
       "      <td>3.10%</td>\n",
       "    </tr>\n",
       "  </tbody>\n",
       "</table>\n",
       "</div>"
      ],
      "text/plain": [
       "   # Country (or dependency)  Population (2025) Yearly Change  Net Change  \\\n",
       "0  1                   India         1463865525         0.89%    12929734   \n",
       "1  2                   China         1416096094        −0.23%  −3,225,184   \n",
       "2  3           United States          347275807         0.54%     1849236   \n",
       "3  4               Indonesia          285721236         0.79%     2233305   \n",
       "4  5                Pakistan          255219554         1.57%     3950390   \n",
       "\n",
       "   Density (P/Km²)  Land Area (Km²) Migrants (net)  Fert. Rate  Median Age  \\\n",
       "0              492          2973190       −495,753        1.94        28.8   \n",
       "1              151          9388211       −268,126        1.02        40.1   \n",
       "2               38          9147420        1230663        1.62        38.5   \n",
       "3              158          1811570        −39,509        2.10        30.4   \n",
       "4              331           770880     −1,235,336        3.50        20.6   \n",
       "\n",
       "  Urban Pop % World Share  \n",
       "0       37.1%      17.78%  \n",
       "1       67.5%      17.20%  \n",
       "2       82.8%       4.22%  \n",
       "3       59.6%       3.47%  \n",
       "4       34.4%       3.10%  "
      ]
     },
     "execution_count": 7,
     "metadata": {},
     "output_type": "execute_result"
    }
   ],
   "source": [
    "df_population.head()"
   ]
  }
 ],
 "metadata": {
  "kernelspec": {
   "display_name": "Python [conda env:base] *",
   "language": "python",
   "name": "conda-base-py"
  },
  "language_info": {
   "codemirror_mode": {
    "name": "ipython",
    "version": 3
   },
   "file_extension": ".py",
   "mimetype": "text/x-python",
   "name": "python",
   "nbconvert_exporter": "python",
   "pygments_lexer": "ipython3",
   "version": "3.12.7"
  }
 },
 "nbformat": 4,
 "nbformat_minor": 5
}
