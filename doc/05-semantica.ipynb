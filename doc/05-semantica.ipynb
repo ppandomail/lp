{
 "cells": [
  {
   "cell_type": "markdown",
   "id": "a5d9910e-5104-4b16-8b9c-0c32b0d53bf5",
   "metadata": {},
   "source": [
    "# Semántica\n",
    "---"
   ]
  },
  {
   "cell_type": "markdown",
   "id": "1e290579-0887-40ed-8c41-6fc7fe6eed3d",
   "metadata": {},
   "source": [
    "|                         |    |\n",
    "| --                      | -- |\n",
    "| **¿Qué es?**            | Describe el significado (interpretaciones) de los símbolos, palabras y frases de un lenguaje, Ejemplo: en este LP, cuando se asigna un float a una entero se trunca por la parte entera inferior |\n",
    "| **¿Cómo se escribe?**   | Manuales de referencia (impreciso, ambiguo), uso de un traductor, definiciones formales (cálculo lambda) |\n",
    "| **¿Qué vamos a hacer?** | Recurrir a la pragmática, reconociendo la influencia de la pragmática en la semántica |"
   ]
  },
  {
   "cell_type": "markdown",
   "id": "38a67251-bd60-462e-b4d6-7c5a51a6b2c8",
   "metadata": {},
   "source": [
    "## Ligadura o binding"
   ]
  },
  {
   "cell_type": "markdown",
   "id": "efba8047-65e1-42ea-8045-4fe4aec511e5",
   "metadata": {},
   "source": [
    "* Es el estudio del momento preciso en el que un atributo (propiedad) de un elemento (entidad) del lenguaje es conocida\n",
    "* Es la asociación entre el elemento y el atributo"
   ]
  },
  {
   "cell_type": "markdown",
   "id": "61539a4f-0d94-4785-9459-1d6bd1598665",
   "metadata": {},
   "source": [
    "### Elementos"
   ]
  },
  {
   "cell_type": "markdown",
   "id": "74ca013b-e857-47ea-832c-9ae65370ae49",
   "metadata": {},
   "source": [
    "|                      |\n",
    "| --                   |\n",
    "| Variable             |\n",
    "| Función/método       |\n",
    "| Parámetro            |\n",
    "| Bloque               |\n",
    "| Sentencia            |\n",
    "| ... (depende del LP) |"
   ]
  },
  {
   "cell_type": "markdown",
   "id": "3d24279e-f6bf-4196-a2a3-bcc7faf4bbb5",
   "metadata": {},
   "source": [
    "### Atributos"
   ]
  },
  {
   "cell_type": "markdown",
   "id": "e2ed04ba-a84b-4b1c-a9d2-8c8af9d258af",
   "metadata": {},
   "source": [
    "|                      |\n",
    "| --                   |\n",
    "| Valor                |\n",
    "| Almacenamiento       |\n",
    "| Tipo                 |\n",
    "| Alcance              |\n",
    "| Nombre               |\n",
    "| Acción asociada      |\n",
    "| ... (depende del LP) |"
   ]
  },
  {
   "cell_type": "markdown",
   "id": "0a00e63c-4bec-4080-96b1-44fc1ddb7a6f",
   "metadata": {},
   "source": [
    "### Ejemplos"
   ]
  },
  {
   "cell_type": "markdown",
   "id": "aafa0880-f7ed-4c8b-990d-e7df880c61ee",
   "metadata": {},
   "source": [
    "| Tipo                                           |                                                                                             |\n",
    "| --                                             | --                                                                                          |\n",
    "| **Binding del tipo de las variables**          | es el momento en el que se conoce el tipo de la variable                                    |\n",
    "| **Binding de almacenamiento de las variables** | es el momento en el que se conoce la dirección de la celda donde se almacenan las variables |\n",
    "| **...**                                        | es el momento en el que se conoce ...                                                       |\n",
    "\n",
    "* Por ejemplo, la declaración o definición en el LP C:\n",
    "\n",
    "```\n",
    "const int n = 5;\n",
    "int x;\n",
    "double f(int n) { ... }\n",
    "```\n",
    "\n",
    "* asocia al identificador n el atributo de tipo de dato constante entera y el atributo de valor 5\n",
    "* asocia el atributo variable y el tipo de dato entero al identificador x\n",
    "* asocia el atributo función al identificador f y parámetros y tipo de dato devuelto y cuerpo del código que se ejecuta cuando se llama a la función"
   ]
  },
  {
   "cell_type": "markdown",
   "id": "7df1c787-99e3-4af0-8065-b540340b1273",
   "metadata": {},
   "source": [
    "### Binding Time"
   ]
  },
  {
   "cell_type": "markdown",
   "id": "2d9745a3-4e72-4153-8ade-12f2f557c3d3",
   "metadata": {},
   "source": [
    "| Binding Time | | Ejemplo 1 | Ejemplo 2 |\n",
    "| -- | -- | -- | -- |\n",
    "| **Estático** | Tiempo de definición (diseño e implementación) del lenguaje    | %i **BASIC** (las variables seguidas con % son enteras) | @a **Perl** (las variables que comienzan con @ tienen estructura de tipo arreglo) |\n",
    "| **Estático** | Tiempo de escritura del programa (gralmente. en LP compilados) | i: interger; **Pascal, Delphi** | int i; **C/C++, Java** |\n",
    "| **Dinámico** | Tiempo de ejecución (gralmente. en LP interpretados)           | if (a == 1): b  = 'Hola' else b = 2.0 **Python** | if. T do, i=:3 else. i=:a end. **J** |"
   ]
  },
  {
   "cell_type": "markdown",
   "id": "0789e0b1-40d5-442b-9a21-248dec0cd5c4",
   "metadata": {},
   "source": [
    "## Tipos de datos"
   ]
  },
  {
   "cell_type": "markdown",
   "id": "1ed29ee2-1672-406c-ad5e-426faf1fc7a5",
   "metadata": {},
   "source": [
    "* Conjunto de valores posibles (dominio), con un conjunto de operaciones asociadas a esos valores (ejemplo: comparación, asignación, etc.)\n",
    "\n",
    "| Tipos | para el LP contienen ... | Ejemplos |\n",
    "| -- | -- | -- |\n",
    "| **Básicos o escalares**    | un único valor (pueden estar compuestos internamente por varios valores) | Booleanos, Caracter, Enteros, Punto fijo, Punto flotante (real, float, double, etc.), Nulos, Enumeraciones, Intervalos, Tipos ordenados, etc. |\n",
    "| **Compuestos o agregados** | más de un valor | Arreglos, Listas, Vectores, Conjuntos, Estructuras/Registros, Tipos recursivos (ejemplo: nodo), Tipos abstractos de datos (ejemplo: pila), Módulos, Clases |"
   ]
  },
  {
   "cell_type": "markdown",
   "id": "72264d2a-67ff-4de9-a9d0-bce211187213",
   "metadata": {},
   "source": [
    "![Arrays](img/arrays.JPG)"
   ]
  },
  {
   "cell_type": "markdown",
   "id": "32aa0a16-beb4-4dbf-9ba1-8b2dd89baa8f",
   "metadata": {},
   "source": [
    "## Sistema de tipos"
   ]
  },
  {
   "cell_type": "markdown",
   "id": "77d39943-63f6-4ee9-87c5-5c79823fdc21",
   "metadata": {},
   "source": [
    "* Conjunto de reglas que estructuran y organizan una colección de tipos y determinan el tipo de un elemento (constantes, variables, retorno de funciones, parámetros, expresiones, etc.) del LP cuando este participa en una instrucción\n",
    "* **Objetivo del Sistema de tipos**: lograr que los programas sean tan seguros como sea posible --> Seguridad vs. Flexibilidad\n",
    "* El **Sistema de tipos es fuerte** cuando especifica restricciones sobre cómo las operaciones que involucran valores de diferentes tipos pueden operarse. Lo contrario establece un **sistema débil de tipos**"
   ]
  },
  {
   "cell_type": "markdown",
   "id": "2a6682ff-d2e5-4003-ac47-1f18631a8090",
   "metadata": {},
   "source": [
    "### Ejemplo"
   ]
  },
  {
   "cell_type": "markdown",
   "id": "79ac0cf4-228a-40f0-8957-e4d16b18f755",
   "metadata": {},
   "source": [
    "```\n",
    "a = 2\n",
    "b = \"2\"\n",
    "concatenar(a, b) // retorna \"22\"\n",
    "sumar(a, b)      // retorna 4\n",
    "\n",
    "concatenar(a, b) // error de tipos\n",
    "sumar(a, b)      // error de tipos\n",
    "\n",
    "concatenar(str(a), b) // retorna \"22\"\n",
    "sumar(a, int(b))      // retorna 4\n",
    "```"
   ]
  },
  {
   "cell_type": "markdown",
   "id": "5c09c36f-150b-4f67-a9a5-bacd9289599b",
   "metadata": {},
   "source": [
    "![Sistema de tipos](img/sistema-tipos.png)"
   ]
  },
  {
   "cell_type": "markdown",
   "id": "fa226ee0-82b4-4390-9806-0798185aeada",
   "metadata": {},
   "source": [
    "### Clasificación"
   ]
  },
  {
   "cell_type": "markdown",
   "id": "e7240de1-7bf3-4f18-b86f-b3f11da904d7",
   "metadata": {},
   "source": [
    "|                                                                         |                       |                       |\n",
    "| --                                                                      | --                    | --                    |\n",
    "| Momento en que se conoce el tipo                                        | **static typing**     | **dynamic typing**    |\n",
    "| Las operaciones aplicables respetan siempre los términos del tipo       | SI: **strong typing** | NO: **soft typing**   |\n",
    "| Los elementos siempre tienen un valor admisible para el tipo que poseen | SI: **type safety**   | NO: **type unsafety** |"
   ]
  }
 ],
 "metadata": {
  "kernelspec": {
   "display_name": "Python [conda env:base] *",
   "language": "python",
   "name": "conda-base-py"
  },
  "language_info": {
   "codemirror_mode": {
    "name": "ipython",
    "version": 3
   },
   "file_extension": ".py",
   "mimetype": "text/x-python",
   "name": "python",
   "nbconvert_exporter": "python",
   "pygments_lexer": "ipython3",
   "version": "3.12.7"
  }
 },
 "nbformat": 4,
 "nbformat_minor": 5
}
