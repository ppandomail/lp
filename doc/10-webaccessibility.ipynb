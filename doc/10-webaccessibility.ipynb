{
 "cells": [
  {
   "cell_type": "markdown",
   "id": "370ad498-f9d4-408d-93c5-2e1a0c8f1ef1",
   "metadata": {},
   "source": [
    "# Web Accessibility\n",
    "---"
   ]
  },
  {
   "cell_type": "markdown",
   "id": "07cfc3a2-cf9d-4e99-9059-2a50b54ba7de",
   "metadata": {},
   "source": [
    "## Video: ¿Qué es la accesibilidad web?"
   ]
  },
  {
   "cell_type": "markdown",
   "id": "a6d7bcc4-8f6e-4ac3-a2cb-51795a7544df",
   "metadata": {},
   "source": [
    "[¿Qué es la accesibilidad web?](https://www.youtube.com/watch?v=gQIKQO41pME)"
   ]
  },
  {
   "cell_type": "markdown",
   "id": "20b47719-54db-4911-95da-251c431283e7",
   "metadata": {},
   "source": [
    "## a11y"
   ]
  },
  {
   "cell_type": "markdown",
   "id": "16f331e3-69e5-444e-b792-6c180e142567",
   "metadata": {},
   "source": [
    "![a11y](img/aw_01_intro_a11y.png)"
   ]
  },
  {
   "cell_type": "markdown",
   "id": "9613c3e6-fe6c-4a71-936e-78a492f4e08f",
   "metadata": {},
   "source": [
    "## Problemas de accesibilidad en el mundo real"
   ]
  },
  {
   "cell_type": "markdown",
   "id": "9a1ebf8c-014d-4c07-9bb9-70410b28ba16",
   "metadata": {},
   "source": [
    "![Problemas de accesibilidad en el mundo real](img/aw_01_intro_problemas.png)"
   ]
  },
  {
   "cell_type": "markdown",
   "id": "5cea0aa3-2f9e-47d6-bf69-f2aee1d2aa39",
   "metadata": {},
   "source": [
    "## Definición AW"
   ]
  },
  {
   "cell_type": "markdown",
   "id": "3a75eca8-c18c-4db7-ba4a-8094dbf18bc5",
   "metadata": {},
   "source": [
    "![Definición de accesibilidad web](img/aw_taller_definicion.png)"
   ]
  },
  {
   "cell_type": "markdown",
   "id": "76e72548-a093-4666-9ab5-f86b1faabfb4",
   "metadata": {},
   "source": [
    "## Ejemplo"
   ]
  },
  {
   "cell_type": "markdown",
   "id": "f0c0ff1e-b49c-4129-b812-61e3fbfd7c4b",
   "metadata": {},
   "source": [
    "### Lo que estamos viendo"
   ]
  },
  {
   "cell_type": "markdown",
   "id": "6fddb15a-74fd-4601-945f-04175800995b",
   "metadata": {},
   "source": [
    "![Lo que estamos viendo](img/aw_03_discapacidad_ejemplo_ven.png)"
   ]
  },
  {
   "cell_type": "markdown",
   "id": "dbc4c01a-d49f-4b22-8eda-d70c14fc3011",
   "metadata": {},
   "source": [
    "### Lo que ven las personas ciegas"
   ]
  },
  {
   "cell_type": "markdown",
   "id": "bd104377-ea53-4822-9ba6-6859c9aa777b",
   "metadata": {},
   "source": [
    "![Lo que ven las personas ciegas](img/aw_03_discapacidad_ejemplo_noven.png)"
   ]
  },
  {
   "cell_type": "markdown",
   "id": "a2fe224d-dc52-4b57-a393-759046516006",
   "metadata": {},
   "source": [
    "### Datos estadísticos"
   ]
  },
  {
   "cell_type": "markdown",
   "id": "18f32cf8-cb37-49eb-9e94-ec6ca8fc1810",
   "metadata": {},
   "source": [
    "![Discapacidad en el mundo](img/aw_03_discapacidad_estadistica.png)"
   ]
  },
  {
   "cell_type": "markdown",
   "id": "97be2d04-7348-4925-a3d1-04f4f33be93b",
   "metadata": {},
   "source": [
    "## Legislación"
   ]
  },
  {
   "cell_type": "markdown",
   "id": "6fa2fa9f-5df2-4d17-bbee-23c6a9741c40",
   "metadata": {},
   "source": [
    "### Pautas y Leyes a nivel mundial"
   ]
  },
  {
   "cell_type": "markdown",
   "id": "cc43b882-47b3-403f-8ca5-d9b34318062d",
   "metadata": {},
   "source": [
    "![W3C](img/aw_04_pautas_y_leyes_w3c.png)"
   ]
  },
  {
   "cell_type": "markdown",
   "id": "5ab27f1a-f455-46e6-a06b-32b0f045b5a7",
   "metadata": {},
   "source": [
    "|              |                                                                               |\n",
    "| --           | --                                                                            |\n",
    "| **W3C**      | World Wide Web Consortium                                                     |\n",
    "| **WAI**      | Web Accessibility Initiative                                                  |\n",
    "| **WCAG 2.0** | Web Content Accessibility Guidelines 2.0 [URL](https://www.w3.org/TR/WCAG20/) |"
   ]
  },
  {
   "cell_type": "markdown",
   "id": "e0a37d60-b448-457f-beeb-f4fb4b50561c",
   "metadata": {},
   "source": [
    "### WCAG 2.0"
   ]
  },
  {
   "cell_type": "markdown",
   "id": "830c72ab-1001-4aa0-b515-02f74772da9a",
   "metadata": {},
   "source": [
    "![WCAG 2.0](img/aw_04_pautas_y_leyes_wcag2.0_español.png)"
   ]
  },
  {
   "cell_type": "markdown",
   "id": "26c2cc9b-4ed1-4bdb-bf63-87c55c419fa3",
   "metadata": {},
   "source": [
    "### Técnicas"
   ]
  },
  {
   "cell_type": "markdown",
   "id": "57cee08f-64ee-42f8-9671-e0c98080999d",
   "metadata": {},
   "source": [
    "| Criterio 1.1.1 |\n",
    "| --- |\n",
    "| ![CAPTCHA](img/aw_05_tecnicas_captcha.png) |"
   ]
  },
  {
   "cell_type": "markdown",
   "id": "6679de5d-fbd5-4fad-97d3-a726b8542602",
   "metadata": {},
   "source": [
    "| Criterio 1.2.2 |\n",
    "| --- |\n",
    "| ![Video CC](img/aw_05_tecnicas_videoscc.jpeg) |"
   ]
  },
  {
   "cell_type": "markdown",
   "id": "36b4005c-6abe-4703-ad27-0deb0feca531",
   "metadata": {},
   "source": [
    "| Criterio 1.1.1 |\n",
    "| --- |\n",
    "| ![Imágenes con atributo ALT](img/aw_05_tecnicas_alt.jpg) |"
   ]
  },
  {
   "cell_type": "markdown",
   "id": "b8cface6-d063-486e-abea-35ee9763a978",
   "metadata": {},
   "source": [
    "| Criterio 1.4.2 |\n",
    "| --- |\n",
    "| ![Pausar audio](img/aw_05_tecnicas_audio.jpeg) |"
   ]
  },
  {
   "cell_type": "markdown",
   "id": "2a597c9d-532b-4311-a9b9-071b2ea76828",
   "metadata": {},
   "source": [
    "| Criterio 1.4.3 |\n",
    "| --- |\n",
    "| ![Alto contraste](img/aw_05_tecnicas_contraste.png) |\n",
    "| ![Ejemplo Alto contraste](img/aw_05_tecnicas_contraste2.png) |\n",
    "| Ejemplo: Poco contraste vs Mucho contraste |"
   ]
  },
  {
   "cell_type": "markdown",
   "id": "0af9b15e-5f41-4ae2-9e0a-e2cd29ab1e81",
   "metadata": {},
   "source": [
    "| Criterio 2.4.2 |\n",
    "| --- |\n",
    "| ![Titulos y encabezados](img/aw_05_tecnicas_encabezados.jpg) |"
   ]
  },
  {
   "cell_type": "markdown",
   "id": "96ea82a8-31de-4f9f-8cf9-239385237bb6",
   "metadata": {},
   "source": [
    "| Criterio 2.4.4 |\n",
    "| --- |\n",
    "| ![Textos descriptivos](img/aw_05_tecnicas_texto_descriptivo.png) |"
   ]
  },
  {
   "cell_type": "markdown",
   "id": "4241997b-613f-4377-9e1e-837b5f99896b",
   "metadata": {},
   "source": [
    "| Criterio 2.1.1 |\n",
    "| --- |\n",
    "| ![Mouse + Teclado](img/aw_05_tecnicas_mouse_teclado.jpg) |"
   ]
  },
  {
   "cell_type": "markdown",
   "id": "e8a71f97-3b47-483a-8680-0777fde0618b",
   "metadata": {},
   "source": [
    "| Criterio 2.4.3 |\n",
    "| --- |\n",
    "| ![Foco](img/aw_05_tecnicas_foco.jpg) |"
   ]
  },
  {
   "cell_type": "markdown",
   "id": "76de154a-eb42-4414-bf0d-a1fb814bc10f",
   "metadata": {},
   "source": [
    "| Criterio 2.2.1 |\n",
    "| --- |\n",
    "| ![Tiempo suficiente](img/aw_05_tecnicas_tiempo.png) |"
   ]
  },
  {
   "cell_type": "markdown",
   "id": "5b302951-3a8e-4680-a0af-86a502a309f3",
   "metadata": {},
   "source": [
    "| Criterio 2.3.1 |\n",
    "| --- |\n",
    "| ![Destellos](img/aw_05_tecnicas_destellos.png) |"
   ]
  },
  {
   "cell_type": "markdown",
   "id": "50471098-9687-4d00-a3bc-e6ad274d899f",
   "metadata": {},
   "source": [
    "| |\n",
    "| -- |\n",
    "| ![Palabras simples y párrafos breves](img/aw_05_tecnicas_palabras_simples.png) |"
   ]
  },
  {
   "cell_type": "markdown",
   "id": "47173095-26ac-471e-a927-cc696d51a64c",
   "metadata": {},
   "source": [
    "| |\n",
    "| -- |\n",
    "| ![Diseño responsivo](img/aw_05_tecnicas_disenio_responsivo.png) |"
   ]
  },
  {
   "cell_type": "markdown",
   "id": "9cd46678-5f11-45c5-93c5-c9d04cefceee",
   "metadata": {},
   "source": [
    "| Criterio 3.3.1 |\n",
    "| --- |\n",
    "| ![Diseño responsivo](img/aw_05_tecnicas_disenio_responsivo2.png) |"
   ]
  },
  {
   "cell_type": "markdown",
   "id": "b5986135-f683-4159-a610-18bd34d7ee21",
   "metadata": {},
   "source": [
    "### Video: ¿Cómo diseñar un sitio web accesible?"
   ]
  },
  {
   "cell_type": "markdown",
   "id": "ff9ce7e9-1c87-4da9-ad92-78c68da244bc",
   "metadata": {},
   "source": [
    "[¿Cómo diseñar un sitio web accesible?](https://www.youtube.com/watch?v=5WrB508ZpNI)"
   ]
  },
  {
   "cell_type": "markdown",
   "id": "f8370147-1706-4be7-a069-9b3a3ec6cc39",
   "metadata": {},
   "source": [
    "### Legislación en Argentina"
   ]
  },
  {
   "cell_type": "markdown",
   "id": "54222b3a-28df-486c-a80d-740bb593c2a9",
   "metadata": {},
   "source": [
    "![Legislación en Argentina](img/aw_04_pautas_y_leyes_arg.png)\n",
    "[ONTI](https://www.argentina.gob.ar/jefatura/innovacion-publica/onti/evaluacion-accesibilidad-web)"
   ]
  }
 ],
 "metadata": {
  "kernelspec": {
   "display_name": "Python [conda env:base] *",
   "language": "python",
   "name": "conda-base-py"
  },
  "language_info": {
   "codemirror_mode": {
    "name": "ipython",
    "version": 3
   },
   "file_extension": ".py",
   "mimetype": "text/x-python",
   "name": "python",
   "nbconvert_exporter": "python",
   "pygments_lexer": "ipython3",
   "version": "3.12.7"
  }
 },
 "nbformat": 4,
 "nbformat_minor": 5
}
