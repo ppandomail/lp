{
 "cells": [
  {
   "cell_type": "markdown",
   "id": "471ffab8-20a6-44be-a976-70091dc68a75",
   "metadata": {},
   "source": [
    "# Flujo\n",
    "---"
   ]
  },
  {
   "cell_type": "markdown",
   "id": "116a38f1-aec3-48ed-b474-94b7057bdb3c",
   "metadata": {},
   "source": [
    "* La manera cómo se incorpora el control de flujo en el LP determina el orden de ejecución de un programa\n",
    "* Los mecanismos del LP utilizados para especificar el orden de ejecución, pueden ordenarse en categorías:\n",
    "\n",
    "  | Categoría | | Ejemplos |\n",
    "  | -- | -- | -- |\n",
    "  | **secuencia**    | orden de las sentencias para su ejecución | asignaciones, if, ... |\n",
    "  | **selección**    | alternativa entre dos o más sentencias controlada por una condición booleana | if-then-else, switch-case |\n",
    "  | **iteración**    | causa que una o más sentencias se ejecuten cero o más veces | PERFORM-TIMES, for, foreach, while, do-while |\n",
    "  | **unidad**       | abstracción procedural | f() { ... } |\n",
    "  | **recursión**    | funciones con posibilidad de llamarse a sí mismas | f() { caso-base; f(); } |\n",
    "  | **concurrencia** | | |\n",
    "  | **excepciones**  | eventos inusuales (ejemplo: división por cero, apertura de archivo inexistente) que deberían controlarse/manejarse para que el SW sea confiable y tolerante a fallas | try-catch-finally, try-except-else-finally |\n",
    "  | **eventos**      | el control de ejecución se basa en acciones producidas por el usuario o por el entorno | on event when condition do action |"
   ]
  },
  {
   "cell_type": "markdown",
   "id": "bfcf4275-bfa0-452c-b2e8-6fc31cb51558",
   "metadata": {},
   "source": [
    "## Expresión"
   ]
  },
  {
   "cell_type": "markdown",
   "id": "a0bde2c4-bd3e-461d-b194-b2637f34c8ae",
   "metadata": {},
   "source": [
    "* Consiste de un objeto simple (constante o variable) o un operador o una función aplicada a una colección de operandos o argumentos (cada uno de los cuales define una expresión)\n",
    "* Consta de:\n",
    "  * Operadores (unarios, binarios o ternarios)\n",
    "  * Operandos\n",
    "  * Paréntesis\n",
    "  * Llamadas a función"
   ]
  },
  {
   "cell_type": "markdown",
   "id": "b1ea3f1b-875a-46a5-bf14-55b4310abfbe",
   "metadata": {},
   "source": [
    "## Asignación"
   ]
  },
  {
   "cell_type": "markdown",
   "id": "40da2a65-100f-419a-9c6a-6cca276fefdc",
   "metadata": {},
   "source": [
    "* En el **paradigma declarativo**, el cómputo consiste en **evaluar expresiones**\n",
    "* En el **paradigma operacional**, el cómputo consiste en una **serie ordenada de cambios** (de los valores de las variables en memoria)"
   ]
  },
  {
   "cell_type": "markdown",
   "id": "fa9b79ac-60be-45d3-a61e-dcf2745f798a",
   "metadata": {},
   "source": [
    "## Evaluación de Expresiones"
   ]
  },
  {
   "cell_type": "markdown",
   "id": "19729631-fd89-4e22-8246-8198000a8b61",
   "metadata": {},
   "source": [
    "| Tipo de Evaluación || Ejemplo |\n",
    "| -- | -- | -- |\n",
    "| **estricta o ansiosa**     | los argumentos de una función o los operandos de la expresión son siempre completamente evaluados antes de la aplicación de la función u operador. Tradicionalmente usada por los LP | sumar(2+1); al parámetro le llega 3 |\n",
    "| **no estricta o perezosa** | los argumentos de una función o los operandos de la expresión no son evaluados a menos que sean utilizados en el cuerpo de la función o sean necesarios para determinar el valor de la expresión | sumar(2+1); al parámetro le llega 2+1 |\n"
   ]
  },
  {
   "cell_type": "markdown",
   "id": "1023490d-8b21-4d87-9706-c7add4df5c97",
   "metadata": {},
   "source": [
    "## Tipos de Control de Flujo"
   ]
  },
  {
   "cell_type": "markdown",
   "id": "4c7bb7ea-ee48-4a5d-816d-0e9d2883d6fc",
   "metadata": {},
   "source": [
    "| Tipos | | |\n",
    "| -- | -- | -- |\n",
    "| **no estructurado** | se provee a través de saltos condicionales e incondicionales | if E1 C1: **goto** L1 |\n",
    "| **estructurado**    | correspondencia entre el orden del texto del programa y el orden de la ejecución, permitiendo legibilidad, verificación, mantenimiento | ejecución **top-down**, con opciones de sentencias **break** y **continue** |"
   ]
  },
  {
   "cell_type": "markdown",
   "id": "2831edf7-eeb4-4898-a634-618c50515ed7",
   "metadata": {},
   "source": [
    "## Subprogramas"
   ]
  },
  {
   "cell_type": "markdown",
   "id": "67ae7d39-d0eb-451b-bdd5-e78186fa55ae",
   "metadata": {},
   "source": [
    "* Los LP operativos brindan mecanismos para dividir el programa en unidades, cada una de las cuales tiene cierta coherencia y lógica\n",
    "* Su incorporación fomenta:\n",
    "\n",
    "  |||\n",
    "  | -- | -- |\n",
    "  | **eficiencia**   | permiten factorizar el código |\n",
    "  | **legibilidad**  | metodología de diseño top-down |\n",
    "  | **verificación** | una unidad puede pensarse como un mapeo entre dominios de valores |\n",
    "\n",
    "* Los LP permiten que un programa esté compuesto por subprogramas (secuencia de sentencias de un programa)\n",
    "* En general se las llama rutinas, procedimientos, métodos, funciones (un valor), llaves o delimitadores, closures o funciones lambda"
   ]
  },
  {
   "cell_type": "markdown",
   "id": "d4404106-902a-40ca-abaf-b82cc12ea098",
   "metadata": {},
   "source": [
    "### Ejemplo"
   ]
  },
  {
   "cell_type": "code",
   "execution_count": 10,
   "id": "6d1943b8-d07a-484f-8659-b0145e97a4cf",
   "metadata": {},
   "outputs": [],
   "source": [
    "def f1():\n",
    "    return 3 + 2"
   ]
  },
  {
   "cell_type": "markdown",
   "id": "77cf128c-999f-4bef-9f2e-6034b74daea3",
   "metadata": {},
   "source": [
    "### Atributos"
   ]
  },
  {
   "cell_type": "markdown",
   "id": "e2e242d6-5f7c-420b-8139-5c6c1decf1a9",
   "metadata": {},
   "source": [
    "|                                  | |\n",
    "| --                               | -- |\n",
    "| **nombre**                       | identificador que se introduce en su declaración para invocar a la rutina |\n",
    "| **alcance**                      | segmento de código dentro del cual el subprograma puede invocarse (si incluye al mismo subprograma acepta recursividad). Rango de instrucciones donde se conoce su nombre |\n",
    "| **ambiente de referenciamiento** | puede ser: **local** (entidades declaradas dentro de la rutina) o **no local** (referencias a entidades declaradas en otros subprogramas cuyo alcance es visible en la rutina). Toda variable no locales que pueda ser referenciada por cualquier subprograma en el programa se llaman variables globales |\n",
    "| **lista de parámetros**          | permiten la comunicación del subprograma con el resto del programa. Si se admiten parámetros de diferentes tipos el subprograma es polimórfico |\n",
    "| **encabezado/declaración**       | formado por el nombre del subprograma, la lista de parámetros y el tipo del resultado |\n",
    "| **cuerpo**                       | formado por las declaraciones locales y la sección ejecutable |\n",
    "| **definición**                   | declaración + cuerpo |"
   ]
  },
  {
   "cell_type": "code",
   "execution_count": 11,
   "id": "a4af518e-07a3-423c-a305-76332279ff67",
   "metadata": {},
   "outputs": [],
   "source": [
    "def suma(n):               # ENCABEZADO = DECLARACIÓN\n",
    "    s = 0                  # cuerpo \n",
    "    for i in range(1, n):  # cuerpo\n",
    "        s += i             # cuerpo\n",
    "    return s               # cuerpo"
   ]
  },
  {
   "cell_type": "markdown",
   "id": "18cf732f-cd8d-49c4-a997-913505b1035e",
   "metadata": {},
   "source": [
    "### Parámetros"
   ]
  },
  {
   "cell_type": "markdown",
   "id": "148bb5e6-4a3a-46a2-8ebc-04727fd81a39",
   "metadata": {},
   "source": [
    "* Hay dos maneras de hacerle llegar los datos sobre los cuales computar a una unidad, a través del:\n",
    "  * acceso a variables no locales visibles para la unidad\n",
    "  * pasaje de parámetros\n",
    "* Los datos pasados como parámetros son accedidos a través de nombres que son locales a la unidad\n",
    "* El pasaje de parámetros es más flexible, ya que define computación parametrizada\n",
    "* El uso de variables no locales puede conducir a programas menos confiable\n",
    "\n",
    "| Tipo de parámetro | | Ejemplo |\n",
    "| -- | -- | -- |\n",
    "| **formal**                 | se declaran/definen en el encabezado de la unidad; aclarando en general su tipo | def sumar(a, b): |\n",
    "| **actual/real/argumentos** | son variables, constantes, expresiones que se utilizan en la invocación de la unidad | sumar(2, 3) |"
   ]
  },
  {
   "cell_type": "markdown",
   "id": "2bcffd34-d697-4f64-9b80-35ba49c9be55",
   "metadata": {},
   "source": [
    "### Binding entre parámetros formales y reales"
   ]
  },
  {
   "cell_type": "markdown",
   "id": "88ed93b4-b8e6-4b54-a39e-b5bee143aaf8",
   "metadata": {},
   "source": [
    "| Asociación sintáctica | | Ejemplos |\n",
    "| -- | -- | -- |\n",
    "| **posicional**             | asociación por la posición de los parámetros en la definición (formales) y la invocación (reales). Se ligan uno a uno | PROCEDURE P(x:INTEGER; y:FLOAT; z:INTEGER); <br> BEGIN <br> END; <br> P(a, b, c); |\n",
    "| **faltantes o implícitos** | sólo pueden estar al final de los parámetros de la función. No es posible que un parámetro del medio pueda faltar | def ff(str1, a=1, str2='No'): <br> pass <br> ff('Hola') <br> ff('Hola', 2) <br> ff('Hola', 2, 'que tal') |\n",
    "| **explícito**              | el llamador debe conocer los nombres de los parámetros formales. Útil cuando existen muchos parámetros faltantes y se quieren pasar pocos | def ff(str1, a=1, str2='No'): <br> pass <br> ff('Hola', a=3) <br> ff('Hola', str2='¿cómo andas?') |\n",
    "| **anónimo**                | cantidad variable de parámetros. El invocado no conoce la cantidad ni el tipo de los parámetros | void ff(int a, ...); <br> ... <br> ff(x, y, 3); |"
   ]
  },
  {
   "cell_type": "markdown",
   "id": "4debf69c-fa02-49c7-a1e4-71257e289ba5",
   "metadata": {},
   "source": [
    "| Asociación semántica | | Ejemplo |\n",
    "| -- | -- | -- |\n",
    "| **referencia**    | se crea un \"alias\" entre cada parámetro real y su correspondiente parámetro formal. Referencian la misma celda de memoria. Las modificaciones sobre el parámetro formal se reflejan en el parámetro real | void ff(int& i) { i = 3; } <br> int a = 4; <br> ff(a); |\n",
    "| **copia o valor** | se copian los valores  de los parámetros reales en los parámetros formales. Los parámetros reales y formales se desacoplan | void ff(int i) { i = 3; } <br> int a = 4; <br> ff(a); |"
   ]
  },
  {
   "cell_type": "markdown",
   "id": "e21aee74-c7f1-4878-8d56-4947483ca7d7",
   "metadata": {},
   "source": [
    "### Genérico"
   ]
  },
  {
   "cell_type": "markdown",
   "id": "fbe35e80-f1e8-465a-a1b2-dc69a160a3c4",
   "metadata": {},
   "source": [
    "* Los subprogramas factorean un segmento de código, que se ejecutará en diferentes puntos mediante una invocación customizada a través de los parámetros\n",
    "* Si difieren en algún detalle que no pueden resolver los parámetros debe repetirse la codificación\n",
    "  * Una rutina para ordenar arreglos de enteros\n",
    "  * Otra rutina para ordenar arreglos de strings\n",
    "* Se puede parametrizar el tipo (C++, Ada, Java)\n",
    "* Una rutina genérica es un molde\n",
    "* Cada instanciación genera una rutina específica ligando el parámetro genérico al parámetro real durante la compilación"
   ]
  },
  {
   "cell_type": "markdown",
   "id": "6987bf04-4ab3-4aaa-962b-299f14ebbae1",
   "metadata": {},
   "source": [
    "### Pasaje de funciones como parámetros"
   ]
  },
  {
   "cell_type": "code",
   "execution_count": 12,
   "id": "2125abc9-9d4b-4261-b5ee-eea2a61a0a3e",
   "metadata": {},
   "outputs": [
    {
     "name": "stdout",
     "output_type": "stream",
     "text": [
      "1\n"
     ]
    }
   ],
   "source": [
    "def x(a):\n",
    "  print(a)\n",
    "\n",
    "def y(z, t):\n",
    "  z(t)\n",
    "\n",
    "y(x, 1)"
   ]
  },
  {
   "cell_type": "markdown",
   "id": "bf51015c-3163-4b46-9e2f-ab9e3a05df1f",
   "metadata": {},
   "source": [
    "### Sobrecarga"
   ]
  },
  {
   "cell_type": "markdown",
   "id": "07b3e378-1294-4d21-aca9-60991d04ce11",
   "metadata": {},
   "source": [
    "* Un nombre con mas de una entidades\n",
    "* Hay suficiente información para permitir establecer la ligadura unívocamente\n",
    "\n",
    "```\n",
    "class A {\n",
    "    void m() {}\n",
    "    void m(int i) {}\n",
    "    void m(boolean b) {}\n",
    "}\n",
    "```"
   ]
  },
  {
   "cell_type": "markdown",
   "id": "1d48c1e3-666b-4d7c-ba5e-42c98eb70d59",
   "metadata": {},
   "source": [
    "### Closures"
   ]
  },
  {
   "cell_type": "markdown",
   "id": "7aee5497-0450-4aaf-9ab8-4586851995c0",
   "metadata": {},
   "source": [
    "* Aportan características funcionales al LP\n",
    "* Permite igualar las funciones con las variables\n",
    "* Proporcionan mayor flexibilidad a las funciones\n",
    "* Permiten que un objeto retorne un método sin necesidad de dar acceso a sus propios atributos\n",
    "* Permite implementar funciones generadoras de funciones\n",
    "* LP que tienen closures: ML, Lisp, Perl, Ruby, Python, JavaScript, PHP, C++, Java, Rust, GO, entre otros\n",
    "* Función evaluada o ejecutada en un ámbito diferente al cual fue definida\n",
    "* Puede hacer uso de variables no presentes en su ámbito de evaluación\n",
    "* El LP debe proveer un mecanismo para que la función acceda a las variables del ámbito correspondiente"
   ]
  },
  {
   "cell_type": "code",
   "execution_count": 13,
   "id": "fbb15a24-216b-49eb-a847-973b97de69ca",
   "metadata": {},
   "outputs": [
    {
     "data": {
      "text/plain": [
       "<function __main__.a.<locals>.b()>"
      ]
     },
     "execution_count": 13,
     "metadata": {},
     "output_type": "execute_result"
    }
   ],
   "source": [
    "def a():\n",
    "    x = 2\n",
    "    def b():        # es un closure\n",
    "      y = 3\n",
    "      print(x + y)\n",
    "    return b\n",
    "\n",
    "z = a\n",
    "z()"
   ]
  }
 ],
 "metadata": {
  "kernelspec": {
   "display_name": "Python [conda env:base] *",
   "language": "python",
   "name": "conda-base-py"
  },
  "language_info": {
   "codemirror_mode": {
    "name": "ipython",
    "version": 3
   },
   "file_extension": ".py",
   "mimetype": "text/x-python",
   "name": "python",
   "nbconvert_exporter": "python",
   "pygments_lexer": "ipython3",
   "version": "3.12.7"
  }
 },
 "nbformat": 4,
 "nbformat_minor": 5
}
