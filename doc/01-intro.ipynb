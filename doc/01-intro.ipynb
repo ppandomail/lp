{
 "cells": [
  {
   "cell_type": "markdown",
   "id": "6cee7792-f5c0-4975-81d5-2a55cbfa1c38",
   "metadata": {},
   "source": [
    "# Introducción a los Lenguajes de Programación\n",
    "---"
   ]
  },
  {
   "cell_type": "markdown",
   "id": "f6f1a33d-2549-45fe-b977-912d7ccb7b12",
   "metadata": {},
   "source": [
    "## Concepto"
   ]
  },
  {
   "cell_type": "markdown",
   "id": "e3764bac-7cbc-46f2-a3f4-13f84caf61b8",
   "metadata": {},
   "source": [
    "* Comunicación entre seres humanos y computadoras\n",
    "* Es una notación para escribir programas (especificación de una tarea de computación)"
   ]
  },
  {
   "cell_type": "markdown",
   "id": "f89a616b-6059-4868-a48a-f123b31033ad",
   "metadata": {},
   "source": [
    "![Definición](img/definicion.png)"
   ]
  },
  {
   "cell_type": "markdown",
   "id": "8133dd71-fd9a-4a74-ab25-b2a634821226",
   "metadata": {},
   "source": [
    "![Definición](img/definicion2.jpeg)"
   ]
  },
  {
   "cell_type": "markdown",
   "id": "925f37ac-ff1e-4803-abf6-8f148e617caf",
   "metadata": {},
   "source": [
    "![Definición](img/mapa-conceptual.png)"
   ]
  },
  {
   "cell_type": "markdown",
   "id": "119e6351-73e0-4494-84c2-a2bd497d7c20",
   "metadata": {},
   "source": [
    "## Historia"
   ]
  },
  {
   "cell_type": "markdown",
   "id": "4cc011b9-2090-4431-b361-b619e37ffa6b",
   "metadata": {},
   "source": [
    "* Antes de 1940 se programaba cableando\n",
    "* En 1940, Von Neumann plantea el uso de códigos para determinar las acciones de las computadoras (grandes y costosas), evitando el cableado\n",
    "* A continuación se asignaron símbolos (notación con abreviaturas nemotécnicas) a los códigos de las instrucciones y a las localizaciones de memoria, naciendo el lenguaje ensamblador\n",
    "* Pero el lenguaje ensamblador, de bajo nivel de abstracción, dependía de cada computadora y era difícil de entender\n",
    "* Se fueron agregando al lenguaje construcciones de mayor nivel de abstracción como la asignación, los bucles y sentencias condicionales\n",
    "* Pero al principio los lenguajes seguían reflejando la arquitectura Von Neumann:\n",
    "  * un área de memoria donde se almacenaban tanto a los programas como a los datos de los mismos, y por separado\n",
    "  * una unidad de procesamiento que ejecutaba secuencialmente las instrucciones del programa en memoria\n",
    "* Los lenguajes estaban muy lejos de lo que ahora se entiende por un LP de alto nivel\n",
    "* Los lenguajes modernos se hacen independientes de la máquina y los programas sólo describen el procesamiento en general, en lugar de detallar todas las instrucciones que debe ejecutar la unidad de procesamiento"
   ]
  },
  {
   "cell_type": "markdown",
   "id": "f1d99411-a26b-47c4-81be-ab7a2ad70bc8",
   "metadata": {},
   "source": [
    "![Evolución Histórica](img/evolucion-historica.png)"
   ]
  },
  {
   "cell_type": "markdown",
   "id": "3942525b-e3b7-41fc-baae-b5c92955264b",
   "metadata": {},
   "source": [
    "* **Vamos a estudiar los lenguajes de programación de alto nivel**\n",
    "* **¿Por qué hoy siguen existiendo lenguajes de bajo nivel (assembler, web assembly, bytecodes, etc)?**"
   ]
  },
  {
   "cell_type": "markdown",
   "id": "f84f873d-45dc-424e-b1db-5c9fd2c8de5a",
   "metadata": {},
   "source": [
    "## ¿Cómo los vamos a estudiar?"
   ]
  },
  {
   "cell_type": "markdown",
   "id": "431e236d-0aba-480e-95d9-f39fa9596b0b",
   "metadata": {},
   "source": [
    "* Existe un gran conjunto de LP\n",
    "* History of Programming Languages: [https://hopl.info/](https://hopl.info/) (8945 lenguajes)\n",
    "* ES IMPOSIBLE ESTUDIARLOS POR EXTENSIÓN\n",
    "* **¿Cómo los vamos a estudiar?**\n",
    "* VAMOS A ESTUDIARLOS POR COMPRENSIÓN\n",
    "* **¿Cómo vamos a definir las categorías?**"
   ]
  },
  {
   "cell_type": "markdown",
   "id": "b4a9c557-dd9a-4668-9b5f-e8360b7e3a05",
   "metadata": {},
   "source": [
    "### Estudio cronológico"
   ]
  },
  {
   "cell_type": "markdown",
   "id": "3753a1fb-c9a7-4988-a398-e170f8310130",
   "metadata": {},
   "source": [
    "![Genealogía](img/genealogia.png)"
   ]
  },
  {
   "cell_type": "markdown",
   "id": "d27905c1-eeaf-4dce-864e-37deecf07aef",
   "metadata": {},
   "source": [
    "![LP Historia](img/lenguajes.JPG)"
   ]
  },
  {
   "cell_type": "markdown",
   "id": "225e2dd7-5b66-4eac-9920-e966d6979e61",
   "metadata": {},
   "source": [
    "![LP Historia](img/lp-historia.JPG)"
   ]
  },
  {
   "cell_type": "markdown",
   "id": "18ff4fcd-1748-4de3-ac03-0d9fd23a2fba",
   "metadata": {},
   "source": [
    "![Primeros LP](img/primeros-lp.JPG)"
   ]
  },
  {
   "cell_type": "markdown",
   "id": "cadd8fb0-410b-47e9-bdde-3852818fff26",
   "metadata": {},
   "source": [
    "[Línea de tiempo en tamaño completo](https://drive.google.com/file/d/1A-S6K8RudWwZYsgqHMSfDaprZaeF3F2P/view)"
   ]
  },
  {
   "cell_type": "markdown",
   "id": "f87e27f1-4d21-43ea-88ef-3ba1650d0e16",
   "metadata": {},
   "source": [
    "### Padres de los LP"
   ]
  },
  {
   "cell_type": "markdown",
   "id": "fc6f5e3b-6dfa-49ac-8e59-fb2acfcf9206",
   "metadata": {},
   "source": [
    "![Padres de los LP](img/padres1.JPG)"
   ]
  },
  {
   "cell_type": "markdown",
   "id": "69167aa2-51a1-4509-b37c-055a8167e9d4",
   "metadata": {},
   "source": [
    "![Padres de los LP](img/padres2.JPG)"
   ]
  },
  {
   "cell_type": "markdown",
   "id": "d27ce045-a9fd-4a89-bb8e-36baf804b6d3",
   "metadata": {},
   "source": [
    "### Popularidad"
   ]
  },
  {
   "cell_type": "markdown",
   "id": "c8f267b8-1854-4545-8f2e-67dbe58e7b98",
   "metadata": {},
   "source": [
    "* [LP mas populares 1965 -2022 (video Youtube)](https://www.youtube.com/watch?v=qQXXI5QFUfw)\n",
    "* [https://tjpalmer.github.io/languish/](https://tjpalmer.github.io/languish/)\n",
    "* [https://www.youtube.com/c/CodingTech](https://www.youtube.com/c/CodingTech)\n",
    "* [https://www.youtube.com/@contextfree](https://www.youtube.com/@contextfree)\n",
    "* [https://pypl.github.io/PYPL.html](https://pypl.github.io/PYPL.html)\n",
    "* [https://www.tiobe.com/tiobe-index/](https://www.tiobe.com/tiobe-index/)"
   ]
  },
  {
   "cell_type": "markdown",
   "id": "c8e18861-4922-4db5-9736-02795a6b0c70",
   "metadata": {},
   "source": [
    "### Por paradigmas"
   ]
  },
  {
   "cell_type": "markdown",
   "id": "02791e8c-16f0-4a27-91c5-07a0736824c9",
   "metadata": {},
   "source": [
    "* **Paradigma**: es una colección de modelos conceptuales que juntos modelan el proceso de diseño, orientan la forma de pensar y solucionar los problemas y, por lo tanto, determinan la estructura final de un programa"
   ]
  },
  {
   "cell_type": "markdown",
   "id": "b6eaa25b-fcf0-4edb-8491-438c2b4688b0",
   "metadata": {},
   "source": [
    "![Paradigmas](img/paradigmas-caracteristicas.png)"
   ]
  },
  {
   "cell_type": "markdown",
   "id": "9252f7e0-5bf6-4266-8d6c-3e24a06641f4",
   "metadata": {},
   "source": [
    "| Paradigmas     | Características                                                                                                                |\n",
    "| --             | --                                                                                                                             |\n",
    "| **Imperativo** | bloques o módulos, variables, secuencia de instrucciones, selección, iteración                                                 |\n",
    "| **Objetos**    | clases, objetos (entidades), invocación de métodos, encapsulamiento, polimorfismo, herencia                                    |\n",
    "| **Funcional**  | componer funciones, cálculo lambda, transparencia referencial, evaluación diferida, funciones como parámetros                  |\n",
    "| **Lógico**     | cláusulas de Horn, aserciones lógicas: hechos y reglas, deducir consecuencias a partir de premisas: unificación y backtracking |"
   ]
  },
  {
   "cell_type": "markdown",
   "id": "4e7efb5c-f52e-444c-b8a0-fc5a147cd9f2",
   "metadata": {},
   "source": [
    "![Ejemplos de Paradigmas](img/paradigmas-ejemplos-1.png)"
   ]
  },
  {
   "cell_type": "markdown",
   "id": "d064f1a9-a3f2-46e6-8520-b00b70517ee5",
   "metadata": {},
   "source": [
    "![Ejemplos de Paradigmas](img/paradigmas-ejemplos-2.png)"
   ]
  },
  {
   "cell_type": "markdown",
   "id": "83cbcf21-e5d8-427e-a166-a0d479fc5e46",
   "metadata": {},
   "source": [
    "![Ejemplos de Paradigmas](img/paradigmas-ejemplos-3.png)"
   ]
  },
  {
   "cell_type": "markdown",
   "id": "658aaa33-c096-4170-8209-920d14b4d352",
   "metadata": {},
   "source": [
    "#### Ejemplo imperativo"
   ]
  },
  {
   "cell_type": "code",
   "execution_count": 12,
   "id": "e61e6936-88aa-46fd-b3a3-8846b384cfdf",
   "metadata": {},
   "outputs": [
    {
     "data": {
      "text/plain": [
       "[2, 4, 6, 8, 10]"
      ]
     },
     "execution_count": 12,
     "metadata": {},
     "output_type": "execute_result"
    }
   ],
   "source": [
    "lista = [1, 2, 3, 4, 5, 6, 7, 8, 9, 10]\n",
    "listaux = []\n",
    "for n in lista:\n",
    "    if n % 2 == 0:\n",
    "        listaux.append(n)\n",
    "listaux"
   ]
  },
  {
   "cell_type": "markdown",
   "id": "33edc864-eba1-4986-9efe-fb1de2ad047c",
   "metadata": {},
   "source": [
    "#### Ejemplo objetos"
   ]
  },
  {
   "cell_type": "code",
   "execution_count": 13,
   "id": "badc860a-9d85-49f5-b759-6440df171dff",
   "metadata": {},
   "outputs": [
    {
     "data": {
      "text/plain": [
       "[2, 4, 6, 8, 10]"
      ]
     },
     "execution_count": 13,
     "metadata": {},
     "output_type": "execute_result"
    }
   ],
   "source": [
    "class Lista:\n",
    "\n",
    "    def __init__(self, lista):\n",
    "        self.lista = lista\n",
    "\n",
    "    def filtrar(self):\n",
    "        listaux = []\n",
    "        for elem in self.lista:\n",
    "            if elem % 2 == 0:\n",
    "                listaux.append(elem)\n",
    "        return listaux\n",
    "\n",
    "lista = Lista([1, 2, 3, 4, 5, 6, 7, 8, 9, 10])\n",
    "lista.filtrar()"
   ]
  },
  {
   "cell_type": "markdown",
   "id": "64ad73bb-cb9c-4ec5-8664-78a5d984302e",
   "metadata": {},
   "source": [
    "#### Ejemplo funcional"
   ]
  },
  {
   "cell_type": "code",
   "execution_count": 14,
   "id": "b5791158-d441-4e5d-9a44-1129f7db4486",
   "metadata": {},
   "outputs": [
    {
     "data": {
      "text/plain": [
       "[2, 4, 6, 8, 10]"
      ]
     },
     "execution_count": 14,
     "metadata": {},
     "output_type": "execute_result"
    }
   ],
   "source": [
    "def filtrar(funcion, lista):\n",
    "    listaux = []\n",
    "    for elem in lista:\n",
    "        if funcion(elem):\n",
    "            listaux.append(elem)\n",
    "    return listaux\n",
    "\n",
    "def es_par(numero):\n",
    "    return numero % 2 == 0\n",
    "\n",
    "filtrar(es_par, [1, 2, 3, 4, 5, 6, 7, 8, 9, 10])"
   ]
  },
  {
   "cell_type": "markdown",
   "id": "2506742f-3275-4f81-b65f-d25d180b6740",
   "metadata": {},
   "source": [
    "#### Ejemplo lógico"
   ]
  },
  {
   "cell_type": "code",
   "execution_count": 3,
   "id": "5206be79-6e1f-4ff1-8a9a-3517e0f99d4f",
   "metadata": {},
   "outputs": [],
   "source": [
    "#from pyswip import Prolog\n",
    "#Prolog.assertz(\"father(michael,john)\")\n",
    "#Prolog.assertz(\"father(michael,gina)\")\n",
    "#list(Prolog.query(\"father(michael,X)\")) == [{'X': 'john'}, {'X': 'gina'}]\n",
    "#for soln in Prolog.query(\"father(X,Y)\"):\n",
    "#    print(soln[\"X\"], \"is the father of\", soln[\"Y\"])\n",
    "# michael is the father of john\n",
    "# michael is the father of gina"
   ]
  },
  {
   "cell_type": "markdown",
   "id": "fdde43ec-9315-4106-89a8-8f914918c5ff",
   "metadata": {},
   "source": [
    "### Por categoría / paradigma"
   ]
  },
  {
   "cell_type": "markdown",
   "id": "f7d88b83-db76-4ef2-a53e-1819abd6ed2f",
   "metadata": {},
   "source": [
    "![Categorias](img/categorias.png)"
   ]
  },
  {
   "cell_type": "markdown",
   "id": "047709e4-06ec-45c4-979d-91162532ae83",
   "metadata": {},
   "source": [
    "### Nivel de abstracción"
   ]
  },
  {
   "cell_type": "markdown",
   "id": "9078026c-a968-443c-a26b-03a0f4966740",
   "metadata": {},
   "source": [
    "||||\n",
    "| -- | -- | -- |\n",
    "| **Bajo** | la programación se realiza teniendo muy en cuenta las características del procesador. Ejemplo: Ensamblador, usado principalmente para la manipulación directa de hardware | Lenguaje de máquina (código binario) |\n",
    "| **Medio** | permiten un mayor grado de abstracción, pero al mismo tiempo mantienen algunas cualidades de los lenguajes de bajo nivel | C puede realizar operaciones lógicas y de desplazamiento con bits, tratar todos los tipos de datos como lo que son en realidad a bajo nivel (números), C++ |\n",
    "| **Alto** | más parecidos al lenguaje humano. Manejan conceptos, tipos de datos, etc., de una manera cercana al pensamiento humano ignorando (abstrayéndose) del funcionamiento de la máquina | Java, Ruby, Python, C# |"
   ]
  },
  {
   "cell_type": "markdown",
   "id": "fdcb7576-c97f-4d7a-bf09-c783177f0db5",
   "metadata": {},
   "source": [
    "### Dominio"
   ]
  },
  {
   "cell_type": "markdown",
   "id": "ea2f8cd6-53c5-420b-b86c-ed11d7b98511",
   "metadata": {},
   "source": [
    "||||\n",
    "| -- | -- | -- |\n",
    "| **General** | aptos para todo tipo de tareas | C, Java, Python |\n",
    "| **Específico** | hechos para un objetivo muy concreto | Csound (para crear ficheros de audio) |\n",
    "| **Sistemas** | diseñados para realizar sistemas operativos o drivers | C |\n",
    "| **Scripts** | para realizar tareas varias de control y auxiliares. Antiguamente eran los llamados lenguajes de procesamiento por lotes (batch) o JCL (“Job Control Languages”). Se subdividen en varias clases (de shell, de GUI, de programación web, etc.) | bash (shell), mIRC script, JavaScript (programación web) |"
   ]
  },
  {
   "cell_type": "markdown",
   "id": "c00f3dba-de7d-4eb5-b560-b3dbe9dfba13",
   "metadata": {},
   "source": [
    "### Tipo de traductor"
   ]
  },
  {
   "cell_type": "markdown",
   "id": "2aafdd99-6d23-42f5-a71b-c19767c542d9",
   "metadata": {},
   "source": [
    "|||\n",
    "| -- | -- |\n",
    "| **Compilados** | un programa traductor traduce el código del programa (código fuente) en código máquina (código objeto). Otro programa, el enlazador, unirá los ficheros de código objeto del programa principal con los de las librerías para producir el programa ejecutable. Lenguajes: Fortran, COBOL, Algol, PL/1, Modula, CLU, ADA, C, C++, Objetive-C, Pascal, Eiffel, Scala, Basic, Delphi, ML, C#, Java, Go, Rust, Swift ![Compilador](img/compilador.png)|\n",
    "| **Interpretados** | un programa (intérprete), ejecuta las instrucciones del programa de manera directa. Lenguajes: APL, Forth, Lisp, Smalltalk, Matlab, PHP, Javascript, J, Perl, Python, Ruby, Basic, R, Dart ![Intérprete](img/interprete.png) |"
   ]
  },
  {
   "cell_type": "markdown",
   "id": "75c4b9f1-b0e5-4091-9900-3236c967c693",
   "metadata": {},
   "source": [
    "### Según almacenamiento de una variable"
   ]
  },
  {
   "cell_type": "markdown",
   "id": "77dcb767-1e3f-417d-967a-67b4bfbedc32",
   "metadata": {},
   "source": [
    "||||\n",
    "| -- | -- | -- |\n",
    "| **Estáticos** | almacenamiento estático. Son compilados | Fortran, COBOL y derivados |\n",
    "| **Tipo Algol** | almacenamiento dinámico, tipos estáticos y alcance estático. Son compilados | Algol, C, C++, ADA, Java, Pascal, Delphi, Go, Rust, Swift |\n",
    "| **Dinámicos** | almacenamiento dinámico, tipos dinámicos y alcance dinámico. Son interpretados | Smalltalk, BASIC, PHP, Perl, Ruby |"
   ]
  },
  {
   "cell_type": "markdown",
   "id": "ccc7467a-b2a2-4168-b886-18af5426d4f9",
   "metadata": {},
   "source": [
    "### Generaciones"
   ]
  },
  {
   "cell_type": "markdown",
   "id": "d8f81609-c1fc-4cc2-98ee-2cf186b1f277",
   "metadata": {},
   "source": [
    "||||\n",
    "| -- | -- | -- |\n",
    "| **Primera** | incluye los lenguajes de máquina, en los que los datos y las operaciones sobre ellos se describen mediante ceros y unos | |\n",
    "| **Segunda** | incluye los lenguajes ensambladores, cuya traducción a lenguaje máquina es muy sencilla, y aún hoy se utilizan para tareas muy específicas, como puede ser para programar drivers para dispositivos | |\n",
    "| **Tercera** | incluye los lenguajes de alto nivel | Pascal, Fortran, C, Java |\n",
    "| **Cuarta** | incluye los lenguajes de propósito específico | Natural, Mathematica o el del paquete estadístico SPSS que permite manipular grandes cantidades de datos con fines estadísticos |\n",
    "| **Quinta** | incluye los lenguajes que se utilizan en el área de la Inteligencia Artificial | Prolog, Haskell |"
   ]
  },
  {
   "cell_type": "markdown",
   "id": "b9d832e2-2fd6-453d-9eee-7cc2f884b3a8",
   "metadata": {},
   "source": [
    "### Manera de abordar la tarea a realizar"
   ]
  },
  {
   "cell_type": "markdown",
   "id": "b14b0fb8-e46f-48c5-ae03-eecdca27f64c",
   "metadata": {},
   "source": [
    "||||\n",
    "| -- | -- | -- |\n",
    "| **Operativos** | indican **cómo** hay que hacer la tarea, es decir, expresan los pasos a realizar. Un lenguaje de este tipo se conoce como **lenguaje completo en Turing**, debe incluir variables enteras y aritméticas, así como la ejecución de sentencias de forma secuencial, incluyendo sentencias de asignación, condicionales (if) y bucles (while) | C |\n",
    "| **Declarativos** | indican **qué** hay que hacer. Declaración de proposiciones, condiciones, restricciones, ecuaciones o transformaciones que caracterizan al problema y describen su solución | Lisp, Prolog. Otros ejemplos de lenguajes declarativos, pero que no son LP, son HTML (para describir páginas web) o SQL (para consultar bases de datos) |"
   ]
  },
  {
   "cell_type": "markdown",
   "id": "5201e6d8-d656-4508-b622-52953996a75f",
   "metadata": {},
   "source": [
    "### Paradigmas"
   ]
  },
  {
   "cell_type": "markdown",
   "id": "6af9b571-1239-41b7-ae08-4d840a994444",
   "metadata": {},
   "source": [
    "|||\n",
    "| -- | -- |\n",
    "| **Imperativos** | Fortran, C, Pascal, Algol, COBOL, ADA, CLIPPER, FOX, PL/1 |\n",
    "| **Orientados a Objetos** | Python, Java, Ruby, C++, C#, Delphi, Smalltalk, Eiffel, Perl, Go, Rust, Simula |\n",
    "| **Funcionales** | Haskell, Miranda, Lisp, Scheme, Scala, Ocam, Clojure, Racket, ML, Gofer |\n",
    "| **Lógicos** | Prolog, Planner |"
   ]
  },
  {
   "cell_type": "markdown",
   "id": "18fad305-43a2-4668-b06d-5c33f2acf382",
   "metadata": {},
   "source": [
    "![Multiparadigma](img/multiparadigma.png)"
   ]
  },
  {
   "cell_type": "markdown",
   "id": "ca06cc3e-e878-4bf4-a6f4-c353e61bd225",
   "metadata": {},
   "source": [
    "[https://en.wikipedia.org/wiki/Comparison_of_multi-paradigm_programming_languages](https://en.wikipedia.org/wiki/Comparison_of_multi-paradigm_programming_languages)"
   ]
  },
  {
   "cell_type": "markdown",
   "id": "d594f16b-1ed3-41b2-9b4e-e518bdc30aaa",
   "metadata": {},
   "source": [
    "### Lugar de ejecución"
   ]
  },
  {
   "cell_type": "markdown",
   "id": "80007c4b-e943-4f83-804b-02ecd8ee2ee1",
   "metadata": {},
   "source": [
    "|||\n",
    "| -- | -- |\n",
    "| **Servidor** | se ejecutan en el servidor. Ejemplo: PHP es el más utilizado en servidores web |\n",
    "| **Cliente** | se ejecutan en el cliente. Ejemplo: JavaScript en navegadores web |"
   ]
  },
  {
   "cell_type": "markdown",
   "id": "a50b50ca-2d5f-4bf1-95e9-ad25d4c78042",
   "metadata": {},
   "source": [
    "### Concurrencia"
   ]
  },
  {
   "cell_type": "markdown",
   "id": "905b40ac-2e57-4ace-8755-a8fe09bfab38",
   "metadata": {},
   "source": [
    "||||\n",
    "| -- | -- | -- |\n",
    "| **Concurrente** | admiten concurrencia de procesos, esto es, la ejecución simultánea de varios procesos lanzados por el programa | Ada |\n",
    "| **No concurrente** | no admiten concurrencia de procesos | C |"
   ]
  },
  {
   "cell_type": "markdown",
   "id": "fccbed8c-f59f-4cd4-8767-b5fbe4f7f3c2",
   "metadata": {},
   "source": [
    "### Interactividad del programa con el usuario u otros programas"
   ]
  },
  {
   "cell_type": "markdown",
   "id": "6e132660-2512-4ed5-b424-909380ce8863",
   "metadata": {},
   "source": [
    "||||\n",
    "| -- | -- | -- |\n",
    "| **Orientados a eventos** | el flujo del programa es controlado por la interacción con el usuario o por mensajes de otros programas/sistema operativo, como editores de texto, interfaces gráficos de usuario (GUI) o kernels | Visual Basic, LP declarativos |\n",
    "| **No orientados a eventos** | el flujo del programa no depende de sucesos exteriores, sino que se conoce de antemano, siendo los procesos batch el ejemplo más claro (actualizaciones de bases de datos, colas de impresión de documentos, etc.) | LP imperativos |"
   ]
  },
  {
   "cell_type": "markdown",
   "id": "93721e8e-f02d-4dbf-ae3f-d49806c87bbd",
   "metadata": {},
   "source": [
    "### Realización visual o no del programa"
   ]
  },
  {
   "cell_type": "markdown",
   "id": "3b1108a1-3733-407b-879e-9b20cb332095",
   "metadata": {},
   "source": [
    "||||\n",
    "| -- | -- | -- |\n",
    "| **Visual** | el programa se realiza moviendo bloques de construcción de programas (objetos visuales) en un interfaz adecuado para ello. No confundir con entornos de programación visual, como Microsoft Visual Studio y sus lenguajes de programación textuales (como Visual C#) | Mindscript, Scratch, App Inventor, Gobstones, PilasBloques |\n",
    "| **Textual** | el código del programa se realiza escribiéndolo | C, Java, Lisp |"
   ]
  },
  {
   "cell_type": "markdown",
   "id": "42c4f417-4546-4350-879b-2086abfb8c71",
   "metadata": {},
   "source": [
    "### Predicción o no del siguiente estado del programa a partir del estado actual"
   ]
  },
  {
   "cell_type": "markdown",
   "id": "c18e43ac-2cee-4553-9c56-bd6c4250170c",
   "metadata": {},
   "source": [
    "||||\n",
    "| -- | -- | -- |\n",
    "| **Deterministas** | resultado discreto | todos los anteriores |\n",
    "| **No deterministas** | sirven para explorar grandes espacios de búsqueda, (como gramáticas), y en la investigación teórica de hipercomputación | mutt (generador de texto aleatorio) |"
   ]
  },
  {
   "cell_type": "markdown",
   "id": "ca710718-7095-4e9c-b98f-579b523edb93",
   "metadata": {},
   "source": [
    "### Características de virtudes útiles o productivas, u oscuras y entreveradas"
   ]
  },
  {
   "cell_type": "markdown",
   "id": "9435ffd7-00c5-4c1d-8606-00e21ec9e402",
   "metadata": {},
   "source": [
    "|||\n",
    "| -- | -- |\n",
    "| **Útiles** | sus virtudes en cuanto a eficiencia, sencillez, claridad, productividad, etc., motiva que sean utilizados en empresas, administraciones públicas y/o en la enseñanza. Ejemplos: Cualquier lenguaje de uso habitual (C, Java, C++, Lisp, Python, Ruby, etc.) ![LP utiles](img/utiles.JPG) |\n",
    "| **Esotéricos** | inventados con la intención de ser los más raros, oscuros, difíciles, simples y/o retorcidos de los lenguajes, para diversión y entretenimiento de extravagantes programadores. A veces exploran nuevas ideas en programación. Ejemplo: Brainfuck. ![LP esotéricos](img/esoterico.png) ![Brainfuck](img/brainfuck.JPG) ![Pi](img/pi.JPG) ![Tree](img/tree.JPG) |"
   ]
  },
  {
   "cell_type": "markdown",
   "id": "d34b7c74-7cd4-4da5-8ec7-8fdc84df9a80",
   "metadata": {},
   "source": [
    "## Identificación de aspectos sintácticos, semánticos y pragmáticos"
   ]
  },
  {
   "cell_type": "markdown",
   "id": "14d664e6-dfea-448e-8851-96f11914a79f",
   "metadata": {},
   "source": [
    "* Los LP deben describirse de manera formal, completa y precisa\n",
    "* Esta descripción ha de ser, además, independiente de la máquina y de la implementación\n",
    "\n",
    "  | Patrones que se repiten en varios lenguajes |\n",
    "  | -- |\n",
    "  | Tipos |\n",
    "  | Alcance / Ámbito |\n",
    "  | Almacenamiento |\n",
    "  | Concurrencia |\n",
    "  | Nombre |\n",
    "  | Tiempo de vida |\n",
    "  | Valor |\n",
    "  | Pasaje de parámetros |\n",
    "  | ... |"
   ]
  },
  {
   "cell_type": "markdown",
   "id": "2f336607-4481-49d8-bfdd-53ed0cf40015",
   "metadata": {},
   "source": [
    "![Aspectos de los lenguajes](img/aspectos.png)"
   ]
  },
  {
   "cell_type": "markdown",
   "id": "2fce7e15-002a-485e-8b27-adb3c1443eed",
   "metadata": {},
   "source": [
    "![Aspectos de los lenguajes](img/aspectos.jpg)"
   ]
  },
  {
   "cell_type": "markdown",
   "id": "64412ffd-ab85-4e38-b907-578b4a3cdcb0",
   "metadata": {},
   "source": [
    "## Diseño"
   ]
  },
  {
   "cell_type": "markdown",
   "id": "626370c5-ce8b-4198-9a2b-fdcabe87493c",
   "metadata": {},
   "source": [
    "* Hay una gran variedad de LP y continúan apareciendo nuevos ¿por qué?\n",
    "  * Evolución\n",
    "  * Propósito especial\n",
    "  * Preferencia personal\n",
    "* Hasta nuestros días, ningún lenguaje es adecuado para cualquier escenario o tarea, por lo que es necesario conocer de cada lenguaje qué características (o principios) lo diferencian y cuáles los hacen más adecuados para determinados escenarios o tareas"
   ]
  },
  {
   "cell_type": "markdown",
   "id": "f72e6cae-6005-4335-9d17-51b481c41660",
   "metadata": {},
   "source": [
    "## ¿Qué convierte a un lenguaje en exitoso?"
   ]
  },
  {
   "cell_type": "markdown",
   "id": "76e19cfa-6e6d-4917-80bb-a18a99277016",
   "metadata": {},
   "source": [
    "* Poder expresivo\n",
    "* Facilidad de uso para novatos (baja curva de aprendizaje)\n",
    "* Facilidad de implementación\n",
    "* Estandarización\n",
    "* Código abierto\n",
    "* Excelentes compiladores\n",
    "* Inercia, economía, quien lo promueve"
   ]
  },
  {
   "cell_type": "markdown",
   "id": "bee5428e-2469-4a47-9cdb-513055315f8b",
   "metadata": {},
   "source": [
    "## Características de Diseño"
   ]
  },
  {
   "cell_type": "markdown",
   "id": "ac9cd844-9618-43cd-8885-d016ffc9b5db",
   "metadata": {},
   "source": [
    "* **Eficiencia**: el diseño debe permitir al traductor la generación de código ejecutable eficiente (optimizabilidad)\n",
    "\n",
    "* **Regularidad**: se refiere al comportamiento de las características del lenguaje\n",
    "  * **generalidad**: se consigue cuando el uso y la disponibilidad de los constructores no están sujetas a casos especiales y cuando el lenguaje incluye solo a los constructores necesarios y el resto se obtienen por combinaciones de constructores relacionados. Ejemplo: Pascal no tiene arrays de longitud variable con lo que carecen de generalidad\n",
    "  * **ortogonalidad**: ocurre cuando los constructores del lenguaje pueden admitir combinaciones significativas y en ellas, la interacción entre los constructores o con el contexto, no provocan restricciones ni comportamientos inesperados. Ejemplo: En Pascal las funciones solo pueden devolver valores de tipo escalar o array, y en C o C++ las funciones pueden devolver cualquier tipo de datos, excepto arrays o matrices\n",
    "  * **uniformidad**: se refiere a que lo similar se ve similar y lo diferente, diferente. Lo que implica la consistencia entre la apariencia y el comportamiento de los constructores. Ejemplo: En C los operadores & y && parecen similares pero su comportamiento es muy diferente\n",
    "\n",
    "* Principios adicionales (simplicidad, expresividad, extensibilidad, capacidad de restricción, consistencia entre las notación y las convenciones, precisión, portabilidad, seguridad, interoperabilidad)"
   ]
  },
  {
   "cell_type": "markdown",
   "id": "565d3c2c-08fc-4dfc-9a33-a8eff967e237",
   "metadata": {},
   "source": [
    "## ¿Cuál debo aprender primero?"
   ]
  },
  {
   "cell_type": "markdown",
   "id": "5cf8e9a7-c298-497d-8084-43d6f106bb2d",
   "metadata": {},
   "source": [
    "![LP aprender primero](img/aprender-primero.JPG)"
   ]
  },
  {
   "cell_type": "markdown",
   "id": "6c593c7c-4418-4684-a32b-0f1f11a24120",
   "metadata": {},
   "source": [
    "## ¿Cuál usar?"
   ]
  },
  {
   "cell_type": "markdown",
   "id": "eb276f97-35d7-4412-901a-47fd813e160d",
   "metadata": {},
   "source": [
    "* No existe un \"mejor lenguaje\" de programación en términos absolutos. Pero, en ciertas situaciones, algunos lenguajes son una mejor opción que otros\n",
    "* Algunos criterios para adoptar un lenguaje/framework:\n",
    "  * rendimiento, eficiencia\n",
    "  * capacidad técnica para satisfacer los requerimientos del proyecto\n",
    "  * popularidad (documentación, soporte, comunidad, bibliotecas, ...)\n",
    "  * plataformas soportadas (web, standalone, mobile, ...)\n"
   ]
  }
 ],
 "metadata": {
  "kernelspec": {
   "display_name": "Python [conda env:base] *",
   "language": "python",
   "name": "conda-base-py"
  },
  "language_info": {
   "codemirror_mode": {
    "name": "ipython",
    "version": 3
   },
   "file_extension": ".py",
   "mimetype": "text/x-python",
   "name": "python",
   "nbconvert_exporter": "python",
   "pygments_lexer": "ipython3",
   "version": "3.12.7"
  }
 },
 "nbformat": 4,
 "nbformat_minor": 5
}
