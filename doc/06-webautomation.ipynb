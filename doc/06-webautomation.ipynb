{
 "cells": [
  {
   "cell_type": "markdown",
   "id": "8c775daf-a900-4386-8bfe-390abb3e523d",
   "metadata": {},
   "source": [
    "# Web Automation\n",
    "---"
   ]
  },
  {
   "cell_type": "markdown",
   "id": "875a9f9c-6455-4d78-a686-bcb3eccf5858",
   "metadata": {},
   "source": [
    "[https://selenium-python.readthedocs.io/](https://selenium-python.readthedocs.io/)"
   ]
  },
  {
   "cell_type": "code",
   "execution_count": 11,
   "id": "73711fad-7410-4d34-80ab-e95a15997702",
   "metadata": {},
   "outputs": [],
   "source": [
    "from selenium import webdriver\n",
    "from selenium.webdriver.chrome.service import Service as ChromeService\n",
    "from webdriver_manager.chrome import ChromeDriverManager\n",
    "from selenium.webdriver.common.keys import Keys\n",
    "from selenium.webdriver.common.by import By\n",
    "\n",
    "import time"
   ]
  },
  {
   "cell_type": "markdown",
   "id": "6943059a-77ef-4c4f-8160-1cef93613226",
   "metadata": {},
   "source": [
    "## Ejemplo www.google.com"
   ]
  },
  {
   "cell_type": "code",
   "execution_count": 12,
   "id": "b173bd43-f208-449e-9e93-e24e5902013b",
   "metadata": {},
   "outputs": [
    {
     "name": "stdout",
     "output_type": "stream",
     "text": [
      "Título de la página: Google\n"
     ]
    }
   ],
   "source": [
    "# Inicializar el WebDriver (Chrome en este caso)\n",
    "driver = webdriver.Chrome(service=ChromeService(ChromeDriverManager().install()))\n",
    "\n",
    "# Navegar a una página web\n",
    "driver.get(\"https://www.google.com\")\n",
    "\n",
    "# Obtener el título de la página\n",
    "titulo = driver.title\n",
    "print(f\"Título de la página: {titulo}\")\n",
    "\n",
    "# Cerrar el navegador\n",
    "driver.quit()"
   ]
  },
  {
   "cell_type": "markdown",
   "id": "68d71bdc-4a1d-4143-871e-b15b005700d6",
   "metadata": {},
   "source": [
    "## Ejemplo www.python.org locator NAME"
   ]
  },
  {
   "cell_type": "code",
   "execution_count": 14,
   "id": "216bdf57-acd2-4827-ac0f-9ff386825932",
   "metadata": {},
   "outputs": [],
   "source": [
    "driver = webdriver.Chrome(service=ChromeService(ChromeDriverManager().install()))\n",
    "driver.get('https://www.python.org')\n",
    "\n",
    "# Permite realizar comprobaciones (test unitarios)\n",
    "# Si la expresión es False, se lanzará la excepción AssertionError\n",
    "assert \"Python\" in driver.title\n",
    "elem = driver.find_element(By.NAME, \"q\")\n",
    "elem.clear()\n",
    "elem.send_keys(\"pycon\")\n",
    "elem.send_keys(Keys.RETURN)\n",
    "assert \"No results found.\" not in driver.page_source\n",
    "driver.close()"
   ]
  },
  {
   "cell_type": "markdown",
   "id": "b4498f1e-a117-44ec-aa97-50c0e99bded8",
   "metadata": {},
   "source": [
    "## Ejemplo www.python.org locator LINK TEXT"
   ]
  },
  {
   "cell_type": "code",
   "execution_count": 9,
   "id": "c1dc7765-f0f9-492e-8404-c96c898f2d9b",
   "metadata": {},
   "outputs": [],
   "source": [
    "driver = webdriver.Chrome(service=ChromeService(ChromeDriverManager().install()))\n",
    "driver.get('http://www.python.org')   \n",
    "driver.find_element(By.LINK_TEXT, \"Docs\").click()\n",
    "elem2 = driver.find_element(By.TAG_NAME, \"h1\")\n",
    "assert elem2.text == \"Python 3.13.5 documentation\"\n",
    "driver.close()"
   ]
  },
  {
   "cell_type": "markdown",
   "id": "b5406bc5-bc51-47a7-8d46-78f13f1a2aac",
   "metadata": {},
   "source": [
    "## Ejemplo www.python.org locator XPATH"
   ]
  },
  {
   "cell_type": "code",
   "execution_count": 10,
   "id": "54fe0208-712c-441b-9cd0-17a15067dbe3",
   "metadata": {},
   "outputs": [],
   "source": [
    "driver = webdriver.Chrome(service=ChromeService(ChromeDriverManager().install()))\n",
    "driver.get('http://www.python.org')\n",
    "driver.find_element(By.XPATH, \"//*[@id='top']/nav/ul/li[3]/a\").click()\n",
    "elem2 = driver.find_element(By.TAG_NAME, \"h1\")\n",
    "assert elem2.text == \"Python 3.13.5 documentation\"\n",
    "driver.close()"
   ]
  },
  {
   "cell_type": "markdown",
   "id": "c8b028d4-3881-4e35-a81e-bc4c4e1b625f",
   "metadata": {},
   "source": [
    "## Ejemplo www.automationpractice.pl"
   ]
  },
  {
   "cell_type": "code",
   "execution_count": 13,
   "id": "95cf680f-c475-42b4-978b-abeaf811c9a6",
   "metadata": {},
   "outputs": [],
   "source": [
    "driver = webdriver.Chrome(service=ChromeService(ChromeDriverManager().install()))\n",
    "driver.get('http://www.automationpractice.pl/index.php')\n",
    "driver.find_element(By.ID, 'search_query_top').send_keys('Hola')\n",
    "driver.find_element(By.NAME, 'submit_search').click()\n",
    "time.sleep(10)\n",
    "actual = driver.find_element(By.XPATH, '//*[@id=\"center_column\"]/p').text\n",
    "assert actual == 'No results were found for your search \"Hola\"'\n",
    "time.sleep(2)\n",
    "driver.find_element(By.LINK_TEXT, \"Women\").click()\n",
    "time.sleep(2)\n",
    "driver.find_element(By.PARTIAL_LINK_TEXT, \"Dres\").click()\n",
    "time.sleep(2)\n",
    "driver.close()"
   ]
  }
 ],
 "metadata": {
  "kernelspec": {
   "display_name": "Python [conda env:base] *",
   "language": "python",
   "name": "conda-base-py"
  },
  "language_info": {
   "codemirror_mode": {
    "name": "ipython",
    "version": 3
   },
   "file_extension": ".py",
   "mimetype": "text/x-python",
   "name": "python",
   "nbconvert_exporter": "python",
   "pygments_lexer": "ipython3",
   "version": "3.12.7"
  }
 },
 "nbformat": 4,
 "nbformat_minor": 5
}
