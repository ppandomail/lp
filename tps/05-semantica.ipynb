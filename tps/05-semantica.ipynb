{
 "cells": [
  {
   "cell_type": "markdown",
   "id": "581485b3-83fc-4612-9cd0-5702af020c47",
   "metadata": {},
   "source": [
    "# TP Semántica\n",
    "---"
   ]
  },
  {
   "cell_type": "markdown",
   "id": "55999970-4aa1-4c00-9f32-f4594c1e7d28",
   "metadata": {},
   "source": [
    "## Responder"
   ]
  },
  {
   "cell_type": "markdown",
   "id": "fba16062-b948-471a-862e-015a744f9e43",
   "metadata": {},
   "source": [
    "Describa informalmente la semántica de algún constructor de un lenguaje de programación que conozca (por ejemplo, el while de Python)"
   ]
  },
  {
   "cell_type": "code",
   "execution_count": null,
   "id": "8ed09db6-e508-439d-9143-2825d258f9c6",
   "metadata": {},
   "outputs": [],
   "source": []
  },
  {
   "cell_type": "markdown",
   "id": "8c4518e4-0d44-47ff-9e2c-ee2efe4f5dcf",
   "metadata": {},
   "source": [
    "Investigue e informe qué otras entidades pueden ser denotadas por identificadores"
   ]
  },
  {
   "cell_type": "code",
   "execution_count": null,
   "id": "1e97060b-be7a-4b5a-8013-10830b028868",
   "metadata": {},
   "outputs": [],
   "source": []
  },
  {
   "cell_type": "markdown",
   "id": "abf073b5-f629-4376-96bd-ee4da7638530",
   "metadata": {},
   "source": [
    "Defina un LP para un campo de aplicaciones particular, con la característica de que este LP esté formado por un grupo de comandos que son LRs. Describa su sintaxis en BNF, su semántica en lenguaje natural y presente varios ejemplos para su uso"
   ]
  },
  {
   "cell_type": "code",
   "execution_count": null,
   "id": "c10361a8-7f7c-4d2b-b997-ce0e19d0b208",
   "metadata": {},
   "outputs": [],
   "source": []
  },
  {
   "cell_type": "markdown",
   "id": "5db856a5-58dc-4ee7-a314-833b574484cf",
   "metadata": {},
   "source": [
    "Defina el concepto de ligadura y su importancia respecto de la semántica de un programa. ¿Qué diferencias hay entre ligadura estática y dinámica? Cite ejemplos (proponer casos sencillos)"
   ]
  },
  {
   "cell_type": "code",
   "execution_count": null,
   "id": "f674f716-f0c4-442b-8755-8cbbf7e44e21",
   "metadata": {},
   "outputs": [],
   "source": []
  },
  {
   "cell_type": "markdown",
   "id": "081b4f8d-f2b5-49c1-aa3c-38cd75149c2a",
   "metadata": {},
   "source": [
    "Analice en los lenguajes: Java, C#, Python y Ruby las diferentes formas de inicialización de variables que poseen. Realice un cuadro comparativo de esta característica"
   ]
  },
  {
   "cell_type": "code",
   "execution_count": null,
   "id": "ecfff158-963e-4b59-8ec5-ec9242d0c7dc",
   "metadata": {},
   "outputs": [],
   "source": []
  },
  {
   "cell_type": "markdown",
   "id": "9ad1a275-edba-4e94-af26-0be133139720",
   "metadata": {},
   "source": [
    "¿Qué características encierra el concepto de \"tipo de datos\"?"
   ]
  },
  {
   "cell_type": "code",
   "execution_count": null,
   "id": "89638569-3b77-4f52-a793-470e24b66baf",
   "metadata": {},
   "outputs": [],
   "source": []
  },
  {
   "cell_type": "markdown",
   "id": "829620bc-cedd-4c4a-85ee-c15948b51a96",
   "metadata": {},
   "source": [
    "En Python se habla de tipos de datos mutables e inmutables. ¿Para que se utiliza este tipo de datos? De al menos un ejemplo donde se puede utilizar ¿Cómo? ¿Sucede lo mismo para Ruby? Explique la forma en que un objeto mutable puede convertirse en inmutable"
   ]
  },
  {
   "cell_type": "code",
   "execution_count": null,
   "id": "c2f1686a-9453-4fc3-9d56-c4aaaaefd58e",
   "metadata": {},
   "outputs": [],
   "source": []
  },
  {
   "cell_type": "markdown",
   "id": "b5a2443a-f555-4bc5-81ee-cb64420c3624",
   "metadata": {},
   "source": [
    "De un ejemplo de un lenguaje que sea fuertemente tipado y un lenguaje que no. Explicando en cada caso porque lo es y porque no lo es"
   ]
  },
  {
   "cell_type": "code",
   "execution_count": null,
   "id": "5eb079a4-410d-4bb4-86ed-7783114d587b",
   "metadata": {},
   "outputs": [],
   "source": []
  }
 ],
 "metadata": {
  "kernelspec": {
   "display_name": "Python [conda env:base] *",
   "language": "python",
   "name": "conda-base-py"
  },
  "language_info": {
   "codemirror_mode": {
    "name": "ipython",
    "version": 3
   },
   "file_extension": ".py",
   "mimetype": "text/x-python",
   "name": "python",
   "nbconvert_exporter": "python",
   "pygments_lexer": "ipython3",
   "version": "3.12.7"
  }
 },
 "nbformat": 4,
 "nbformat_minor": 5
}
