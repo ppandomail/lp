{
 "cells": [
  {
   "cell_type": "markdown",
   "id": "84b84d40-8ad4-404e-96a3-7cc5eb01245a",
   "metadata": {},
   "source": [
    "# TP Webscraping\n",
    "---"
   ]
  },
  {
   "cell_type": "markdown",
   "id": "7749e9b1-cb9d-4f93-adfb-408c8b2a7627",
   "metadata": {},
   "source": [
    "## Comparación de precios"
   ]
  },
  {
   "cell_type": "markdown",
   "id": "9bcc1c96-22bd-4592-88cd-65d2bfa52fda",
   "metadata": {},
   "source": [
    "Extraer datos de productos de sitios web de comercio electrónico para seguir la evolución de los precios a lo largo del tiempo. Este proyecto consiste en extraer información como nombres de productos, precios y descripciones de varios sitios web. Los usuarios pueden encontrar las mejores ofertas comparando los precios de distintas tiendas online. Este proyecto sería útil para las compras personales y para fines empresariales, como la optimización de las compras de inventario o el análisis de la competencia\n",
    "\n",
    "Por ejemplo, raspar datos de productos de sitios como Amazon y eBay y almacenar la información en un formato estructurado. Con estos datos, crear un script que avise cuando el precio de un producto caiga por debajo de un determinado umbral, proporcionando información en tiempo real sobre las fluctuaciones de los precios"
   ]
  },
  {
   "cell_type": "markdown",
   "id": "bd2d71f8-c7b1-4e69-8a0b-22f1a38726e9",
   "metadata": {},
   "source": [
    "## Agregador de noticias"
   ]
  },
  {
   "cell_type": "markdown",
   "id": "1ffb1fff-4845-4d32-acc6-dfad262269e6",
   "metadata": {},
   "source": [
    "Extraer titulares y artículos de varios sitios web de noticias y recopilarlos en un único feed\n",
    "\n",
    "Los datos en tiempo real son importantes en la agregación de noticias, ya que los usuarios pueden mantenerse informados mediante actualizaciones puntuales. Scrapear sitios web como CNN, BBC u otras fuentes de noticias y almacenar los datos en un formato estructurado como MongoDB/SQLite para su posterior análisis"
   ]
  },
  {
   "cell_type": "markdown",
   "id": "eea058d0-c469-43eb-8ee0-231a1f8ab20d",
   "metadata": {},
   "source": [
    "## Datos meteorológicos"
   ]
  },
  {
   "cell_type": "markdown",
   "id": "04c18abd-ce86-4216-930c-bcb4d1b20ae9",
   "metadata": {},
   "source": [
    "Extraer datos meteorológicos como la temperatura, la humedad, la velocidad del viento y las previsiones de sitios web como Weather.com o AccuWeather. Con los datos extraídos, crear una aplicación personalizada que muestre actualizaciones meteorológicas en tiempo real adaptadas a diferentes necesidades\n",
    "\n",
    "Alertar a los usuarios sobre condiciones meteorológicas adversas, ayudar a los viajeros a planificar sus viajes o asistir a los agricultores en la toma de decisiones agrícolas"
   ]
  },
  {
   "cell_type": "markdown",
   "id": "0dd943c5-dbe5-4064-8225-b06a25069363",
   "metadata": {},
   "source": [
    "## Rastreador de precios de vuelos"
   ]
  },
  {
   "cell_type": "markdown",
   "id": "0df446d1-6c19-4627-bffd-6d8ede9aebf4",
   "metadata": {},
   "source": [
    "Extraer los precios de los billetes de sitios web como Google Flights para controlar las fluctuaciones de las tarifas aéreas. Utilizando los datos raspados, construir un sistema que notifique a los usuarios cuando baje un precio en tarifas aéreas o rutas específicas\n",
    "\n",
    "Dado que el rastreador de precios de vuelos implica un rastreo web en tiempo real, configurar alertas automáticas por correo electrónico utilizando servicios como SMTP para notificar a los usuarios cuando sus vuelos deseados sean más baratos"
   ]
  },
  {
   "cell_type": "markdown",
   "id": "169650e2-508d-433e-9c3b-0a659b5e1425",
   "metadata": {},
   "source": [
    "## Análisis del mercado inmobiliario"
   ]
  },
  {
   "cell_type": "markdown",
   "id": "630959e0-6085-43fa-bf5e-83de9c72449c",
   "metadata": {},
   "source": [
    "Extraer listados inmobiliarios de sitios web como Realtor.com para analizar las tendencias del mercado de la vivienda. Recopilar datos como el precio de los inmuebles, los metros cuadrados, la ubicación y otras características como el número de dormitorios y baños\n",
    "\n",
    "Con los datos recopilados, entrenar modelos de aprendizaje automático, como regresiones lineales o árboles de decisión, para predecir los precios de los inmuebles basando en datos históricos. Este proyecto será útil para profesionales inmobiliarios, inversores y particulares que deseen tomar decisiones basadas en datos en el mercado de la vivienda"
   ]
  }
 ],
 "metadata": {
  "kernelspec": {
   "display_name": "Python [conda env:base] *",
   "language": "python",
   "name": "conda-base-py"
  },
  "language_info": {
   "codemirror_mode": {
    "name": "ipython",
    "version": 3
   },
   "file_extension": ".py",
   "mimetype": "text/x-python",
   "name": "python",
   "nbconvert_exporter": "python",
   "pygments_lexer": "ipython3",
   "version": "3.12.7"
  }
 },
 "nbformat": 4,
 "nbformat_minor": 5
}
