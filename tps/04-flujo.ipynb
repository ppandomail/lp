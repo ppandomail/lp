{
 "cells": [
  {
   "cell_type": "markdown",
   "id": "6842ef54-b533-43e5-89e2-4f433c578b9e",
   "metadata": {},
   "source": [
    "# Flujos - Ejercicios\n",
    "---"
   ]
  },
  {
   "cell_type": "markdown",
   "id": "eb1a77da-17bc-4e1c-b6d2-b7f09a9c9bcd",
   "metadata": {},
   "source": [
    "## Responder"
   ]
  },
  {
   "cell_type": "markdown",
   "id": "ff97bf45-864e-4fe7-b319-fc38f56d388c",
   "metadata": {},
   "source": [
    "¿Qué imprime el programa? ¿Por qué?"
   ]
  },
  {
   "cell_type": "code",
   "execution_count": 3,
   "id": "693e0d61-a47b-4031-904a-15a501c3704d",
   "metadata": {},
   "outputs": [
    {
     "name": "stdout",
     "output_type": "stream",
     "text": [
      "2\n",
      "1\n",
      "2\n",
      "3\n"
     ]
    },
    {
     "data": {
      "text/plain": [
       "<function __main__.a.<locals>.b()>"
      ]
     },
     "execution_count": 3,
     "metadata": {},
     "output_type": "execute_result"
    }
   ],
   "source": [
    "y = 1\n",
    "def a():\n",
    "  x = 2\n",
    "  def b():\n",
    "    print(x)\n",
    "    print(y)\n",
    "  b()\n",
    "  return b\n",
    "a()\n",
    "z = a\n",
    "y = 3\n",
    "x = 4\n",
    "z()"
   ]
  },
  {
   "cell_type": "code",
   "execution_count": null,
   "id": "1ea6fbcc-d3b9-4b8c-ac7c-37f4cc994d4a",
   "metadata": {},
   "outputs": [],
   "source": []
  },
  {
   "cell_type": "markdown",
   "id": "ede9f462-97f4-47f8-877b-28a7c61cc49b",
   "metadata": {},
   "source": [
    "Explique brevemente los siguientes conceptos:\n",
    "   * Parámetro\n",
    "   * Parámetro real\n",
    "   * Parámetro formal\n",
    "   * Ligadura posicional\n",
    "   * Ligadura por palabra clave o nombre"
   ]
  },
  {
   "cell_type": "code",
   "execution_count": null,
   "id": "8c474e24-320d-4d59-af33-6e7ec0ef7f0a",
   "metadata": {},
   "outputs": [],
   "source": []
  },
  {
   "cell_type": "markdown",
   "id": "5849a38c-8294-42e9-b6cc-1039465229dd",
   "metadata": {},
   "source": [
    "Complete el siguiente cuadro según lo correspondiente a cada lenguaje:\n",
    "\n",
    "| Lenguaje | Tipo de pasaje de parámetros |\n",
    "| --       | --                           |\n",
    "| ADA      |                              |\n",
    "| C        |                              |\n",
    "| Ruby     |                              |\n",
    "| Java     |                              |\n",
    "| Python   |                              |"
   ]
  },
  {
   "cell_type": "markdown",
   "id": "7f0fed90-1ab1-426d-adb4-bc89f348e5b4",
   "metadata": {},
   "source": [
    "Indique con un ejemplo el comportamiento del parámetro formal por nombre (en el parámetro formal) para los siguientes casos de parámetros reales:\n",
    "* valor entero\n",
    "* constante\n",
    "* elemento de un arreglo\n",
    "* expresión\n",
    "* ¿Qué sucede en cada caso?"
   ]
  },
  {
   "cell_type": "markdown",
   "id": "36d95653-0a1a-462b-b7db-beb4753a07a4",
   "metadata": {},
   "source": []
  }
 ],
 "metadata": {
  "kernelspec": {
   "display_name": "Python [conda env:base] *",
   "language": "python",
   "name": "conda-base-py"
  },
  "language_info": {
   "codemirror_mode": {
    "name": "ipython",
    "version": 3
   },
   "file_extension": ".py",
   "mimetype": "text/x-python",
   "name": "python",
   "nbconvert_exporter": "python",
   "pygments_lexer": "ipython3",
   "version": "3.12.7"
  }
 },
 "nbformat": 4,
 "nbformat_minor": 5
}
