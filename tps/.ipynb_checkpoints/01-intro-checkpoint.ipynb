{
 "cells": [
  {
   "cell_type": "markdown",
   "id": "2fea29da-7da5-4052-925f-8915e39c4c97",
   "metadata": {},
   "source": [
    "# Introducción - Ejercicios\n",
    "---"
   ]
  },
  {
   "cell_type": "markdown",
   "id": "0e961ac4-4ab9-4e91-98ca-921bfc910fae",
   "metadata": {},
   "source": [
    "## Responder"
   ]
  },
  {
   "cell_type": "markdown",
   "id": "265bf851-d612-45fa-afe1-72c637f4af44",
   "metadata": {},
   "source": [
    "¿En qué se diferencia la programación declarativa de la programación operativa o procedural?"
   ]
  },
  {
   "cell_type": "code",
   "execution_count": null,
   "id": "3a796695-1d21-4e21-b375-aa77d12b52bc",
   "metadata": {},
   "outputs": [],
   "source": []
  },
  {
   "cell_type": "markdown",
   "id": "a03f8860-8ff8-45be-b522-a4ee46f648f1",
   "metadata": {},
   "source": [
    "Resolver el mismo problema en los cuatro paradigmas"
   ]
  },
  {
   "cell_type": "code",
   "execution_count": null,
   "id": "4ca21c3d-bdd4-48df-b667-88befcb6dd51",
   "metadata": {},
   "outputs": [],
   "source": []
  },
  {
   "cell_type": "markdown",
   "id": "3085b4ac-1cb9-4bff-aa37-b9f0c24b31a1",
   "metadata": {},
   "source": [
    "¿Cree que afecta la capacidad de expresión de un lenguaje en la eficiencia de programación en el mismo? Justificar"
   ]
  },
  {
   "cell_type": "code",
   "execution_count": null,
   "id": "6d44ce61-4c27-4e42-b9a4-98e38556dddc",
   "metadata": {},
   "outputs": [],
   "source": []
  },
  {
   "cell_type": "markdown",
   "id": "5b6f76ae-773c-404f-98da-f617c3e3b125",
   "metadata": {},
   "source": [
    "Defina y aporte un ejemplo de cada uno de los tres principios en que se divide la eficiencia de un LP"
   ]
  },
  {
   "cell_type": "code",
   "execution_count": null,
   "id": "322050c9-f83b-4f76-bdd1-67984f605007",
   "metadata": {},
   "outputs": [],
   "source": []
  },
  {
   "cell_type": "markdown",
   "id": "4ac447c1-d951-4e60-bbe1-172bcb5d5c01",
   "metadata": {},
   "source": [
    "Defina las tres propiedades en que se subdivide el principio de regularidad de un LP"
   ]
  },
  {
   "cell_type": "code",
   "execution_count": null,
   "id": "99c46246-89ab-4da9-92e6-a35dc25035dc",
   "metadata": {},
   "outputs": [],
   "source": []
  },
  {
   "cell_type": "markdown",
   "id": "fe463778-aa01-48f0-befc-04ff193bbefa",
   "metadata": {},
   "source": [
    "## Clasificación de LP"
   ]
  },
  {
   "cell_type": "markdown",
   "id": "1dd7c139-0ff6-4bf1-b59a-5959b7ea5c1c",
   "metadata": {},
   "source": [
    "* En la clase, entre todos armamos una planilla, donde cada uno elige un LP y se investiga: creador, año de creación, y con \"X\" se lo clasifica teniendo en cuenta las taxonomias\n",
    "\n",
    "| Alumno | LP  | Creador/es | Año  | Taxonomias ... |\n",
    "| --     | --  | --         | --   | --             |\n",
    "| alum1  | lp1 | crea1      | año1 | X ... X        |\n",
    "| ...    | ... | ...        | ...  | ...            |"
   ]
  },
  {
   "cell_type": "markdown",
   "id": "38d92826-7124-4960-aeb2-6a77b232fdf7",
   "metadata": {},
   "source": [
    "## Películas"
   ]
  },
  {
   "cell_type": "markdown",
   "id": "cdc669d4-b7e3-418e-b648-0173b4caca72",
   "metadata": {},
   "source": [
    "* En la clase, se arma una lista de películas donde la temática esté relacionada con los LP. Luego se decide mirar una de ellas y discutirla en la clase siguiente\n",
    "\n",
    "| Películas | Sinapsis |\n",
    "| --        | --       |\n",
    "| Pel1      | Sin1     |\n",
    "| ...       | ...      |\n",
    "\n",
    "* Fuentes: [https://neubox.com/blog/top20-peliculas-para-informaticos/](https://neubox.com/blog/top20-peliculas-para-informaticos/)"
   ]
  }
 ],
 "metadata": {
  "kernelspec": {
   "display_name": "Python [conda env:base] *",
   "language": "python",
   "name": "conda-base-py"
  },
  "language_info": {
   "codemirror_mode": {
    "name": "ipython",
    "version": 3
   },
   "file_extension": ".py",
   "mimetype": "text/x-python",
   "name": "python",
   "nbconvert_exporter": "python",
   "pygments_lexer": "ipython3",
   "version": "3.12.7"
  }
 },
 "nbformat": 4,
 "nbformat_minor": 5
}
