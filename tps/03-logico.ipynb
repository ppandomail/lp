{
 "cells": [
  {
   "cell_type": "markdown",
   "id": "3b28a6ce-0f8a-4322-91cc-deabbffeb274",
   "metadata": {},
   "source": [
    "# TP Lógico\n",
    "---"
   ]
  },
  {
   "cell_type": "code",
   "execution_count": 1,
   "id": "3de4697d-eb22-4efa-b70a-ca887028160e",
   "metadata": {},
   "outputs": [],
   "source": [
    "import janus_swi as janus"
   ]
  },
  {
   "cell_type": "markdown",
   "id": "ae44d953-93ba-4521-a2cd-499355dcf7ef",
   "metadata": {},
   "source": [
    "## Lógica proposicional"
   ]
  },
  {
   "cell_type": "markdown",
   "id": "872ffc2e-f2d0-41d8-b6b8-9875ae026821",
   "metadata": {},
   "source": [
    "* Representación de operadores lógicos como listas\n",
    "* La negación se puede representar como una lista de dos elementos: la palabra neg y una expresión lógica.\n",
    "* Las conjunciones, disyunciones e implicaciones se pueden representar como una lista de tres elementos: el alcance izquierdo, la conexión lógica y el alcance derecho.\n",
    "* Conexiones binarias: and, or, then\n",
    "* Constantes lógicas son expresiones: v,f\n",
    "* Variables lógicas son expresiones: p, q, r y s.\n",
    "* Si A es una expresión: [neg, A] también lo es.\n",
    "* Si A y B son expresiones y Con es una conexión lógica: [A, Con, B] es una expresión."
   ]
  },
  {
   "cell_type": "code",
   "execution_count": 2,
   "id": "87f0c6f2-3c5a-4e81-8661-8e8960edc2cc",
   "metadata": {},
   "outputs": [],
   "source": [
    "janus.consult('lógica proposicional', '''\n",
    "conbi(and).\n",
    "conbi(or).\n",
    "conbi(then).\n",
    "clog(v).\n",
    "clog(f).\n",
    "vlog(p).\n",
    "vlog(q).\n",
    "vlog(r).\n",
    "vlog(s).\n",
    "expr(X) :- clog(X).\n",
    "expr(X) :- vlog(X).\n",
    "expr([neg, A]) :- expr(A).\n",
    "expr([A, Con, B]) :- expr(A), conbi(Con), expr(B).\n",
    "''')"
   ]
  },
  {
   "cell_type": "code",
   "execution_count": 3,
   "id": "97b6e5e0-0f93-47d1-b674-cc4f294c0621",
   "metadata": {},
   "outputs": [
    {
     "data": {
      "text/plain": [
       "[{'truth': True}]"
      ]
     },
     "execution_count": 3,
     "metadata": {},
     "output_type": "execute_result"
    }
   ],
   "source": [
    "# p & (q -> ¬r)\n",
    "list(janus.query('expr( [p, and, [q, then, [neg, r]]]).'))"
   ]
  },
  {
   "cell_type": "markdown",
   "id": "aa910c55-9d27-47cc-9fa4-1f42a62a10e3",
   "metadata": {},
   "source": [
    "## fibonacci(N, X)"
   ]
  },
  {
   "cell_type": "markdown",
   "id": "554182ee-9dd9-4ecb-a747-f1d268b630bb",
   "metadata": {},
   "source": [
    "* Definir la relación fibonacci(N, X) que se verifique si X es el N-ésimo término de la sucesión de Fibonacci\n",
    "* La sucesión de Fibonacci es 0, 1, 1, 2, 3, 5, 8, ...\n",
    "* y está definida por\n",
    "* f(0) = 0\n",
    "* f(1) = 1\n",
    "* f(n) = f(n-1) + f(n-2), si n > 1"
   ]
  },
  {
   "cell_type": "code",
   "execution_count": 4,
   "id": "991885c4-f424-47be-938a-1ce6aa46fa1b",
   "metadata": {},
   "outputs": [
    {
     "data": {
      "text/plain": [
       "[{'truth': True, 'X': 2}]"
      ]
     },
     "execution_count": 4,
     "metadata": {},
     "output_type": "execute_result"
    }
   ],
   "source": [
    "janus.consult('fibonacci(N, X)', '''\n",
    "fibonacci(0, 0).\n",
    "fibonacci(1, 1).\n",
    "fibonacci(N, X) :- N > 1, N1 is N-1, fibonacci(N1, X1), N2 is N-2, fibonacci(N2, X2), X is X1+X2.\n",
    "''')\n",
    "list(janus.query('fibonacci(3, X).'))"
   ]
  },
  {
   "cell_type": "markdown",
   "id": "95461763-a954-4306-9e7c-8c95b650bba7",
   "metadata": {},
   "source": [
    "## Juego Torres de Hanoi"
   ]
  },
  {
   "cell_type": "markdown",
   "id": "04c5bf63-1484-44c7-b8a6-b5685ac340dd",
   "metadata": {},
   "source": [
    "Programa en el que se tiene que mover todos los aros hacia el tercer poste, usando el segundo como un poste auxiliar. Para calcular los movimientos es mov=(2^n )-1, donde n es el # de aros "
   ]
  },
  {
   "cell_type": "code",
   "execution_count": 5,
   "id": "b83b052e-f6b4-451b-bc75-482ac3243111",
   "metadata": {},
   "outputs": [
    {
     "name": "stdout",
     "output_type": "stream",
     "text": [
      "Mueve del a al c\n",
      "Mueve del a al b\n",
      "Mueve del c al b\n",
      "Mueve del a al c\n",
      "Mueve del b al a\n",
      "Mueve del b al c\n",
      "Mueve del a al c\n"
     ]
    },
    {
     "data": {
      "text/plain": [
       "[{'truth': True}]"
      ]
     },
     "execution_count": 5,
     "metadata": {},
     "output_type": "execute_result"
    }
   ],
   "source": [
    "janus.consult('Hanoi', '''\n",
    "hanoi(1, A, _, C) :- write('Mueve del '), write(A), write(' al '), write(C), nl.\n",
    "hanoi(N, A, B, C) :- N>1, M is N-1, hanoi(M, A, C, B), hanoi(1, A, B, C), hanoi(M, B, A, C).\n",
    "''')\n",
    "list(janus.query('hanoi(3, a, b, c).'))"
   ]
  },
  {
   "cell_type": "markdown",
   "id": "c1f03726-4970-4568-9e46-0220c5ad9d9c",
   "metadata": {},
   "source": [
    "## Rutas"
   ]
  },
  {
   "cell_type": "markdown",
   "id": "b44afe0c-da19-4880-8f17-5ed030398e66",
   "metadata": {},
   "source": [
    "Rutas que permite encontrar la distancia en kilómetros entre dos ciudades pasando por diferentes rutas"
   ]
  },
  {
   "cell_type": "code",
   "execution_count": 6,
   "id": "4604f1d3-d13d-4758-b731-a3674e5b4387",
   "metadata": {},
   "outputs": [],
   "source": [
    "janus.consult('rutas', '''\n",
    "distancia(buenosAires, puertoMadryn, 1300).\n",
    "distancia(puertoMadryn, puertoDeseado, 732).\n",
    "distancia(puertoDeseado, rioGallegos, 736).\n",
    "distancia(puertoDeseado, calafate, 979).\n",
    "distancia(rioGallegos, calafate, 304).\n",
    "distancia(calafate, chalten, 213).\n",
    "\n",
    "kilometrosViaje(Origen, Destino, Kms):-\n",
    "    distancia(Origen, Destino, Kms).\n",
    "kilometrosViaje(Origen, Destino, KmsTotales):-\n",
    "    distancia(Origen, PuntoIntermedio, KmsIntermedios),\n",
    "    kilometrosViaje(PuntoIntermedio, Destino, KmsFinales),\n",
    "    KmsTotales is KmsIntermedios + KmsFinales.\n",
    "\n",
    "totalViaje(Origen, Destino, Kms):-kilometrosViaje(Origen, Destino, Kms).\n",
    "totalViaje(Destino, Origen, Kms):-kilometrosViaje(Origen, Destino, Kms).\n",
    "''')"
   ]
  },
  {
   "cell_type": "markdown",
   "id": "2763eb7d-890e-47b5-9ecd-b2cd4b6c5132",
   "metadata": {},
   "source": [
    "## cons(X, L1, L2)"
   ]
  },
  {
   "cell_type": "markdown",
   "id": "2aaf3530-a3ac-44ed-9936-08c72da68b9c",
   "metadata": {},
   "source": [
    "Definir la relación cons(X, L1, L2) que se verifique si L2 es la lista obtenida añadiendo X a L1 como primer elemento"
   ]
  },
  {
   "cell_type": "code",
   "execution_count": 7,
   "id": "f7bbfd8f-aac9-42c3-853c-21deb2bfda0d",
   "metadata": {},
   "outputs": [],
   "source": [
    "janus.consult('cons(X, L1, L2)', '''\n",
    "cons(X, L, [X|L]).\n",
    "''')"
   ]
  },
  {
   "cell_type": "markdown",
   "id": "effd41ef-cf8a-4c5a-8037-27b27e116ec1",
   "metadata": {},
   "source": [
    "## inversa(L1, L2)"
   ]
  },
  {
   "cell_type": "markdown",
   "id": "cf4c1ee1-2aaa-4751-9209-79c9e11ba791",
   "metadata": {},
   "source": [
    "Definir la relación inversa(L1, L2) que se verifique si L2 es la lista obtenida invirtiendo el orden de los elementos de la lista L1."
   ]
  },
  {
   "cell_type": "code",
   "execution_count": 8,
   "id": "3b433561-e3d4-470a-9785-d455ceadff4b",
   "metadata": {},
   "outputs": [],
   "source": [
    "janus.consult('inversa(L1, L2)', '''\n",
    "inversa([],[]).\n",
    "inversa([X|L1], L2) :- inversa(L1, L3), append(L3, [X], L2).\n",
    "''')"
   ]
  },
  {
   "cell_type": "markdown",
   "id": "bab37f19-b65e-4c57-942b-725d1ceb0d42",
   "metadata": {},
   "source": [
    "## palindromo(L)"
   ]
  },
  {
   "cell_type": "markdown",
   "id": "dac446dd-27fc-41a6-b2e3-69bb96a2225b",
   "metadata": {},
   "source": [
    "Definir la relación palíndromo(L) que se verifique si la lista L es un palíndromo"
   ]
  },
  {
   "cell_type": "code",
   "execution_count": 9,
   "id": "115de3d7-5d73-4e43-b504-570527d4a822",
   "metadata": {},
   "outputs": [],
   "source": [
    "janus.consult('palindromo(L)', '''\n",
    "palíndromo(L) :- reverse(L, L).\n",
    "''')"
   ]
  },
  {
   "cell_type": "markdown",
   "id": "a6e87060-72b6-4ed3-860f-320a2b3b6d15",
   "metadata": {},
   "source": [
    "## selecciona(X, L1, L2)"
   ]
  },
  {
   "cell_type": "markdown",
   "id": "2936238b-1fa8-4298-957b-bc3b581acc87",
   "metadata": {},
   "source": [
    "Definir la relación selecciona(X, L1, L2) que se verifique si L2 es la lista obtenida eliminando una ocurrencia de X en L1"
   ]
  },
  {
   "cell_type": "code",
   "execution_count": 10,
   "id": "5a5dc16b-3d8e-4358-900a-08a09961a7d7",
   "metadata": {},
   "outputs": [
    {
     "name": "stderr",
     "output_type": "stream",
     "text": [
      "Warning: selecciona(X, L1, L2):2:\n",
      "Warning:    Singleton variables: [L]\n"
     ]
    }
   ],
   "source": [
    "janus.consult('selecciona(X, L1, L2)', '''\n",
    "selecciona(X, [X|_], L).\n",
    "selecciona(X, [Y|L1], [Y|L2]) :- selecciona(X, L1, L2).\n",
    "''')"
   ]
  },
  {
   "cell_type": "markdown",
   "id": "25dead22-3213-46fa-bb43-2cd3c1b8ba34",
   "metadata": {},
   "source": [
    "## inserta(X, L1, L2)"
   ]
  },
  {
   "cell_type": "markdown",
   "id": "2b9fe395-545e-4659-bd98-cf4e1f64d3ec",
   "metadata": {},
   "source": [
    "Definir la relación inserta(X, L1, L2) que se verifique si L2 es una lista obtenida insertando X en L1"
   ]
  },
  {
   "cell_type": "code",
   "execution_count": 11,
   "id": "ee4193f2-44d8-49cf-9e7f-6718a6ea50ac",
   "metadata": {},
   "outputs": [],
   "source": [
    "janus.consult('inserta(X, L1, L2)', '''\n",
    "inserta(X, L1, L2) :- select(X, L2, L1).\n",
    "''')"
   ]
  },
  {
   "cell_type": "markdown",
   "id": "a0b12c97-96c1-4e9f-9d49-34154a19d403",
   "metadata": {},
   "source": [
    "## todos_iguales(L)"
   ]
  },
  {
   "cell_type": "markdown",
   "id": "186813cf-1ce3-4b52-a591-b682e9e19d8d",
   "metadata": {},
   "source": [
    "Definir la relación todos_iguales(L) que se verifique si todos los elementos de la lista L son iguales entre sí"
   ]
  },
  {
   "cell_type": "code",
   "execution_count": 12,
   "id": "663d779e-0577-4d18-99a0-cd55e362071e",
   "metadata": {},
   "outputs": [],
   "source": [
    "janus.consult('todos_iguales(L)', '''\n",
    "todos_iguales([]).\n",
    "todos_iguales([_]).\n",
    "todos_iguales([X, X|L]) :- todos_iguales([X|L]).\n",
    "''')"
   ]
  },
  {
   "cell_type": "markdown",
   "id": "c2831719-e37f-4561-85e3-bdb9aa640322",
   "metadata": {},
   "source": [
    "## longitud_par(L)"
   ]
  },
  {
   "cell_type": "markdown",
   "id": "879cd236-6c3a-43e4-919a-e61aeaca3c67",
   "metadata": {},
   "source": [
    "Definir la relación longitud_par(L) que se verifique si la longitud de la lista L es par"
   ]
  },
  {
   "cell_type": "code",
   "execution_count": 13,
   "id": "30c0363c-be76-4e83-b25f-780ef7385b9c",
   "metadata": {},
   "outputs": [],
   "source": [
    "janus.consult('longitud_par(L)', '''\n",
    "longitud_par([]).\n",
    "longitud_par([_|L]) :- longitud_impar(L).\n",
    "longitud_impar([_]).\n",
    "longitud_impar([_|L]) :- longitud_par(L).\n",
    "''')"
   ]
  },
  {
   "cell_type": "markdown",
   "id": "76c8bfb1-d139-46bf-842a-0be842cced00",
   "metadata": {},
   "source": [
    "## subconjunto(L1, L2)"
   ]
  },
  {
   "cell_type": "markdown",
   "id": "451d0282-ced2-48cf-9415-c208724e4d94",
   "metadata": {},
   "source": [
    "Definir la relación subconjunto(L1, L2) que se verifique si L2 es un subconjunto de L1"
   ]
  },
  {
   "cell_type": "code",
   "execution_count": 14,
   "id": "b777cbdb-ca3f-429c-a1a2-907b54996e60",
   "metadata": {},
   "outputs": [],
   "source": [
    "janus.consult('subconjunto(L1, L2)', '''\n",
    "subconjunto([], []).\n",
    "subconjunto([X|L1], [X|L2]) :- subconjunto(L1, L2).\n",
    "subconjunto([_|L1], L2) :- subconjunto(L1, L2).\n",
    "''')"
   ]
  },
  {
   "cell_type": "markdown",
   "id": "90663dc9-b85b-4aff-9005-e4de9ee5adce",
   "metadata": {},
   "source": [
    "## lista_acotada(L)"
   ]
  },
  {
   "cell_type": "markdown",
   "id": "20faba3a-837b-42ad-8f14-31c2c2a6daaa",
   "metadata": {},
   "source": [
    "Definir la relación lista_acotada(L) que se verifique si todos los elementos de la lista de números L son menores que la longitud de L"
   ]
  },
  {
   "cell_type": "code",
   "execution_count": 15,
   "id": "1e612ffd-946f-4fd7-b403-aa24fbcf5a06",
   "metadata": {},
   "outputs": [],
   "source": [
    "janus.consult('lista_acotada(L)', '''\n",
    "lista_acotada(L) :- length(L, N), lista_acotada_aux(L, N).\n",
    "lista_acotada_aux([ ], _).\n",
    "lista_acotada_aux([X | L], N) :- X < N, lista_acotada_aux(L, N).\n",
    "''')"
   ]
  },
  {
   "cell_type": "markdown",
   "id": "46124edd-172a-4f0b-8f0d-46e2c3bac541",
   "metadata": {},
   "source": [
    "## max_lista(L, X)"
   ]
  },
  {
   "cell_type": "markdown",
   "id": "b7f546ba-df6d-4236-bd6c-43b62ae96234",
   "metadata": {},
   "source": [
    "Definir la relación max_lista(L, X) que se verifique si X es el máximo de la lista de números L"
   ]
  },
  {
   "cell_type": "code",
   "execution_count": 16,
   "id": "15b02c51-b4a2-4f1a-890d-4cb588170972",
   "metadata": {},
   "outputs": [],
   "source": [
    "janus.consult('max_lista(L, X)', '''\n",
    "max_lista([X], X).\n",
    "max_lista([X1, X2 | L], Y) :- X3 is max(X1, X2), max_lista([X3 | L], Y).\n",
    "''')"
   ]
  },
  {
   "cell_type": "markdown",
   "id": "ef9d175b-4515-46d2-860c-532745a6088c",
   "metadata": {},
   "source": [
    "## ordenada(L)"
   ]
  },
  {
   "cell_type": "markdown",
   "id": "b6ffd0f5-a386-4ad4-9364-77fba8f47bda",
   "metadata": {},
   "source": [
    "Definir la relación ordenada(L) que se verifique si la lista de números está ordenada de manera creciente"
   ]
  },
  {
   "cell_type": "code",
   "execution_count": 17,
   "id": "f01e5d62-f727-443c-858d-80645c655cce",
   "metadata": {},
   "outputs": [],
   "source": [
    "janus.consult('ordenada(L)', '''\n",
    "ordenada([_]).\n",
    "ordenada([X, Y | L]) :- X =< Y, ordenada([Y | L]).\n",
    "''')"
   ]
  },
  {
   "cell_type": "markdown",
   "id": "6669e391-3a39-4f8d-9f3d-318da0a26b7b",
   "metadata": {},
   "source": [
    "## lista(N, L)"
   ]
  },
  {
   "cell_type": "markdown",
   "id": "3d98dd6b-ee23-4c4c-bafe-9591c2d7dd2f",
   "metadata": {},
   "source": [
    "Definir la relación lista(N, L) que se verifique si L es la lista de longitud N cuyos elementos son N"
   ]
  },
  {
   "cell_type": "code",
   "execution_count": 18,
   "id": "9bca7c7f-a816-4880-8b38-8150a72dedd7",
   "metadata": {},
   "outputs": [],
   "source": [
    "janus.consult('lista(N, L)', '''\n",
    "lista(N, L) :- lista_aux(N, N, L).\n",
    "lista_aux(_, 0, [ ]).\n",
    "lista_aux(N, M, [N | L]) :- M > 0, M1 is M-1, lista_aux(N, M1, L).\n",
    "''')"
   ]
  },
  {
   "cell_type": "markdown",
   "id": "240fed6a-790d-44b4-bbfa-e13182f55e1e",
   "metadata": {},
   "source": [
    "## entre(N1, N2, X)"
   ]
  },
  {
   "cell_type": "markdown",
   "id": "5d087c97-d9aa-4271-b69a-d088e013e369",
   "metadata": {},
   "source": [
    "Definir la relación entre(N1, N2, X) que se verifique si X es un número entero tal que N1 ≤ X ≤ N2"
   ]
  },
  {
   "cell_type": "code",
   "execution_count": 19,
   "id": "ecda478c-cf5e-474d-880d-a2db0a57d3cd",
   "metadata": {},
   "outputs": [],
   "source": [
    "janus.consult('entre(N1, N2, X)', '''\n",
    "entre(N1, N2, N1) :- N1 =< N2.\n",
    "entre(N1, N2, X) :- N1 < N2, N3 is N1+1, entre(N3, N2, X).\n",
    "''')"
   ]
  },
  {
   "cell_type": "markdown",
   "id": "9b05d57b-5da0-4e23-91ab-6dd398ff37d6",
   "metadata": {},
   "source": [
    "## elemento_en(K, L, X)"
   ]
  },
  {
   "cell_type": "markdown",
   "id": "256457ce-69e2-4392-a0b7-9f532dd69167",
   "metadata": {},
   "source": [
    "Definir la relación elemento_en(K, L, X) que se verifique si X es el K-ésimo elemento de la lista L(se empieza a numerar en 1)"
   ]
  },
  {
   "cell_type": "code",
   "execution_count": 20,
   "id": "09b257a7-7347-4403-8bc6-f01e6612a193",
   "metadata": {},
   "outputs": [],
   "source": [
    "janus.consult('elemento_en(K, L, X)', '''\n",
    "elemento_en(1, [X | _], X).\n",
    "elemento_en(K, [_ | L], X) :- K > 1, K1 is K-1, elemento_en(K1, L, X).\n",
    "''')"
   ]
  },
  {
   "cell_type": "markdown",
   "id": "f4f0012b-5642-4eb6-ab19-f5920013cb9c",
   "metadata": {},
   "source": [
    "## multiplicada(L1, N, L2)"
   ]
  },
  {
   "cell_type": "markdown",
   "id": "be359480-fb57-40e4-9e9d-9f8986bfd3f0",
   "metadata": {},
   "source": [
    "Definir la relación multiplicada(L1, N, L2) que se verifica si L2 es la lista obtenida repitiendo N veces los elementos de la lista L1"
   ]
  },
  {
   "cell_type": "code",
   "execution_count": 21,
   "id": "3127d66d-d6fd-40e2-a4c3-e6e15d8f9cc4",
   "metadata": {},
   "outputs": [],
   "source": [
    "janus.consult('multiplicada(L1, N, L2)', '''\n",
    "multiplicada(L1, N, L2) :- multiplicada_aux(L1, N, N, L2).\n",
    "multiplicada_aux([ ], _, _, [ ]).\n",
    "multiplicada_aux([_ | L1], 0, N, L2) :- multiplicada_aux(L1, N, N, L2).\n",
    "multiplicada_aux([X | L1], K, N, [X | L2]) :- K > 0, K1 is K-1, multiplicada_aux([X |L1], K1, N, L2).\n",
    "''')"
   ]
  },
  {
   "cell_type": "markdown",
   "id": "b81b8ae8-54f9-4af5-b3ee-fe59a2f6227f",
   "metadata": {},
   "source": [
    "## Familia"
   ]
  },
  {
   "cell_type": "code",
   "execution_count": 23,
   "id": "18c401b1-3a3f-4b87-988f-ae305c66c1b2",
   "metadata": {},
   "outputs": [],
   "source": [
    "janus.consult('familia', '''\n",
    "padre(alberto, juan).\n",
    "padre(alberto, luis).\n",
    "padre(leoncio, alberto).\n",
    "padre(leoncio, geronimo).\n",
    "padre(geronimo, luisa).\n",
    "hermano(A, B) :- padre(P, A), padre(P, B), A \\\\== B.\n",
    "nieto(A, B) :- padre(P, A), padre(B, P).\n",
    "primo(A, B) :- padre(PA, A), padre(PB, B), hermano(PA, PB), PA \\\\== PB.\n",
    "tio(A, B) :- padre(PB, B), hermano(PB, A).\n",
    "hijo(A, B) :- padre(B, A).\n",
    "''')"
   ]
  },
  {
   "cell_type": "markdown",
   "id": "04f8f05a-291f-42e3-b893-8c7f6308a22b",
   "metadata": {},
   "source": [
    "## Películas"
   ]
  },
  {
   "cell_type": "markdown",
   "id": "9dbd0c19-a7cf-49cd-82ae-fa702c320e2f",
   "metadata": {},
   "source": [
    "* Un suertude es aquel que actuó en una película que ganó el Oscar\n",
    "* p ^ q -> r\n",
    "* p: actuó en una película\n",
    "* q: ganó el Oscar\n",
    "* r: es suertudo"
   ]
  },
  {
   "cell_type": "code",
   "execution_count": 24,
   "id": "b42fe8ab-778c-42d6-8f05-d18ed2513ad2",
   "metadata": {},
   "outputs": [],
   "source": [
    "janus.consult('peliculas', '''\n",
    "actuo(leoDiCaprio, wolfOfWallStreet).\n",
    "actuo(margotRobbie, wolfOfWallStreet).\n",
    "actuo(jonahHill, wolfOfWallStreet).\n",
    "actuo(leoDiCaprio, onceUponATimeInHollywood).\n",
    "actuo(bradPitt, onceUponATimeInHollywood).\n",
    "actuo(margotRobbie, onceUponATimeInHollywood).\n",
    "actuo(joePesci, goodFellas).\n",
    "actuo(robertDeNiro, goodFellas).\n",
    "actuo(rayLiotta, goodFellas).\n",
    "actuo(lorraineBracco, goodFellas).\n",
    "actuo(leoDiCaprio, catchMeIfYouCan).\n",
    "actuo(tomHanks, catchMeIfYouCan).\n",
    "actuo(michaelKeaton, birdman).\n",
    "actuo(emmaStone, birdman).\n",
    "ganoElOscar(birdman).\n",
    "suertudo(Persona) :- actuo(Persona, Pelicula), ganoElOscar(Pelicula).\n",
    "''')"
   ]
  },
  {
   "cell_type": "markdown",
   "id": "45bf7e27-0a2f-4f66-8ecb-041285ba2cdc",
   "metadata": {},
   "source": [
    "## Buen trabajo"
   ]
  },
  {
   "cell_type": "markdown",
   "id": "a20fd09c-b791-48ac-bb4a-a6b1833d1fef",
   "metadata": {},
   "source": [
    "* Una persona tiene un buen trabajo si\n",
    "    * gana un buen sueldo (> 800K)\n",
    "    * tiene tiempo libre para vivir (trabaja <= 8 horas)"
   ]
  },
  {
   "cell_type": "code",
   "execution_count": 25,
   "id": "45bc6044-0446-40f2-aa9b-b5a9eb51eb85",
   "metadata": {},
   "outputs": [],
   "source": [
    "janus.consult('buen trabajo', '''\n",
    "sueldo(elektra, 850000).\n",
    "sueldo(loki, 900000).\n",
    "sueldo(thor, 750000).\n",
    "trabaja(elektra, 6).\n",
    "trabaja(thor, 5).\n",
    "trabaja(loki, 8).\n",
    "ganaBuenSueldo(Quien):- sueldo(Quien, Sueldo), Sueldo > 800000.\n",
    "tieneTiempoLibre(Quien):- trabaja(Quien, Horas), Horas =< 8.\n",
    "tieneUnBuenTrabajo(Quien):- ganaBuenSueldo(Quien), tieneTiempoLibre(Quien).\n",
    "''')"
   ]
  },
  {
   "cell_type": "markdown",
   "id": "1301e3bd-139f-40a6-a52d-55d5169a8c64",
   "metadata": {},
   "source": [
    "## Caminos"
   ]
  },
  {
   "cell_type": "markdown",
   "id": "7ee15a1a-bbf7-4af7-9f9b-f6bbc8d699eb",
   "metadata": {},
   "source": [
    "* El problema consiste en determinar caminos entre ciudades\n",
    "* Hay un camino entre dos ciudades si hay una ruta que las une\n",
    "* Además, hay un camino entre una ciudad x y una ciudad z, si hay una ruta que une a x con otra ciudad t, seguida de un camino de t a z\n",
    "* Dadas 6 ciudades ba, lp, mdq, jy, mi y bb, se sabe que hay ruta entre: ba y lp; ba y jy; mi y bb; ba y mdq; ba y mi; mdq y mi; lp y mi\n",
    "* Se pide contestar: ¿Existe algún camino a la ciudad mdq?. Si existe, ¿desde que ciudad/es?"
   ]
  },
  {
   "cell_type": "code",
   "execution_count": 26,
   "id": "c5123a33-46ca-4af6-9f2b-35b3c1b00780",
   "metadata": {},
   "outputs": [],
   "source": [
    "janus.consult('caminos', '''\n",
    "ruta(ba, lp).\n",
    "ruta(ba, jy).\n",
    "ruta(mi, bb).\n",
    "ruta(ba, mdq).\n",
    "ruta(ba, mi).\n",
    "ruta(mdq, mi).\n",
    "ruta(lp, mi).\n",
    "camino(O, D) :- ruta(O, D), !.\n",
    "camino(O, D) :- ruta(O, I), camino(I, D).\n",
    "''')"
   ]
  },
  {
   "cell_type": "markdown",
   "id": "bfeba5f2-ea17-41df-89eb-dacdb62ee69b",
   "metadata": {},
   "source": [
    "## Autómatas"
   ]
  },
  {
   "cell_type": "markdown",
   "id": "b01205a6-9790-488b-8f48-fe25fc438ab5",
   "metadata": {},
   "source": [
    "* Representar un AFD (autómata finito determinista) que reconoce el lenguaje {b, bb, ab, abb, aab, aabb, aaab, aaabb, ...} es decir a*(b | bb) utilizando las siguientes relaciones: \n",
    "    * final(Q) que se verifica si Q es el estado final\n",
    "    * trans(Q1, S, Q2) que se verifica si se puede pasar del estado Q1 al estado Q2 leyendo el símbolo S\n",
    "* Definir la relación acepta(L, Q) que se verifica si el autómata, a partir del estado Q, acepta la lista L (cadena de símbolos)"
   ]
  },
  {
   "cell_type": "code",
   "execution_count": 27,
   "id": "86947500-f7d5-4ea9-b012-7178b5655a0d",
   "metadata": {},
   "outputs": [],
   "source": [
    "janus.consult('autómatas', '''\n",
    "final(q1).\n",
    "final(q2).\n",
    "trans(q0, a, q0).\n",
    "trans(q0, b, q1).\n",
    "trans(q1, b, q2).\n",
    "acepta([], E) :- final(E).\n",
    "acepta([H|Q], E) :- trans(E, H, E2), acepta(Q, E2).\n",
    "''')"
   ]
  }
 ],
 "metadata": {
  "kernelspec": {
   "display_name": "Python [conda env:base] *",
   "language": "python",
   "name": "conda-base-py"
  },
  "language_info": {
   "codemirror_mode": {
    "name": "ipython",
    "version": 3
   },
   "file_extension": ".py",
   "mimetype": "text/x-python",
   "name": "python",
   "nbconvert_exporter": "python",
   "pygments_lexer": "ipython3",
   "version": "3.12.7"
  }
 },
 "nbformat": 4,
 "nbformat_minor": 5
}
