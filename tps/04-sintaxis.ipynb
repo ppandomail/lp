{
 "cells": [
  {
   "cell_type": "markdown",
   "id": "fb1e9a05-7c60-438c-95ac-b770b9de1731",
   "metadata": {},
   "source": [
    "# TP Sintaxis\n",
    "---"
   ]
  },
  {
   "cell_type": "markdown",
   "id": "afb06b42-d352-4293-8a0d-5359fa4392f0",
   "metadata": {},
   "source": [
    "## Responder"
   ]
  },
  {
   "cell_type": "markdown",
   "id": "e5e271b2-4766-4f95-8c09-f7b5d0d2fcab",
   "metadata": {},
   "source": [
    "¿Por qué conviene utilizar mecanismos formales como BNF para estudiar la sintaxis de los lenguajes de Programación?"
   ]
  },
  {
   "cell_type": "code",
   "execution_count": null,
   "id": "036a8025-8558-414e-9cc3-23b10955ce5c",
   "metadata": {},
   "outputs": [],
   "source": []
  },
  {
   "cell_type": "markdown",
   "id": "f232c286-6891-4e45-882f-f5bd943e2e09",
   "metadata": {},
   "source": [
    "¿Pueden dos instrucciones de asignación en diferentes lenguajes poseer igual sintaxis, igual semántica y diferente pragmática?"
   ]
  },
  {
   "cell_type": "code",
   "execution_count": null,
   "id": "ecb9a58d-acaa-417b-9d33-24a5ebe8306c",
   "metadata": {},
   "outputs": [],
   "source": []
  },
  {
   "cell_type": "markdown",
   "id": "d723ece8-a498-461d-940e-9d57964aedc9",
   "metadata": {},
   "source": [
    "¿Pueden dos instrucciones de asignación en diferentes lenguajes poseer igual sintaxis y diferente semántica?"
   ]
  },
  {
   "cell_type": "code",
   "execution_count": null,
   "id": "641a9b98-3ef4-4652-bfa4-b56a4f008054",
   "metadata": {},
   "outputs": [],
   "source": []
  },
  {
   "cell_type": "markdown",
   "id": "72ba180b-b78c-47be-b53c-bda7bc6ea5fb",
   "metadata": {},
   "source": [
    "¿Pueden dos instrucciones de asignación en el mismo lenguaje con diferente sintaxis poseer diferente semántica?"
   ]
  },
  {
   "cell_type": "code",
   "execution_count": null,
   "id": "0b2b475c-718b-436f-a79b-8f42da8df3d8",
   "metadata": {},
   "outputs": [],
   "source": []
  },
  {
   "cell_type": "markdown",
   "id": "fd9fc8a7-d6ac-410f-9a32-b28cd98c8701",
   "metadata": {},
   "source": [
    "¿Puede limitarse desde la gramática el valor máximo que puede adoptar una variable?"
   ]
  },
  {
   "cell_type": "code",
   "execution_count": null,
   "id": "dec38a96-346b-4a9a-b329-1240f8ea552d",
   "metadata": {},
   "outputs": [],
   "source": []
  },
  {
   "cell_type": "markdown",
   "id": "bff9f1b2-26f0-48b9-bbb6-3e4f65b748c6",
   "metadata": {},
   "source": [
    "Responder si es verdadera o falsa la siguiente afirmación: Si un lenguaje tiene dos formas sintácticas diferentes para escribir una instrucción condicional, entonces existe una ambigüedad en la gramática"
   ]
  },
  {
   "cell_type": "code",
   "execution_count": null,
   "id": "6901e777-7507-4632-b27b-b579f2a9af8a",
   "metadata": {},
   "outputs": [],
   "source": []
  },
  {
   "cell_type": "markdown",
   "id": "45b984be-3220-4a4b-9d3f-a664d9214581",
   "metadata": {},
   "source": [
    "## GIC"
   ]
  },
  {
   "cell_type": "markdown",
   "id": "fe8246e7-d1db-4516-bcd5-016b3c088de2",
   "metadata": {},
   "source": [
    "Proporcione GIC para describir la sintaxis de cada uno de los siguientes casos:\n",
    "1. Cadenas de longitud uno o mayores definidas sobre el conjunto de símbolos terminales {blanco, tab, línea nueva}\n",
    "1. Secuencias de letras o dígitos, comenzando con una letra\n",
    "1. Números reales en los cuales tanto la parte entera como la fraccionaria pueden estar vacías, pero no ambas a la vez. Así, la gramática debe permitir 31., 3.1 y .13, pero no un punto decimal solo"
   ]
  },
  {
   "cell_type": "code",
   "execution_count": null,
   "id": "026fae9c-917f-49ec-92ac-91b15c9708c1",
   "metadata": {},
   "outputs": [],
   "source": []
  },
  {
   "cell_type": "markdown",
   "id": "a844b008-216c-4aa9-9fe7-c2de4a88c42f",
   "metadata": {},
   "source": [
    "## BNF"
   ]
  },
  {
   "cell_type": "markdown",
   "id": "04095635-bc0c-4e0c-b8d6-ec8b06713d37",
   "metadata": {},
   "source": [
    "Dadas las siguientes reglas extraídas del conjunto de reglas del lenguaje Python\n",
    "\n",
    "```\n",
    "<asignacion> ::= <destino> \"=\" <expresión>\n",
    "<destino> ::= <identificador> | <elemento_arreglo>\n",
    "<elemento_arreglo> ::= <identificador> \"[\" <subindices> \"]\"\n",
    "<subindices> ::= <identificador> | <identificador> , <subindices>\n",
    "```\n",
    "\n",
    "* Proponer las reglas que faltan para poder representar sintácticamente una asignación\n",
    "* Agregar reglas para permitir expresiones como subíndices de arreglos\n",
    "* Proponer reglas para permitir asignaciones múltiples por ejemplo: a,b,c = d, e+f, g+3\n",
    "* Construir el árbol de parsing para las siguientes sentencias con las reglas que haya agregado  B:= A - B \\* (C + D / A)  y   B[2]:= A[(E + 1), 9] \\* D"
   ]
  },
  {
   "cell_type": "code",
   "execution_count": null,
   "id": "ca1b7dc8-1f75-4a18-9419-e86a8ea30899",
   "metadata": {},
   "outputs": [],
   "source": []
  },
  {
   "cell_type": "markdown",
   "id": "04181bde-9417-41bd-8aac-066a205c57fa",
   "metadata": {},
   "source": [
    "Dada la siguiente gramática en BNF:\n",
    "\n",
    "```\n",
    "<comienzo> ::= <declaración> | <invocación>\n",
    "<declaración> ::= PROCEDURE <id> ( < lis_param> ) <cuerpo> ;\n",
    "<lis_param> ::= <param> ; <lis_param> | <param>\n",
    "<param> ::= <list_id> : <tipo>\n",
    "<tipo> ::= INT | STRING\n",
    "<list_id> ::= <id> | <id> , <list_id>\n",
    "<invocación> ::= <id> ( <list_id> ) ;\n",
    "<cuerpo> ::= // { … }\n",
    "<id> ::= // [a-z][a-z]* cualquier conjunto de letras en minúscula\n",
    "```\n",
    "\n",
    "* Enuncie en forma general qué forma deben tener las sentencias para que sean aceptadas por esta gramática\n",
    "* Analice si la gramática planteada es ambigua. Si su respuesta es afirmativa indique por qué lo es y muestre la existencia de ambigüedad mediante un ejemplo. Si su respuesta en negativa, escriba dos expresiones que sean aceptadas por la gramática para cada una de las alternativas de la regla \\<comienzo\\>\n",
    "* ¿Qué puede deducir de la semántica y de la sintaxis de los elementos del lenguaje que se reconocerían a través de esta gramática?"
   ]
  },
  {
   "cell_type": "code",
   "execution_count": null,
   "id": "45568fef-933d-48c0-96d6-95d2fcfa097f",
   "metadata": {},
   "outputs": [],
   "source": []
  },
  {
   "cell_type": "markdown",
   "id": "fba0d15a-efd2-4909-99e5-6fed2424fad2",
   "metadata": {},
   "source": [
    "Se tiene el lenguaje Pascal definido en parte por las siguientes reglas BNF:\n",
    "\n",
    "```\n",
    "<Bloque> ::= <Declaracion Etiqueta><Definición Constantes><Definicion de tipos><Declaracion Variables><Declaracion de procedimientos><Instruccion compuesta>\n",
    "<Instruccion> ::== <Instruccion sin etiqueta> | <etiqueta> : <Instruccion sin etiqueta>\n",
    "<Instruccion sin etiqueta> ::= <Instruccion simple> | <Instruccion estructurada>\n",
    "<Instruccion simple> ::= <Instruccion de asignación> | <Instruccion de procedimiento> | <Instruccion goto> |\n",
    "<Instruccion vacía>\n",
    "<Instruccion compuesta> ::= begin <Instruccion> {; <Instruccion> } end;\n",
    "<Instruccion de procedimiento> ::= <Identificador de procedimiento> | <Identificador de procedimiento>(<Parámetro real> {, <Parámetro real> })\n",
    "<Instruccion estructurada> ::= <Instruccion compuesta> | <Instruccion condicional> | <Instruccion de repetición>\n",
    "<Declaración de procedimiento> ::= <Encabezado de Procedimiento> <Bloque>\n",
    "```\n",
    "\n",
    "* Responder si cada una de las siguientes afirmaciones son verdaderas o falsas, justificando con las reglas anteriores que implican que el lenguaje posee esa característica\n",
    "  * El lenguaje posee anidamiento de bloques de instrucciones dentro de bloques de instrucciones\n",
    "  * El lenguaje siempre permite la declaración de variables en las instrucciones que se encuentran enmarcadas dentro de las palabras begin y end\n",
    "  * Es posible declarar un procedimiento dentro de las instrucciones enmarcadas por begin y end\n",
    "  * El lenguaje admite más de un parámetro real en una instrucción de pasaje de parámetros"
   ]
  },
  {
   "cell_type": "code",
   "execution_count": null,
   "id": "785be7d2-6fb7-420d-b65e-ebc82a8ba55c",
   "metadata": {},
   "outputs": [],
   "source": []
  },
  {
   "cell_type": "markdown",
   "id": "142230d0-84bf-4df5-8bc3-e99a59e949c1",
   "metadata": {},
   "source": [
    "Teniendo las siguientes reglas en BNF que nos definen la sintaxis de las sentencias de la asignación de un determinado lenguaje:\n",
    "\n",
    "```\n",
    "<asig> ::= <variable> := <exp>\n",
    "<exp> ::= <término> | <exp> + <término> | <exp> - término>\n",
    "<término> ::= <factor> | <. término> * <factor> |<término> / <factor>\n",
    "<factor> ::= <primario> | <factor> ^ <primario>\n",
    "<primario> ::= <variable> | <número> | (<exp>)\n",
    "<variable> ::= <identif> | <identif> [<lista_índices>]\n",
    "<lista_índices> ::= <exp> | <lista_índices>, <exp>\n",
    "```\n",
    "\n",
    "* Construya el árbol de parsing para las siguientes sentencias de asignación:\n",
    "  * A : = B * (C + D) c) X[4] : = Y + 3\n",
    "  * E : = C - D ^A + E / B d) X[I,J] : = X[J,I]"
   ]
  },
  {
   "cell_type": "code",
   "execution_count": null,
   "id": "0fc4dcdf-546d-44cd-8bc8-5382b01db740",
   "metadata": {},
   "outputs": [],
   "source": []
  },
  {
   "cell_type": "markdown",
   "id": "3c5a26e2-2eb7-4048-87bf-f4b7fd079db7",
   "metadata": {},
   "source": [
    "Se tiene un lenguaje que permite emplear los tipos de pasaje de parámetros por nombre, por referencia, por copia valor resultado y por copia valor, según lo descrito por la siguiente gramática:\n",
    "\n",
    "```\n",
    "<comienzo> ::= <declaración> | <invocación>\n",
    "<declaración> ::= FUNCTION <identificador> ( <lista_parametros> )\n",
    "<lista_parametros> ::= <parametro> | <parametro>; <lista_parametros>\n",
    "<parámetro> ::= <tipo de pasaje> : <identificador> : <tipo de datos> = <valor por defecto>\n",
    "<tipo_de_pasaje>::= name | reference | inout | in\n",
    "<tipo_de_datos> ::= integer | float | string | array | ...\n",
    "<invocación> ::= <identificador> ( <list_id> ) ;\n",
    "<list_id> ::= <identificador> | <identificador> , <list_id>\n",
    "<valor_por_defecto> ::= <constante> | <expresion> | <invocacion_funcion> | ... \n",
    "<asignación> ::= <identificador> = <resultado>;\n",
    "<resultado> ::= <identificador> | <expresión> | <invocacion_funcion> | ...\n",
    "<identificador> ::= // [a-z][a-z]* \n",
    "```\n",
    "\n",
    "* Indicar si las siguientes declaraciones e invocaciones de funciones son aceptadas por esta gramática. Justifique sus respuestas especificando las reglas por las cuales son aceptadas\n",
    "  * ``` function imprimir(mensaje){...} ```\n",
    "  * ``` PQ(); ```\n",
    "  * ``` PP(x,t,y,z,PQ); ```\n",
    "  * ``` function PP(name:a:integer; name:e:integer; reference:b:integer; inout:c:integer; in:d:integer=3) ```\n",
    "  * ``` PQ(x,t,y,z,w); ```\n",
    "  * ``` function PQ(name:a:integer=5; name:e:integer=8; reference:b:integer=0; inout:c:integer =1; in:d:integer=3) ```\n",
    "  * ``` PP(3, ,x); ```\n",
    "  * Para aquellas expresiones que no sean aceptadas ¿qué reglas agregaría, quitaría o modificaría de la gramática? Responda por cada inciso"
   ]
  },
  {
   "cell_type": "code",
   "execution_count": null,
   "id": "b4cb6ab0-a499-4b23-94c8-a5c159a54ead",
   "metadata": {},
   "outputs": [],
   "source": []
  },
  {
   "cell_type": "markdown",
   "id": "6cf1a395-cb78-4c59-9486-fb7e241a38db",
   "metadata": {},
   "source": [
    "Dado el siguiente subconjunto de reglas BNF del lenguaje Pascal basadas en la definición de función y procedimiento:\n",
    "\n",
    "```\n",
    "<P> ::= <Identificador> | <Identificador> (<R> {, <R>})\n",
    "<PFD> ::= <PD>|<FD>\n",
    "<PD> ::= <PH><Bloque>\n",
    "<PH> ::= procedure<Identificador> : <T> | procedure<Identificador>(<F>{;<F>});\n",
    "<F> ::= <PG>|var <PG>| function<PG>|procedure<Identificador>{,<Identificador>}\n",
    "<PG> ::= <Identificador>{,<Identificador>}:<Tipo>\n",
    "<FD> ::= <FH><Bloque>\n",
    "<FH> ::= function<Identificador>: <T>; | function<Identificador>(<F>{;<F>}) : <T>;\n",
    "<T> ::= <Integer>|<-Real>|<Boolean>|<String>|<Char>\n",
    "```\n",
    "\n",
    "* Aclaración: las llaves indican que puede haber repeticiones de los elementos que contienen\n",
    "* Escribir 2 ejemplos diferentes de definición y llamada, uno a función y otro a procedimiento, aceptadas por esta gramática\n",
    "* Modificar/agregar reglas para: a. No permitir el pasaje de parámetros por referencia. b. Lograr que una función sólo pueda devolver los tipos: Integer y Char. c. Que la máxima cantidad de parámetros sea tres"
   ]
  },
  {
   "cell_type": "code",
   "execution_count": null,
   "id": "1b146a42-1405-4922-a519-953953ec197a",
   "metadata": {},
   "outputs": [],
   "source": []
  },
  {
   "cell_type": "markdown",
   "id": "5c5b197f-cfc6-4d6c-aeb8-28ea2cba6214",
   "metadata": {},
   "source": [
    "Considere el siguiente fragmento BNF de un lenguaje y responda los incisos:\n",
    "\n",
    "```\n",
    "<type> ::= <primitive type> | <reference type>\n",
    "<primitive type> ::= <numeric type> | boolean\n",
    "<numeric type> ::= <integral type> | <floating-point type>\n",
    "<integral type> ::= byte | short | int | long | char\n",
    "<floating-point type> ::= float | double\n",
    "<reference type> ::= <class or interface type> | <array type>\n",
    "<class type> ::= <type name>\n",
    "<interface type> ::= <type name>\n",
    "<array type> ::= <type> [ ]\n",
    "<field declaration> ::= <field modifiers>? <type> <variable declarator id>\n",
    "```\n",
    "\n",
    "* ¿Puede declararse arreglo como atributo mezclando tipos numéricos diferentes? Fundamentar la respuesta\n",
    "* Agregar y/o modificar las reglas necesarias para que los arreglos de punto flotante se declaren utilizando los símbolos \"[\" y \"]\" y los arreglos de tipos integrales se declaren utilizando los símbolos \"(\" y \")\"\n",
    "* Agregar y/o modificar las reglas necesarias para que no se puedan declarar arreglos de tipos booleanos\n",
    "* Agregar y/o modificar las reglas necesarias para que los modificadores de declaración en variables no puedan aplicarse sobre tipos interfaces\n",
    "* ¿Es posible agregar/modificar reglas que permitan habilitar / deshabilitar operaciones sobre variables cuyo tipo pertenece a alguna clase determinada? Fundamentar la respuesta"
   ]
  },
  {
   "cell_type": "code",
   "execution_count": null,
   "id": "274ae773-ad02-4389-aa71-219ab01ef95c",
   "metadata": {},
   "outputs": [],
   "source": []
  },
  {
   "cell_type": "markdown",
   "id": "1e0f8e13-fed4-4e7e-bac3-fb1a5c99492c",
   "metadata": {},
   "source": [
    "## EBNF"
   ]
  },
  {
   "cell_type": "markdown",
   "id": "f34d2b8c-c6ad-41ff-9de8-d78f49a6f0c1",
   "metadata": {},
   "source": [
    "La siguiente gramática EBNF se basa en la sintaxis de los enunciados del lenguaje de programación Módula-2:\n",
    "\n",
    "```\n",
    "S ::= []\n",
    "| id := expr\n",
    "| if expr then SL {elsif expr then SL} [else SL] end \n",
    "| loop SL end\n",
    "| while expr do SL end\n",
    "SL ::= S {; S}\n",
    "```\n",
    "\n",
    "* El componente léxico id representa una variable, mientras que expr representa una expresión. Observe que [] representa la cadena vacía\n",
    "* Escriba una versión BNF de esta gramática\n",
    "* Escriba un esquema de sintaxis para esta gramática"
   ]
  },
  {
   "cell_type": "code",
   "execution_count": null,
   "id": "d8b2bd3c-3292-4ce7-b9d6-7d88b77a9f2a",
   "metadata": {},
   "outputs": [],
   "source": []
  },
  {
   "cell_type": "markdown",
   "id": "497dd328-58c0-4579-8f22-514d3f5be9b0",
   "metadata": {},
   "source": [
    "## Árbol Sintáctico"
   ]
  },
  {
   "cell_type": "markdown",
   "id": "83ae6012-de4d-4c41-beaf-9444d3e8310a",
   "metadata": {},
   "source": [
    "Sea la siguiente gramática expresada en notación EBNF:\n",
    "\n",
    "```\n",
    "<expresion> : := <termino> { OR <termino> }\n",
    "<termino> ::= <factor> { AND <factor> }\n",
    "<factor> ::= ‘(‘ <expresion> ‘)’' | <valor>\n",
    "<valor> ::= verdadero | falso | a | b | c\n",
    "```\n",
    "\n",
    "* Para cada una de las siguientes cadenas de la gramática, dibujar su árbol sintáctico\n",
    "  * verdadero AND ( falso OR verdadero)\n",
    "  * verdadero AND falso OR verdadero\n",
    "  * ((a AND b) OR (c AND a))\n",
    "  * a AND (c OR verdadero) AND (verdadero AND b)"
   ]
  },
  {
   "cell_type": "code",
   "execution_count": null,
   "id": "1b83b2b2-e579-4a0f-91e7-46bcc84cf426",
   "metadata": {},
   "outputs": [],
   "source": []
  },
  {
   "cell_type": "markdown",
   "id": "80ba9d25-b9cb-456f-9c2a-885e8a41073f",
   "metadata": {},
   "source": [
    "## Diagrama Sintáctico"
   ]
  },
  {
   "cell_type": "markdown",
   "id": "d2c9daf6-a053-41cc-bfaa-248f52b7a861",
   "metadata": {},
   "source": [
    "```\n",
    "<expresion> : := <termino> { OR <termino> }\n",
    "<termino> ::= <factor> { AND <factor> }\n",
    "<factor> ::= ‘(‘ <expresion> ‘)’' | <valor>\n",
    "<valor> ::= verdadero | falso | a | b | c\n",
    "```"
   ]
  },
  {
   "cell_type": "code",
   "execution_count": null,
   "id": "87bc103f-a84b-4619-8e32-22b8dd17fc6c",
   "metadata": {},
   "outputs": [],
   "source": []
  },
  {
   "cell_type": "markdown",
   "id": "e82806a7-c98b-48a1-8001-d2fff95b5ec0",
   "metadata": {},
   "source": [
    "```\n",
    "Expresión ::= Término {(‘+’ |’-’) Término}\n",
    "Término ::= Factor {(‘*’ | div) Factor}\n",
    "Factor ::= ‘(’ Expresión ‘)’ | Variable | Constante\n",
    "```"
   ]
  },
  {
   "cell_type": "code",
   "execution_count": null,
   "id": "9430086b-ec3b-42ce-a2d3-caf10dd35994",
   "metadata": {},
   "outputs": [],
   "source": []
  }
 ],
 "metadata": {
  "kernelspec": {
   "display_name": "Python [conda env:base] *",
   "language": "python",
   "name": "conda-base-py"
  },
  "language_info": {
   "codemirror_mode": {
    "name": "ipython",
    "version": 3
   },
   "file_extension": ".py",
   "mimetype": "text/x-python",
   "name": "python",
   "nbconvert_exporter": "python",
   "pygments_lexer": "ipython3",
   "version": "3.12.7"
  }
 },
 "nbformat": 4,
 "nbformat_minor": 5
}
