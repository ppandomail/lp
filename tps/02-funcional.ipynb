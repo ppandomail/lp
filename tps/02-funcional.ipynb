{
 "cells": [
  {
   "cell_type": "markdown",
   "id": "3b28a6ce-0f8a-4322-91cc-deabbffeb274",
   "metadata": {},
   "source": [
    "# TP Funcional\n",
    "---"
   ]
  },
  {
   "cell_type": "markdown",
   "id": "ae44d953-93ba-4521-a2cd-499355dcf7ef",
   "metadata": {},
   "source": [
    "## Descuento precio"
   ]
  },
  {
   "cell_type": "markdown",
   "id": "872ffc2e-f2d0-41d8-b6b8-9875ae026821",
   "metadata": {},
   "source": [
    "Escribir una función que aplique un descuento a un precio y otra que aplique el IVA a un precio. Escribir una tercera función que reciba un diccionario con los precios y porcentajes de una cesta de la compra, y una de las funciones anteriores, y utilice la función pasada para aplicar los descuentos o el IVA a los productos de la cesta y devolver el precio final de la cesta"
   ]
  },
  {
   "cell_type": "code",
   "execution_count": 1,
   "id": "87f0c6f2-3c5a-4e81-8661-8e8960edc2cc",
   "metadata": {},
   "outputs": [
    {
     "name": "stdout",
     "output_type": "stream",
     "text": [
      "241.0\n",
      "159.0\n"
     ]
    }
   ],
   "source": [
    "def aplicar_descuento(precio, descuento):\n",
    "    return precio - precio * descuento / 100\n",
    "\n",
    "def aplicar_iva(precio, iva):\n",
    "    return precio + precio * iva / 100\n",
    "\n",
    "def aplicar(dicc, funcion):\n",
    "    precio_final = 0\n",
    "    for value in dicc.values():\n",
    "        precio_final += funcion(value.get('precio'), value.get('porcentaje'))\n",
    "    return precio_final\n",
    "\n",
    "print(aplicar({'1': {'precio': 100, 'porcentaje': 20}, '2': {'precio': 100, 'porcentaje': 21} }, aplicar_iva))\n",
    "print(aplicar({'1': {'precio': 100, 'porcentaje': 20}, '2': {'precio': 100, 'porcentaje': 21} }, aplicar_descuento))"
   ]
  },
  {
   "cell_type": "markdown",
   "id": "2763eb7d-890e-47b5-9ecd-b2cd4b6c5132",
   "metadata": {},
   "source": [
    "## Calculadora"
   ]
  },
  {
   "cell_type": "markdown",
   "id": "2aaf3530-a3ac-44ed-9936-08c72da68b9c",
   "metadata": {},
   "source": [
    "Escribir una función que simule una calculadora científica que permita calcular el seno, coseno, tangente, exponencial y logaritmo neperiano. La función preguntará al usuario el valor y la función a aplicar, y mostrará por pantalla una tabla con los enteros de 1 al valor introducido y el resultado de aplicar la función a esos enteros"
   ]
  },
  {
   "cell_type": "code",
   "execution_count": 3,
   "id": "f7bbfd8f-aac9-42c3-853c-21deb2bfda0d",
   "metadata": {},
   "outputs": [
    {
     "name": "stdin",
     "output_type": "stream",
     "text": [
      "Número:  5\n",
      "Función (sin, cos, tan, exp, log):  sin\n"
     ]
    },
    {
     "name": "stdout",
     "output_type": "stream",
     "text": [
      "1 = 0.8414709848078965)\n",
      "2 = 0.9092974268256817)\n",
      "3 = 0.1411200080598672)\n",
      "4 = -0.7568024953079282)\n",
      "5 = -0.9589242746631385)\n"
     ]
    }
   ],
   "source": [
    "import math\n",
    "\n",
    "def calculadora():\n",
    "    numero = int(input('Número: '))\n",
    "    funcion = input('Función (sin, cos, tan, exp, log): ')\n",
    "    for i in range(1, numero + 1):\n",
    "        print(f'{i} = {eval('math.' + funcion + '(' + str(i) + ')')})')\n",
    "\n",
    "calculadora()"
   ]
  },
  {
   "cell_type": "markdown",
   "id": "9b05d57b-5da0-4e23-91ab-6dd398ff37d6",
   "metadata": {},
   "source": [
    "## Aplicar función"
   ]
  },
  {
   "cell_type": "markdown",
   "id": "256457ce-69e2-4392-a0b7-9f532dd69167",
   "metadata": {},
   "source": [
    "Escribir una función que reciba otra función y una lista, y devuelva otra lista con el resultado de aplicar la función dada a cada uno de los elementos de la lista"
   ]
  },
  {
   "cell_type": "code",
   "execution_count": 4,
   "id": "09b257a7-7347-4403-8bc6-f01e6612a193",
   "metadata": {},
   "outputs": [
    {
     "name": "stdout",
     "output_type": "stream",
     "text": [
      "[2, 3, 4, 5, 6]\n",
      "['impar', 'par', 'impar', 'par', 'impar']\n"
     ]
    }
   ],
   "source": [
    "def aplicar_funcion(funcion, lista):\n",
    "    lista_a_devolver = []\n",
    "    for elem in lista:\n",
    "        lista_a_devolver.append(funcion(elem))\n",
    "    return lista_a_devolver\n",
    "\n",
    "def incrementar_1(numero):\n",
    "    return numero + 1\n",
    "\n",
    "def par_impar(numero):\n",
    "    return 'par' if numero%2 == 0 else 'impar'\n",
    "\n",
    "print(aplicar_funcion(incrementar_1, [1, 2, 3, 4, 5]))\n",
    "print(aplicar_funcion(par_impar, [1, 2, 3, 4, 5]))"
   ]
  },
  {
   "cell_type": "markdown",
   "id": "af750cf0-8f9a-4194-84a1-2a598a9f683e",
   "metadata": {},
   "source": [
    "## Filtro true"
   ]
  },
  {
   "cell_type": "markdown",
   "id": "2a38b3d6-d6d8-46af-a563-ac96999be0e1",
   "metadata": {},
   "source": [
    "Escribir una función que reciba otra función booleana y una lista, y devuelva otra lista con los elementos de la lista que devuelvan True al aplicarles la función booleana"
   ]
  },
  {
   "cell_type": "code",
   "execution_count": 5,
   "id": "b131c5a2-1bbc-4885-8535-21d155dc6ce0",
   "metadata": {},
   "outputs": [
    {
     "name": "stdout",
     "output_type": "stream",
     "text": [
      "[2, 4, 6, 8, 10]\n"
     ]
    }
   ],
   "source": [
    "def filtrar_true(funcion_booleana, lista):\n",
    "    lista_a_devolver = []\n",
    "    for elem in lista:\n",
    "        if funcion_booleana(elem):\n",
    "            lista_a_devolver.append(elem)\n",
    "    return lista_a_devolver\n",
    "\n",
    "def es_par(numero):\n",
    "    return numero % 2 == 0\n",
    "\n",
    "print(filtrar_true(es_par, [1, 2, 3, 4, 5, 6, 7, 8, 9, 10]))"
   ]
  },
  {
   "cell_type": "markdown",
   "id": "13e5857b-72e3-43ec-a886-1fd050b75647",
   "metadata": {},
   "source": [
    "## Diccionario palabras longitud"
   ]
  },
  {
   "cell_type": "markdown",
   "id": "0a14983b-339d-4d99-a863-fb1186170193",
   "metadata": {},
   "source": [
    "Escribir una función que reciba una frase y devuelva un diccionario con las palabras que contiene y su longitud"
   ]
  },
  {
   "cell_type": "code",
   "execution_count": 6,
   "id": "68905c30-4291-4d13-b0ac-0a7cf2729f49",
   "metadata": {},
   "outputs": [
    {
     "name": "stdout",
     "output_type": "stream",
     "text": [
      "{'oid': 3, 'mortales': 8, 'el': 2, 'grito': 5, 'sagrado': 7}\n"
     ]
    }
   ],
   "source": [
    "def generar_dicc_palabras_longitud(frase):\n",
    "    return {value: len(value) for value in frase.split()} \n",
    "\n",
    "print(generar_dicc_palabras_longitud('oid mortales el grito sagrado'))"
   ]
  },
  {
   "cell_type": "markdown",
   "id": "0206f429-cd9f-4b9f-ac7f-572c00fe073d",
   "metadata": {},
   "source": [
    "## Lista calificaciones"
   ]
  },
  {
   "cell_type": "markdown",
   "id": "ab1c8bd8-334f-4627-a064-c53c695f6435",
   "metadata": {},
   "source": [
    "Escribir una función reciba una lista de notas y devuelva la lista de calificaciones correspondientes a esas notas"
   ]
  },
  {
   "cell_type": "code",
   "execution_count": 7,
   "id": "afceb744-daf7-438f-9ed5-e8a461032c45",
   "metadata": {},
   "outputs": [
    {
     "name": "stdout",
     "output_type": "stream",
     "text": [
      "['aprobado', 'aprobado', 'desaprobado', 'aprobado']\n"
     ]
    }
   ],
   "source": [
    "def calificaciones(lista):\n",
    "    return list(map(lambda elem : ('aprobado' if elem >= 4 else 'desaprobado'), lista))\n",
    "\n",
    "print(calificaciones([8, 7, 2, 4]))"
   ]
  },
  {
   "cell_type": "markdown",
   "id": "f5990345-fe5d-4b47-8416-098d87d37816",
   "metadata": {},
   "source": [
    "## Diccionario calificaciones"
   ]
  },
  {
   "cell_type": "markdown",
   "id": "9ee3ab54-1891-4f67-bf43-295de23fdc66",
   "metadata": {},
   "source": [
    "Escribir una función reciba un diccionario con las asignaturas y las notas de un alumno y devuelva otro diccionario con las asignaturas en mayúsculas y las calificaciones correspondientes a las notas"
   ]
  },
  {
   "cell_type": "code",
   "execution_count": 8,
   "id": "c165a56f-329e-46e0-b630-50e0672668b7",
   "metadata": {},
   "outputs": [
    {
     "name": "stdout",
     "output_type": "stream",
     "text": [
      "{'MATEMATICAS': 'aprobado', 'INGLES': 'aprobado', 'BIOLOGIA': 'desaprobado', 'LENGUA': 'aprobado'}\n"
     ]
    }
   ],
   "source": [
    "def calificaciones(dicc):\n",
    "    return dict(map(lambda kv : (mayusculas(kv[0]), 'aprobado' if kv[1] >= 4 else 'desaprobado'), dicc.items()))\n",
    "\n",
    "def mayusculas(nombre):\n",
    "    return nombre.upper()\n",
    "\n",
    "print(calificaciones({'matematicas': 8, 'ingles': 7, 'biologia': 2, 'lengua': 4}))"
   ]
  },
  {
   "cell_type": "markdown",
   "id": "afc27fe9-6579-4199-821c-dbd64d16ffce",
   "metadata": {},
   "source": [
    "## Diccionario calificaciones aprobadas"
   ]
  },
  {
   "cell_type": "markdown",
   "id": "5a3d17d5-f720-4d22-9d6e-f9226244ba1e",
   "metadata": {},
   "source": [
    "Escribir una función reciba un diccionario con las asignaturas y las notas de un alumno y devuelva otro diccionario con las asignaturas en mayúsculas y las calificaciones correspondientes a las notas aprobadas"
   ]
  },
  {
   "cell_type": "code",
   "execution_count": 9,
   "id": "6da49ebf-37e8-48cd-8f3f-fdff6a35f3cd",
   "metadata": {},
   "outputs": [
    {
     "name": "stdout",
     "output_type": "stream",
     "text": [
      "{'MATEMATICAS': 'aprobado', 'INGLES': 'aprobado', 'LENGUA': 'aprobado'}\n"
     ]
    }
   ],
   "source": [
    "def calificaciones_aprobadas(dicc):\n",
    "    dicc  = dict(map(lambda kv : (mayusculas(kv[0]), 'aprobado' if kv[1] >= 4 else 'desaprobado'), dicc.items()))\n",
    "    return dict(filter(aprobadas, dicc.items()))\n",
    "\n",
    "def mayusculas(nombre):\n",
    "    return nombre.upper()\n",
    "\n",
    "def aprobadas(tupla):\n",
    "    return tupla[1] == 'aprobado'\n",
    "\n",
    "print(calificaciones_aprobadas({'matematicas': 8, 'ingles': 7, 'biologia': 2, 'lengua': 4}))"
   ]
  },
  {
   "cell_type": "markdown",
   "id": "6b7f23cb-b686-4c11-a068-147a109d5799",
   "metadata": {},
   "source": [
    "## Módulo vector"
   ]
  },
  {
   "cell_type": "markdown",
   "id": "d8188175-e734-40bd-93ec-69ea51fc56ae",
   "metadata": {},
   "source": [
    "Escribir una función que calcule el módulo de un vector"
   ]
  },
  {
   "cell_type": "code",
   "execution_count": 10,
   "id": "b6c2e11e-d9f1-4808-956c-c76b4d906287",
   "metadata": {},
   "outputs": [
    {
     "name": "stdout",
     "output_type": "stream",
     "text": [
      "5.0990195135927845\n"
     ]
    }
   ],
   "source": [
    "from functools import reduce\n",
    "from math import sqrt\n",
    "\n",
    "def modulo_vector(lista):\n",
    "    x = pow(reduce(diferencia, lista[0]), 2)\n",
    "    y = pow(reduce(diferencia, lista[1]), 2)\n",
    "    return sqrt(x+y)\n",
    "\n",
    "def diferencia(x1, x2):\n",
    "    return x1 - x2\n",
    "\n",
    "print(modulo_vector([[2, -3], [1, 2]]))"
   ]
  },
  {
   "cell_type": "markdown",
   "id": "d2ec2076-c70f-44a7-8e2d-5d1d376746b8",
   "metadata": {},
   "source": [
    "## Valores atípicos"
   ]
  },
  {
   "cell_type": "markdown",
   "id": "08eadfea-59a3-48a7-b041-ee7c1d1a2d76",
   "metadata": {},
   "source": [
    "Escribir una función que reciba una muestra de números y devuelva los valores atípicos, es decir, los valores cuya puntuación típica sea mayor que 3 o menor que -3. Nota: La puntuación típica de un valor se obtiene restando la media y dividiendo por la desviación típica de la muestra"
   ]
  },
  {
   "cell_type": "code",
   "execution_count": 14,
   "id": "45e5e32f-e8f6-4454-b6db-17d652d1a524",
   "metadata": {},
   "outputs": [
    {
     "name": "stdout",
     "output_type": "stream",
     "text": [
      "[]\n"
     ]
    }
   ],
   "source": [
    "from functools import reduce\n",
    "from math import sqrt\n",
    "\n",
    "def calcular_media(lista):\n",
    "    return reduce(lambda x, y : x + y, lista)/len(lista)\n",
    "\n",
    "def desviacion_tipica(lista):\n",
    "    media = calcular_media(lista)\n",
    "    lista = list(map(lambda x: pow(x - media, 2), lista))\n",
    "    desv  = reduce(lambda x, y : x + y, lista)\n",
    "    return sqrt(desv / (len(lista) - 1))\n",
    "\n",
    "def puntuacion_tipica(valor, lista):\n",
    "    return (valor - calcular_media(lista))/desviacion_tipica(lista)\n",
    "\n",
    "def valores_atipicos(lista):\n",
    "    return list(filter(lambda x : es_atipico(puntuacion_tipica(x, lista)), lista))\n",
    "\n",
    "def es_atipico(valor):\n",
    "    return valor > 3 or valor < -3\n",
    "\n",
    "print(valores_atipicos([1, 2, 3, 34]))"
   ]
  }
 ],
 "metadata": {
  "kernelspec": {
   "display_name": "Python [conda env:base] *",
   "language": "python",
   "name": "conda-base-py"
  },
  "language_info": {
   "codemirror_mode": {
    "name": "ipython",
    "version": 3
   },
   "file_extension": ".py",
   "mimetype": "text/x-python",
   "name": "python",
   "nbconvert_exporter": "python",
   "pygments_lexer": "ipython3",
   "version": "3.12.7"
  }
 },
 "nbformat": 4,
 "nbformat_minor": 5
}
